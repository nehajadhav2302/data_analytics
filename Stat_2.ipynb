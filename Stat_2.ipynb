{
  "nbformat": 4,
  "nbformat_minor": 0,
  "metadata": {
    "colab": {
      "provenance": [],
      "authorship_tag": "ABX9TyN8pXduFdxDQeOvioa9Cep/",
      "include_colab_link": true
    },
    "kernelspec": {
      "name": "python3",
      "display_name": "Python 3"
    },
    "language_info": {
      "name": "python"
    }
  },
  "cells": [
    {
      "cell_type": "markdown",
      "metadata": {
        "id": "view-in-github",
        "colab_type": "text"
      },
      "source": [
        "<a href=\"https://colab.research.google.com/github/nehajadhav2302/data_analytics/blob/main/Stat_2.ipynb\" target=\"_parent\"><img src=\"https://colab.research.google.com/assets/colab-badge.svg\" alt=\"Open In Colab\"/></a>"
      ]
    },
    {
      "cell_type": "markdown",
      "source": [
        "# Statistics Advance Part 1"
      ],
      "metadata": {
        "id": "WIjlkvi2hg8u"
      }
    },
    {
      "cell_type": "markdown",
      "source": [
        "**1. What is a random variable in probability theory?**\n",
        "\n",
        "->\n",
        "\n",
        "* A Random variable in statistics is a function that assigns a real value to an outcome in the sample space of a random experiment.\n",
        "* For example: if you roll a die, you can assign a number to each possible outcome.\n",
        "* There are two basic types of random variables:\n",
        " * Discrete Random Variables (which take on specific values).\n",
        " * Continuous Random Variables (assume any value within a given range)."
      ],
      "metadata": {
        "id": "EknRjM3Whu_I"
      }
    },
    {
      "cell_type": "markdown",
      "source": [
        "**2. What are the types of random variables?**\n",
        "\n",
        "->\n",
        "\n",
        "* **Discrete Random Variables**: Take countable, distinct values.\n",
        "Example: Number of students in a class, number of heads in coin tosses.\n",
        "\n",
        "* **Continuous Random Variables**: Take any value within a continuous range.\n",
        "Example: Height, weight, temperature."
      ],
      "metadata": {
        "id": "qWCTi0H0jNQc"
      }
    },
    {
      "cell_type": "markdown",
      "source": [
        "**3. What is the difference between discrete and continuous distributions?**\n",
        "\n",
        "->\n",
        "\n",
        "* **Discrete Distributions:**\n",
        "\n",
        " * The random variable takes specific, countable values.\n",
        "\n",
        " * Probabilities are assigned directly to these individual values.\n",
        "\n",
        " * The sum of all probabilities equals 1.\n",
        "\n",
        "* **Continuous Distributions:**\n",
        "\n",
        " * The random variable can take any value within a range.\n",
        "\n",
        " * Probabilities are described using a probability density function (PDF).\n",
        "\n",
        " * The total area under the PDF curve equals 1."
      ],
      "metadata": {
        "id": "RKdfXSsxjd1E"
      }
    },
    {
      "cell_type": "markdown",
      "source": [
        "**4. What are probability distribution functions (PDF)?**\n",
        "\n",
        "->\n",
        "\n",
        "* A Probability Distribution Function (PDF) describes the likelihood of different outcomes for a random variable.\n",
        "* For discrete variables: PDF gives the probability for each exact value.\n",
        "* For continuous variables: PDF represents a density — the probability for a specific value is 0, but probabilities for intervals are calculated by integrating the PDF over that interval.\n",
        "\n"
      ],
      "metadata": {
        "id": "jr8zJ7DijefB"
      }
    },
    {
      "cell_type": "markdown",
      "source": [
        "**5. How do cumulative distribution functions (CDF) differ from probability distribution functions (PDF)?**\n",
        "\n",
        "->\n",
        "\n",
        "**CDF (Cumulative Distribution Function):**\n",
        "- Gives the probability that the random variable is less than or equal to a specific value.\n",
        "- Formula:  \n",
        "  $F(x) = P(X \\leq x)$\n",
        "- CDF always increases from 0 to 1.\n",
        "\n",
        "**PDF (Probability Distribution Function):**\n",
        "- Describes the probability density at a particular point (for continuous) or probability at a point (for discrete).\n",
        "- The derivative of the CDF (for continuous variables) gives the PDF.\n"
      ],
      "metadata": {
        "id": "7svfXd1-jivZ"
      }
    },
    {
      "cell_type": "markdown",
      "source": [
        "**6. What is a discrete uniform distribution?**\n",
        "\n",
        "->\n",
        "\n",
        "- A Discrete Uniform Distribution is a distribution where all possible outcomes are equally likely.\n",
        "- If there are $n$ possible outcomes, each has a probability of $\\frac{1}{n}$.\n",
        "- *Example:* Rolling a fair six-sided die. Each outcome (1 to 6) has a probability of $\\frac{1}{6}$."
      ],
      "metadata": {
        "id": "McgSQvV2jisD"
      }
    },
    {
      "cell_type": "markdown",
      "source": [
        "**7. What are the key properties of a Bernoulli distribution?**\n",
        "\n",
        "->\n",
        "\n",
        "- A Bernoulli distribution models a random experiment with only two possible outcomes: \"success\" (1) and \"failure\" (0).\n",
        "- Probability of success = $p$; probability of failure = $1-p$.\n",
        "- Mean (Expected Value): $E(X) = p$\n",
        "- Variance: $\\text{Var}(X) = p(1-p)$\n",
        "- *Example:* Tossing a coin where head = success."
      ],
      "metadata": {
        "id": "Sp7_9YcejioF"
      }
    },
    {
      "cell_type": "markdown",
      "source": [
        "**8. What is the binomial distribution, and how is it used in probability?**\n",
        "\n",
        "->\n",
        "- A Binomial distribution models the number of successes in $n$ independent Bernoulli trials.\n",
        "- Formula:  \n",
        "  $P(X = k) = \\binom{n}{k} p^k (1-p)^{n-k}$\n",
        "- Mean: $E(X) = np$\n",
        "- Variance: $\\text{Var}(X) = np(1-p)$\n",
        "- *Example:* Counting the number of heads in 10 coin tosses."
      ],
      "metadata": {
        "id": "34uJE3oljilX"
      }
    },
    {
      "cell_type": "markdown",
      "source": [
        "**9. What is the Poisson distribution and where is it applied?**\n",
        "\n",
        "->\n",
        "\n",
        "- A Poisson distribution models the number of events occurring in a fixed interval of time or space when events happen independently at a constant average rate $\\lambda$.\n",
        "- Formula:  \n",
        "  $P(X = k) = \\frac{e^{-\\lambda} \\lambda^k}{k!}$\n",
        "- Mean: $E(X) = \\lambda$\n",
        "- Variance: $\\text{Var}(X) = \\lambda$\n",
        "- *Applications:* Modeling arrival of customers, phone calls, or decay of radioactive particles."
      ],
      "metadata": {
        "id": "zEkPHZVWjiiR"
      }
    },
    {
      "cell_type": "markdown",
      "source": [
        "**10. What is a continuous uniform distribution?**\n",
        "\n",
        "->\n",
        "- A Continuous Uniform Distribution has equal probability for all values in a continuous range $[a, b]$.\n",
        "- Probability Density Function (PDF):  \n",
        "  $f(x) = \\frac{1}{b - a}$ for $a \\leq x \\leq b$\n",
        "- Mean: $E(X) = \\frac{a + b}{2}$\n",
        "- Variance: $\\text{Var}(X) = \\frac{(b - a)^2}{12}$\n",
        "- *Example:* Randomly selecting a point on a stick of length 1 meter."
      ],
      "metadata": {
        "id": "ga-dx6JHjido"
      }
    },
    {
      "cell_type": "markdown",
      "source": [
        "**11. What are the characteristics of a normal distribution?**\n",
        "\n",
        "->\n",
        "- Symmetrical and bell-shaped.\n",
        "- Mean = Median = Mode.\n",
        "- Defined by two parameters: mean ($\\mu$) and standard deviation ($\\sigma$).\n",
        "- Total area under the curve equals 1.\n",
        "- The distribution is completely described by $\\mu$ and $\\sigma$.\n",
        "- Empirical rule:\n",
        "  - 68% within $1\\sigma$, 95% within $2\\sigma$, 99.7% within $3\\sigma$."
      ],
      "metadata": {
        "id": "yUDnFJoHjiQn"
      }
    },
    {
      "cell_type": "markdown",
      "source": [
        "**12. What is the standard normal distribution, and why is it important?**\n",
        "\n",
        "- A Standard Normal Distribution is a normal distribution with:\n",
        "  - Mean $\\mu = 0$\n",
        "  - Standard deviation $\\sigma = 1$.\n",
        "- It allows for easy comparison and calculation using standard Z-tables.\n",
        "- All normal distributions can be converted to standard normal via Z-scores."
      ],
      "metadata": {
        "id": "npF9nz22jhYp"
      }
    },
    {
      "cell_type": "markdown",
      "source": [
        "**13. What is the Central Limit Theorem (CLT), and why is it critical in statistics?**\n",
        "\n",
        "->\n",
        "- The Central Limit Theorem states that:\n",
        "  - The sampling distribution of the sample mean approaches a normal distribution as the sample size increases, regardless of the population's original distribution.\n",
        "- This means that, for large sample sizes, statistical inference methods based on the normal distribution can be used even if the underlying population is not normal.\n",
        "- The CLT is critical because it justifies the widespread use of normal distribution techniques in real-world data analysis."
      ],
      "metadata": {
        "id": "fJUfvYwOjfw7"
      }
    },
    {
      "cell_type": "markdown",
      "source": [
        "**14. How does the Central Limit Theorem relate to the normal distribution?**\n",
        "\n",
        "- The Central Limit Theorem explains that:\n",
        "  - As the sample size increases, the distribution of the sample mean becomes approximately normal, even if the population itself is not normally distributed.\n",
        "- This allows us to use normal distribution techniques for analyzing sample means, especially when $n \\geq 30$ (common rule of thumb).\n",
        "- Therefore, the normal distribution becomes a foundation for many statistical methods because of the CLT."
      ],
      "metadata": {
        "id": "gMpvtrPkjg0w"
      }
    },
    {
      "cell_type": "markdown",
      "source": [
        "**15. What is the application of Z statistics in hypothesis testing?**\n",
        "\n",
        "- The Z statistic is used to determine how far a sample statistic (like the sample mean) is from the population parameter under the null hypothesis.\n",
        "- It helps to decide whether to reject the null hypothesis.\n",
        "- Formula:  \n",
        "  $Z = \\frac{\\bar{X} - \\mu}{\\frac{\\sigma}{\\sqrt{n}}}$\n",
        "- If the calculated Z value falls into the critical region (based on significance level $\\alpha$), the null hypothesis is rejected.\n",
        "- Z-tests are commonly used when:\n",
        "  - The population standard deviation ($\\sigma$) is known.\n",
        "  - The sample size is large ($n \\geq 30$)."
      ],
      "metadata": {
        "id": "zURXhdr9qg8r"
      }
    },
    {
      "cell_type": "markdown",
      "source": [
        "**16. How do you calculate a Z-score, and what does it represent?**\n",
        "\n",
        "- The **Z-score** is calculated using the formula:  \n",
        "  $Z = \\frac{X - \\mu}{\\sigma}$\n",
        "- It represents how many standard deviations an observation $X$ is from the mean $\\mu$.\n",
        "- A positive Z-score means the value is above the mean; a negative Z-score means it is below the mean.\n",
        "- Z-scores allow us to understand the relative position of a value within a distribution."
      ],
      "metadata": {
        "id": "VbOPDlimqg5M"
      }
    },
    {
      "cell_type": "markdown",
      "source": [
        "**17. What are point estimates and interval estimates in statistics?**\n",
        "\n",
        "- **Point Estimate:**  \n",
        "  - A single value used to estimate a population parameter.  \n",
        "  - Example: sample mean $\\bar{X}$ as an estimate of population mean $\\mu$.\n",
        "  \n",
        "- **Interval Estimate:**  \n",
        "  - A range of values within which the population parameter is expected to lie, with a certain level of confidence.  \n",
        "  - Example: Confidence Interval (CI)."
      ],
      "metadata": {
        "id": "Uy20AlbXqg2G"
      }
    },
    {
      "cell_type": "markdown",
      "source": [
        "**18. What is the significance of confidence intervals in statistical analysis?**\n",
        "\n",
        "- Confidence intervals provide a range where the true population parameter is likely to lie.\n",
        "- Associated with a confidence level (e.g., 95% confidence level means we are 95% sure the interval contains the true parameter).\n",
        "- A wider interval indicates more uncertainty, while a narrower interval indicates higher precision.\n"
      ],
      "metadata": {
        "id": "yPknXYlQqgy9"
      }
    },
    {
      "cell_type": "markdown",
      "source": [
        "**19. What is the relationship between a Z-score and a confidence interval?**\n",
        "\n",
        "- Z-scores are used to calculate the margin of error in confidence intervals.\n",
        "- Formula for confidence interval when $\\sigma$ is known:  \n",
        "  $\\bar{X} \\pm Z \\cdot \\frac{\\sigma}{\\sqrt{n}}$\n",
        "- Higher confidence level ⇒ larger Z-value ⇒ wider confidence interval."
      ],
      "metadata": {
        "id": "kc-2VZQmqgwM"
      }
    },
    {
      "cell_type": "markdown",
      "source": [
        "**20. How are Z-scores used to compare different distributions?**\n",
        "\n",
        "- Z-scores standardize values from different distributions by converting them into the standard normal scale.\n",
        "- This allows for direct comparison between data from different scales or units.\n",
        "- After standardization, values can be compared using the standard normal distribution table."
      ],
      "metadata": {
        "id": "YZK-8oObqgtb"
      }
    },
    {
      "cell_type": "markdown",
      "source": [
        "**21. What are the assumptions for applying the Central Limit Theorem?**\n",
        "\n",
        "- Random sampling from the population.\n",
        "- Observations are independent.\n",
        "- The population has a finite variance.\n",
        "- Sample size should be sufficiently large (typically $n \\geq 30$ for non-normal populations).\n",
        "- For populations that are already normal, CLT applies even for small sample sizes.\n"
      ],
      "metadata": {
        "id": "7PNJK5BKqgql"
      }
    },
    {
      "cell_type": "markdown",
      "source": [
        "**22. What is the concept of expected value in a probability distribution?**\n",
        "\n",
        "- The **expected value (mean)** represents the long-run average outcome of a random variable after many repetitions.\n",
        "- For a discrete random variable:  \n",
        "  $E(X) = \\sum x_i P(x_i)$\n",
        "- For a continuous random variable:  \n",
        "  $E(X) = \\int_{-\\infty}^{\\infty} x f(x) dx$\n",
        "- The expected value summarizes the central tendency of the distribution."
      ],
      "metadata": {
        "id": "y8W839Ziqgfu"
      }
    },
    {
      "cell_type": "markdown",
      "source": [
        "**23. How does a probability distribution relate to the expected outcome of a random variable?**\n",
        "\n",
        "- A probability distribution assigns probabilities to all possible outcomes of a random variable.\n",
        "- The expected value is calculated based on these probabilities and reflects the average outcome over many trials.\n",
        "- In simple terms:  \n",
        "  **Expected Value = Weighted Average of All Possible Outcomes.**"
      ],
      "metadata": {
        "id": "si6J4zv8qgIm"
      }
    }
  ]
}