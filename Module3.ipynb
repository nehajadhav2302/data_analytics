{
  "nbformat": 4,
  "nbformat_minor": 0,
  "metadata": {
    "colab": {
      "provenance": [],
      "authorship_tag": "ABX9TyPVMt5IRvZs8NcqoLc5dSOL",
      "include_colab_link": true
    },
    "kernelspec": {
      "name": "python3",
      "display_name": "Python 3"
    },
    "language_info": {
      "name": "python"
    }
  },
  "cells": [
    {
      "cell_type": "markdown",
      "metadata": {
        "id": "view-in-github",
        "colab_type": "text"
      },
      "source": [
        "<a href=\"https://colab.research.google.com/github/nehajadhav2302/data_analytics/blob/main/Module3.ipynb\" target=\"_parent\"><img src=\"https://colab.research.google.com/assets/colab-badge.svg\" alt=\"Open In Colab\"/></a>"
      ]
    },
    {
      "cell_type": "markdown",
      "source": [
        "## Python Baiscs Assignment"
      ],
      "metadata": {
        "id": "JVNz7b6snE9s"
      }
    },
    {
      "cell_type": "markdown",
      "source": [
        "**1. Explain the key features of Python that make it a popular choice for programming.**\n",
        "\n",
        "->\n",
        "\n",
        "*   **Simple and Easy to Learn**: Python has a clean and readable syntax similar to English.\n",
        "*   **Interpreted Language:** Python executes code line by line, making it easy to debug.\n",
        "*   **Dynamically Typed**: No need to declare variable types.\n",
        "*   **Extensive Standard Library:** Includes modules for file I/O, math, web services, etc.\n",
        "*   **Portable**: Python code runs on any platform without modification.\n",
        "*   **Open Source**: Freely available for use and modification.\n",
        "*   **Object-Oriented and Functional**: Supports multiple programming paradigms."
      ],
      "metadata": {
        "id": "rIfMGhC2nHmY"
      }
    },
    {
      "cell_type": "markdown",
      "source": [
        "**2. Describe the role of predefined keywords in Python and provide examples of how they are used in a program.**\n",
        "\n",
        "->\n",
        "\n",
        "\n",
        "*   Predefined keywords (also called reserved words) are special words that are built into the Python language. They have fixed meanings and purposes, and you cannot use them as variable names or identifiers.\n",
        "*   Examples of Python Keywords: if, elif, else, while, for, break, continue, true, false, none, and, or, not, range, etc."
      ],
      "metadata": {
        "id": "4fQXxuRaReAE"
      }
    },
    {
      "cell_type": "code",
      "source": [
        "for i in range(5):\n",
        "  print(i)"
      ],
      "metadata": {
        "colab": {
          "base_uri": "https://localhost:8080/"
        },
        "id": "yL4UsDIoSqYi",
        "outputId": "9af73f06-cff4-4098-f99c-f7b5d893b911"
      },
      "execution_count": 1,
      "outputs": [
        {
          "output_type": "stream",
          "name": "stdout",
          "text": [
            "0\n",
            "1\n",
            "2\n",
            "3\n",
            "4\n"
          ]
        }
      ]
    },
    {
      "cell_type": "markdown",
      "source": [
        "**3. Compare and contrast mutable and immutable objects in Python with examples.**\n",
        "\n",
        "->\n",
        "\n",
        "*   **Mutable**\n",
        "1.   Mutable objects are those whose values can be changed after they are created.\n",
        "2.   This means you can modify their content without changing their identity.\n",
        "3. Common examples of mutable objects include lists, dictionaries, and sets.\n",
        "4. For instance, if you create a list and then append an item to it, the original list is updated without creating a new object.\n",
        "\n",
        "*   **Immutable**\n",
        "1.  Immutable objects are those whose values cannot be changed once they are created.\n",
        "2. Any operation that appears to modify an immutable object will actually create a new object.\n",
        "3. Examples of immutable objects include integers, floats, strings, tuples, and booleans.\n",
        "4.  For example, if you take a string and convert it to uppercase, Python will return a new string, and the original one remains unchanged."
      ],
      "metadata": {
        "id": "9tjy91CJRjfp"
      }
    },
    {
      "cell_type": "code",
      "source": [
        "# Mutable Example\n",
        "number=[2,3,4,\"Neha\"]\n",
        "print(number)\n",
        "number[-1]=\"Python\"\n",
        "print(number)"
      ],
      "metadata": {
        "colab": {
          "base_uri": "https://localhost:8080/"
        },
        "id": "S2LjleA4U59A",
        "outputId": "c73f88a3-9b2e-42fe-f54f-db83bcd8ad23"
      },
      "execution_count": 2,
      "outputs": [
        {
          "output_type": "stream",
          "name": "stdout",
          "text": [
            "[2, 3, 4, 'Neha']\n",
            "[2, 3, 4, 'Python']\n"
          ]
        }
      ]
    },
    {
      "cell_type": "code",
      "source": [
        "# Imutable Exmaple\n",
        "a=\"Python\"\n",
        "print(a)\n",
        "a[1]=o\n",
        "print(a)"
      ],
      "metadata": {
        "colab": {
          "base_uri": "https://localhost:8080/",
          "height": 211
        },
        "id": "zD68lrZHU5fj",
        "outputId": "8f5e0766-86bc-4aef-bf71-1eb4a82e45f7"
      },
      "execution_count": 3,
      "outputs": [
        {
          "output_type": "stream",
          "name": "stdout",
          "text": [
            "Python\n"
          ]
        },
        {
          "output_type": "error",
          "ename": "NameError",
          "evalue": "name 'o' is not defined",
          "traceback": [
            "\u001b[0;31m---------------------------------------------------------------------------\u001b[0m",
            "\u001b[0;31mNameError\u001b[0m                                 Traceback (most recent call last)",
            "\u001b[0;32m<ipython-input-3-5b46089945cb>\u001b[0m in \u001b[0;36m<cell line: 0>\u001b[0;34m()\u001b[0m\n\u001b[1;32m      2\u001b[0m \u001b[0ma\u001b[0m\u001b[0;34m=\u001b[0m\u001b[0;34m\"Python\"\u001b[0m\u001b[0;34m\u001b[0m\u001b[0;34m\u001b[0m\u001b[0m\n\u001b[1;32m      3\u001b[0m \u001b[0mprint\u001b[0m\u001b[0;34m(\u001b[0m\u001b[0ma\u001b[0m\u001b[0;34m)\u001b[0m\u001b[0;34m\u001b[0m\u001b[0;34m\u001b[0m\u001b[0m\n\u001b[0;32m----> 4\u001b[0;31m \u001b[0ma\u001b[0m\u001b[0;34m[\u001b[0m\u001b[0;36m1\u001b[0m\u001b[0;34m]\u001b[0m\u001b[0;34m=\u001b[0m\u001b[0mo\u001b[0m\u001b[0;34m\u001b[0m\u001b[0;34m\u001b[0m\u001b[0m\n\u001b[0m\u001b[1;32m      5\u001b[0m \u001b[0mprint\u001b[0m\u001b[0;34m(\u001b[0m\u001b[0ma\u001b[0m\u001b[0;34m)\u001b[0m\u001b[0;34m\u001b[0m\u001b[0;34m\u001b[0m\u001b[0m\n",
            "\u001b[0;31mNameError\u001b[0m: name 'o' is not defined"
          ]
        }
      ]
    },
    {
      "cell_type": "markdown",
      "source": [
        "**4.  Discuss the different types of operators in Python and provide examples of how they are used.**\n",
        "\n",
        "->\n",
        "\n",
        "\n",
        "* **Arithmetic operators**: Arithmetic operators are used with numeric values to perform common mathematical operations.\n",
        "* **Assignment operators**: Assignment operators are used to assign values to variables.\n",
        "* **Comparison operators**: Comparison operators are used to compare two values.\n",
        "* **Logical operators**: Logical operators are used to combine conditional statements.\n",
        "* **Identity operators**: Identity operators are used to compare the objects, not if they are equal, but if they are actually the same object, with the same memory location.\n",
        "* **Membership operators**: Membership operators are used to test if a sequence is presented in an object.\n",
        "* **Bitwise operators**: Bitwise operators are used to compare (binary) numbers."
      ],
      "metadata": {
        "id": "IjtZI72SRmAS"
      }
    },
    {
      "cell_type": "code",
      "source": [
        "# Arithmetic Operators\n",
        "a = 10\n",
        "b = 3\n",
        "\n",
        "print(\"Addition:\", a + b)\n",
        "print(\"Subtraction:\", a - b)\n",
        "print(\"Multiplication:\", a * b)\n",
        "print(\"Division:\", a / b)\n",
        "print(\"Floor Division:\", a // b)\n",
        "print(\"Modulus:\", a % b)\n",
        "print(\"Exponentiation:\", a ** b)"
      ],
      "metadata": {
        "colab": {
          "base_uri": "https://localhost:8080/"
        },
        "id": "rh_IqZEtZpJh",
        "outputId": "f9c35097-e474-481c-a639-bbaf43cd12e8"
      },
      "execution_count": 4,
      "outputs": [
        {
          "output_type": "stream",
          "name": "stdout",
          "text": [
            "Addition: 13\n",
            "Subtraction: 7\n",
            "Multiplication: 30\n",
            "Division: 3.3333333333333335\n",
            "Floor Division: 3\n",
            "Modulus: 1\n",
            "Exponentiation: 1000\n"
          ]
        }
      ]
    },
    {
      "cell_type": "code",
      "source": [
        "# Assignment operators\n",
        "x=10\n",
        "print(x)\n",
        "x+=5\n",
        "print(x)\n",
        "x*=2\n",
        "print(x)"
      ],
      "metadata": {
        "colab": {
          "base_uri": "https://localhost:8080/"
        },
        "id": "qoB0UBpwZpGJ",
        "outputId": "51218f0e-23aa-4fd2-97c9-1e89d517723d"
      },
      "execution_count": 5,
      "outputs": [
        {
          "output_type": "stream",
          "name": "stdout",
          "text": [
            "10\n",
            "15\n",
            "30\n"
          ]
        }
      ]
    },
    {
      "cell_type": "code",
      "source": [
        "# Comparison operators\n",
        "x = 5\n",
        "y = 8\n",
        "\n",
        "print(\"Equal to:\", x == y)\n",
        "print(\"Not equal to:\", x != y)\n",
        "print(\"Greater than:\", x > y)\n",
        "print(\"Less than:\", x < y)\n",
        "print(\"Greater or equal:\", x >= y)\n",
        "print(\"Less or equal:\", x <= y)"
      ],
      "metadata": {
        "colab": {
          "base_uri": "https://localhost:8080/"
        },
        "id": "2n_Y8ZLHZpD5",
        "outputId": "6fce2ee3-c7a5-41c4-9c98-ff5042a0b25a"
      },
      "execution_count": 6,
      "outputs": [
        {
          "output_type": "stream",
          "name": "stdout",
          "text": [
            "Equal to: False\n",
            "Not equal to: True\n",
            "Greater than: False\n",
            "Less than: True\n",
            "Greater or equal: False\n",
            "Less or equal: True\n"
          ]
        }
      ]
    },
    {
      "cell_type": "code",
      "source": [
        "# Logical operators\n",
        "a = True\n",
        "b = False\n",
        "\n",
        "print(\"AND:\", a and b)\n",
        "print(\"OR:\", a or b)\n",
        "print(\"NOT a:\", not a)"
      ],
      "metadata": {
        "colab": {
          "base_uri": "https://localhost:8080/"
        },
        "id": "Z7C6c3lfZpBU",
        "outputId": "b94d9eaa-6de7-42d8-889a-e36d6f29722d"
      },
      "execution_count": 7,
      "outputs": [
        {
          "output_type": "stream",
          "name": "stdout",
          "text": [
            "AND: False\n",
            "OR: True\n",
            "NOT a: False\n"
          ]
        }
      ]
    },
    {
      "cell_type": "code",
      "source": [
        "# Identity operators\n",
        "a = [1, 2, 3]\n",
        "b = a\n",
        "c = [1, 2, 3]\n",
        "\n",
        "print(\"a is b:\", a is b)\n",
        "print(\"a is c:\", a is c)\n",
        "print(\"a is not c:\", a is not c)"
      ],
      "metadata": {
        "colab": {
          "base_uri": "https://localhost:8080/"
        },
        "id": "s93q0SDgZo2l",
        "outputId": "c9cb5cdf-b374-42fc-abfa-ba0b13afc769"
      },
      "execution_count": 8,
      "outputs": [
        {
          "output_type": "stream",
          "name": "stdout",
          "text": [
            "a is b: True\n",
            "a is c: False\n",
            "a is not c: True\n"
          ]
        }
      ]
    },
    {
      "cell_type": "code",
      "source": [
        "# Membership operators\n",
        "fruits = [\"apple\", \"banana\", \"mango\"]\n",
        "\n",
        "print(\"Is 'apple' in list?\", 'apple' in fruits)\n",
        "print(\"Is 'grape' not in list?\", 'grape' not in fruits)"
      ],
      "metadata": {
        "colab": {
          "base_uri": "https://localhost:8080/"
        },
        "id": "jbfw1YbiZnNJ",
        "outputId": "b0750e2e-4f8c-4705-d5c5-664abe61a596"
      },
      "execution_count": 9,
      "outputs": [
        {
          "output_type": "stream",
          "name": "stdout",
          "text": [
            "Is 'apple' in list? True\n",
            "Is 'grape' not in list? True\n"
          ]
        }
      ]
    },
    {
      "cell_type": "code",
      "source": [
        "# Bitwise operators\n",
        "a = 5\n",
        "b = 3\n",
        "\n",
        "print(\"AND:\", a & b)\n",
        "print(\"OR:\", a | b)\n",
        "print(\"XOR:\", a ^ b)\n",
        "print(\"NOT a:\", ~a)\n",
        "print(\"Left Shift:\", a << 1)\n",
        "print(\"Right Shift:\", a >> 1)"
      ],
      "metadata": {
        "colab": {
          "base_uri": "https://localhost:8080/"
        },
        "id": "Otv4eIxMZrcN",
        "outputId": "b40dc497-6f78-4d25-e1a5-d249e99b6c00"
      },
      "execution_count": 10,
      "outputs": [
        {
          "output_type": "stream",
          "name": "stdout",
          "text": [
            "AND: 1\n",
            "OR: 7\n",
            "XOR: 6\n",
            "NOT a: -6\n",
            "Left Shift: 10\n",
            "Right Shift: 2\n"
          ]
        }
      ]
    },
    {
      "cell_type": "markdown",
      "source": [
        "**5. Explain the concept of type casting in Python with examples.**\n",
        "\n",
        "->\n",
        "\n",
        "Type casting is the process of converting the value of one data type into another. Python provides built-in functions to perform type conversions manually.\n",
        "\n",
        "**Types of type casting**\n",
        "\n",
        "*   **Implicit type casting**: Done automatically by Python.\n",
        "*   **Explicit type casting**: Done manually by the programmer using functions."
      ],
      "metadata": {
        "id": "rfFz1Fo0Rpjm"
      }
    },
    {
      "cell_type": "code",
      "source": [
        "# Implicit\n",
        "x = 10\n",
        "y = 2.5\n",
        "\n",
        "result = x + y\n",
        "print(result)\n",
        "print(type(result))"
      ],
      "metadata": {
        "colab": {
          "base_uri": "https://localhost:8080/"
        },
        "id": "q66hKjsSbQHo",
        "outputId": "bce42f84-f4ac-4c24-fc5f-3abaaf319fd9"
      },
      "execution_count": 11,
      "outputs": [
        {
          "output_type": "stream",
          "name": "stdout",
          "text": [
            "12.5\n",
            "<class 'float'>\n"
          ]
        }
      ]
    },
    {
      "cell_type": "code",
      "source": [
        "# Explicit\n",
        "x = 9.7\n",
        "y = int(x)\n",
        "print(y)\n",
        "print(type(y))"
      ],
      "metadata": {
        "colab": {
          "base_uri": "https://localhost:8080/"
        },
        "id": "Lisox3Dcb4oh",
        "outputId": "2999f380-1aeb-4333-d583-0b99866e984c"
      },
      "execution_count": 12,
      "outputs": [
        {
          "output_type": "stream",
          "name": "stdout",
          "text": [
            "9\n",
            "<class 'int'>\n"
          ]
        }
      ]
    },
    {
      "cell_type": "markdown",
      "source": [
        "**6. How do conditional statements work in Python? Illustrate with examples.**\n",
        "\n",
        "->\n",
        "\n",
        "Conditional statements in Python are used to make decisions based on whether a specific condition is True or False. They allow you to control the flow of the program by executing different blocks of code depending on certain conditions. These statements help in implementing decision-making logic in your code.\n",
        "\n",
        "**Types of Conditional Statements in Python**\n",
        "1. **if Statement**\n",
        "The simplest form of a conditional statement. It executes a block of code only if the given condition is True.\n",
        "2. **if-else Statement**\n",
        "An else statement is paired with an if statement to specify an alternative block of code that should be executed when the condition is False.\n",
        "3. **if-elif-else Statement**\n",
        "The elif (else if) allows you to check multiple conditions sequentially. If the first condition is False, the program checks the next one, and so on. The else statement is executed if none of the conditions are True.\n",
        "4. **Nested if Statement**\n",
        "An if statement can be inside another if statement. This is useful when you need to check multiple conditions within a condition.\n"
      ],
      "metadata": {
        "id": "uylYmBmLRrot"
      }
    },
    {
      "cell_type": "code",
      "source": [
        "# if Statement\n",
        "x = 10\n",
        "if x > 5:\n",
        "    print(\"x is greater than 5\")"
      ],
      "metadata": {
        "colab": {
          "base_uri": "https://localhost:8080/"
        },
        "id": "mSeegDbydBHD",
        "outputId": "36749605-8115-4d29-dec4-80a0cba3d8d5"
      },
      "execution_count": 13,
      "outputs": [
        {
          "output_type": "stream",
          "name": "stdout",
          "text": [
            "x is greater than 5\n"
          ]
        }
      ]
    },
    {
      "cell_type": "code",
      "source": [
        "# if-else Statement\n",
        "x = 3\n",
        "if x > 5:\n",
        "    print(\"x is greater than 5\")\n",
        "else:\n",
        "    print(\"x is 5 or less\")"
      ],
      "metadata": {
        "colab": {
          "base_uri": "https://localhost:8080/"
        },
        "id": "hIsjiACNdAyg",
        "outputId": "39ea5627-70c5-4744-fea2-003cdccceabf"
      },
      "execution_count": 14,
      "outputs": [
        {
          "output_type": "stream",
          "name": "stdout",
          "text": [
            "x is 5 or less\n"
          ]
        }
      ]
    },
    {
      "cell_type": "code",
      "source": [
        "# if-elif-else Statement\n",
        "x = 10\n",
        "if x < 5:\n",
        "    print(\"x is less than 5\")\n",
        "elif x == 10:\n",
        "    print(\"x is exactly 10\")\n",
        "else:\n",
        "    print(\"x is something else\")"
      ],
      "metadata": {
        "colab": {
          "base_uri": "https://localhost:8080/"
        },
        "id": "RhtvrMtLcTT7",
        "outputId": "479ec769-7780-4a9e-f1dc-ea130d969c67"
      },
      "execution_count": 15,
      "outputs": [
        {
          "output_type": "stream",
          "name": "stdout",
          "text": [
            "x is exactly 10\n"
          ]
        }
      ]
    },
    {
      "cell_type": "code",
      "source": [
        "# Nested if Statement\n",
        "x = 15\n",
        "if x > 10:\n",
        "    if x < 20:\n",
        "        print(\"x is between 10 and 20\")"
      ],
      "metadata": {
        "colab": {
          "base_uri": "https://localhost:8080/"
        },
        "id": "8Bx2Kx97dU7O",
        "outputId": "0fb0fd9f-2f2b-4ce4-a0a8-a3464fa93ceb"
      },
      "execution_count": 16,
      "outputs": [
        {
          "output_type": "stream",
          "name": "stdout",
          "text": [
            "x is between 10 and 20\n"
          ]
        }
      ]
    },
    {
      "cell_type": "markdown",
      "source": [
        "**7. Describe the different types of loops in Python and their use cases with examples.**\n",
        "\n",
        "->\n",
        "\n",
        "Loops are used to execute a block of code repeatedly based on a condition.\n",
        "Python has two main types of loops:\n",
        "1. for loop\n",
        "2. while loop"
      ],
      "metadata": {
        "id": "A7aTRVHURtKq"
      }
    },
    {
      "cell_type": "markdown",
      "source": [
        "1. **for Loop**\n",
        "\n",
        "\n",
        "The for loop is used to iterate over a sequence (like a list, tuple, string, or range). It is useful when the number of iterations is known or the sequence is finite.\n",
        "\n",
        "**Use Cases:**\n",
        "\n",
        "\n",
        "* Iterating over elements in a list, tuple, or string.\n",
        "\n",
        "* Performing operations a fixed number of times using range().\n",
        "\n",
        "* Traversing elements in a collection."
      ],
      "metadata": {
        "id": "NKA8E6Gsd688"
      }
    },
    {
      "cell_type": "code",
      "source": [
        "# Example\n",
        "fruits = [\"apple\", \"banana\", \"cherry\"]\n",
        "for fruit in fruits:\n",
        "    print(fruit)"
      ],
      "metadata": {
        "colab": {
          "base_uri": "https://localhost:8080/"
        },
        "id": "e9q5hzdleML2",
        "outputId": "de237f65-96de-4d29-e53f-95eac7f6630f"
      },
      "execution_count": 17,
      "outputs": [
        {
          "output_type": "stream",
          "name": "stdout",
          "text": [
            "apple\n",
            "banana\n",
            "cherry\n"
          ]
        }
      ]
    },
    {
      "cell_type": "markdown",
      "source": [
        "2. **while Loop**\n",
        "\n",
        "\n",
        "The while loop repeatedly executes a block of code as long as the condition remains True. It is useful when the number of iterations is not known in advance, but the loop should continue until a specific condition is met.\n",
        "\n",
        "**Use Cases:**\n",
        "\n",
        "* Repeating an operation until a condition is met.\n",
        "\n",
        "* Useful for situations where you don’t know how many iterations are needed ahead of time."
      ],
      "metadata": {
        "id": "WBC7H308eSvg"
      }
    },
    {
      "cell_type": "code",
      "source": [
        "x = 0\n",
        "while x < 5:\n",
        "    print(x)\n",
        "    x += 1"
      ],
      "metadata": {
        "colab": {
          "base_uri": "https://localhost:8080/"
        },
        "id": "L_PGBuXHd6OA",
        "outputId": "2fc9e888-e000-415c-dfed-93bccffe9ae9"
      },
      "execution_count": 18,
      "outputs": [
        {
          "output_type": "stream",
          "name": "stdout",
          "text": [
            "0\n",
            "1\n",
            "2\n",
            "3\n",
            "4\n"
          ]
        }
      ]
    }
  ]
}