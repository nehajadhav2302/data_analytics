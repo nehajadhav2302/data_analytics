{
  "nbformat": 4,
  "nbformat_minor": 0,
  "metadata": {
    "colab": {
      "provenance": [],
      "authorship_tag": "ABX9TyPlWWuDkj7l7HA1wcJSu9I9",
      "include_colab_link": true
    },
    "kernelspec": {
      "name": "python3",
      "display_name": "Python 3"
    },
    "language_info": {
      "name": "python"
    }
  },
  "cells": [
    {
      "cell_type": "markdown",
      "metadata": {
        "id": "view-in-github",
        "colab_type": "text"
      },
      "source": [
        "<a href=\"https://colab.research.google.com/github/nehajadhav2302/data_analytics/blob/main/Module4.ipynb\" target=\"_parent\"><img src=\"https://colab.research.google.com/assets/colab-badge.svg\" alt=\"Open In Colab\"/></a>"
      ]
    },
    {
      "cell_type": "markdown",
      "source": [
        "## Data Types and Structures Questions"
      ],
      "metadata": {
        "id": "JVNz7b6snE9s"
      }
    },
    {
      "cell_type": "markdown",
      "source": [
        "**1. What are data structures, and why are they important?**\n",
        "\n",
        "->\n",
        "\n",
        "A data structure is a way of organizing and storing data in a computer so that it can be accessed and used efficiently.\n",
        "\n",
        "**Why Are Data Structures Important?**\n",
        "1. **Efficient Data Management**: They allow you to store and organize data in a way that is easy to access and modify.\n",
        "\n",
        "2. **Performance**: The right data structure can drastically improve the speed and memory usage of your program.\n",
        "\n",
        "3. **Problem Solving**: Many algorithms rely on specific data structures (like queues, stacks, trees) to work efficiently.\n",
        "\n",
        "4. **Clean Code**: Proper use of data structures leads to readable and maintainable code."
      ],
      "metadata": {
        "id": "7hU6weje0oT_"
      }
    },
    {
      "cell_type": "markdown",
      "source": [
        "**2.  Explain the difference between mutable and immutable data types with examples.**\n",
        "\n",
        "->\n",
        "\n",
        "*   **Mutable**\n",
        "1.   Mutable data types can be altered in place without changing their identity.\n",
        "2.   For example, lists and dictionaries are mutable—elements can be added, removed, or updated without creating a new object.\n",
        "\n",
        "\n",
        "*   **Immutable**\n",
        "1.   Immutable data types cannot be changed once they are created.This means that any modification to an immutable object results in a new object being created.\n",
        "2.   Common immutable types include integers, floats, strings, and tuples.\n"
      ],
      "metadata": {
        "id": "OSvHJkgB1SYY"
      }
    },
    {
      "cell_type": "code",
      "source": [
        "# Mutable\n",
        "a=[\"apple\",\"mango\",\"grapes\"]\n",
        "a[0]=\"banana\"\n",
        "a"
      ],
      "metadata": {
        "colab": {
          "base_uri": "https://localhost:8080/"
        },
        "id": "F2yvqyGRId8K",
        "outputId": "10253506-92c2-474c-a583-07b3038ef3dc"
      },
      "execution_count": 1,
      "outputs": [
        {
          "output_type": "execute_result",
          "data": {
            "text/plain": [
              "['banana', 'mango', 'grapes']"
            ]
          },
          "metadata": {},
          "execution_count": 1
        }
      ]
    },
    {
      "cell_type": "code",
      "source": [
        "#Immutable\n",
        "s1=\"Python\"\n",
        "s1[2]='g'"
      ],
      "metadata": {
        "colab": {
          "base_uri": "https://localhost:8080/",
          "height": 176
        },
        "id": "fVOfUYJFIrZC",
        "outputId": "b60d3bfa-d88a-47e9-dea7-e7191c1d53cc"
      },
      "execution_count": 2,
      "outputs": [
        {
          "output_type": "error",
          "ename": "TypeError",
          "evalue": "'str' object does not support item assignment",
          "traceback": [
            "\u001b[0;31m---------------------------------------------------------------------------\u001b[0m",
            "\u001b[0;31mTypeError\u001b[0m                                 Traceback (most recent call last)",
            "\u001b[0;32m<ipython-input-2-0a0d57affff8>\u001b[0m in \u001b[0;36m<cell line: 0>\u001b[0;34m()\u001b[0m\n\u001b[1;32m      1\u001b[0m \u001b[0;31m#Immutable\u001b[0m\u001b[0;34m\u001b[0m\u001b[0;34m\u001b[0m\u001b[0m\n\u001b[1;32m      2\u001b[0m \u001b[0ms1\u001b[0m\u001b[0;34m=\u001b[0m\u001b[0;34m\"Python\"\u001b[0m\u001b[0;34m\u001b[0m\u001b[0;34m\u001b[0m\u001b[0m\n\u001b[0;32m----> 3\u001b[0;31m \u001b[0ms1\u001b[0m\u001b[0;34m[\u001b[0m\u001b[0;36m2\u001b[0m\u001b[0;34m]\u001b[0m\u001b[0;34m=\u001b[0m\u001b[0;34m'g'\u001b[0m\u001b[0;34m\u001b[0m\u001b[0;34m\u001b[0m\u001b[0m\n\u001b[0m",
            "\u001b[0;31mTypeError\u001b[0m: 'str' object does not support item assignment"
          ]
        }
      ]
    },
    {
      "cell_type": "markdown",
      "source": [
        "**3. What are the main differences between lists and tuples in Python?**\n",
        "\n",
        "->\n",
        "\n",
        "*   **List**\n",
        "\n",
        "\n",
        "1.   Lists are mutable.\n",
        "2.   Lists are better for performing operations, such as insertion and deletion.\n",
        "3. Uses square brackets [ ].\n",
        "\n",
        "*   **Tuple**\n",
        "\n",
        "\n",
        "1.   Tuples are immutable\n",
        "2.   Tuples are more suitable for accessing elements efficiently.\n",
        "3. Uses parentheses ( ).\n",
        "\n",
        "\n"
      ],
      "metadata": {
        "id": "Q1bxY6_i1Sg3"
      }
    },
    {
      "cell_type": "markdown",
      "source": [
        "**4.  Describe how dictionaries store data.**\n",
        "\n",
        "->\n",
        "\n",
        "Dictionaries store data as key-value pairs, allowing fast access, insertion, and deletion of values based on unique keys. Internally, dictionaries are implemented using a hash table, which enables efficient lookups."
      ],
      "metadata": {
        "id": "MzbsVjw31Sl7"
      }
    },
    {
      "cell_type": "markdown",
      "source": [
        "**5. Why might you use a set instead of a list in Python?**\n",
        "\n",
        "->\n",
        "\n",
        "\n",
        "1.   Sets automatically remove duplicates.\n",
        "2.   Checking if an item exists in a set is much faster than in a list.\n",
        "3. Sets support powerful operations like:\n",
        " * Union\n",
        " * Intersection\n",
        " * Difference\n",
        " * Symmetric difference\n"
      ],
      "metadata": {
        "id": "p0GBLCLD1Sp2"
      }
    },
    {
      "cell_type": "markdown",
      "source": [
        "**6. What is a string in Python, and how is it different from a list?**\n",
        "\n",
        "->\n",
        "\n",
        "* A string is a sequence of characters used to represent text. It is defined using single quotes ('hello'), double quotes (\"hello\"), or triple quotes for multi-line text ('''hello''' or \"\"\"hello\"\"\").\n",
        "* Strings are **immutable**, meaning once they are created, their contents cannot be changed—any modification creates a new string.\n",
        "* Lists, on the other hand, are **mutable**, allowing changes like adding, removing, or updating elements without creating a new list."
      ],
      "metadata": {
        "id": "Q1sd8H6v1Tuo"
      }
    },
    {
      "cell_type": "markdown",
      "source": [
        "**7. How do tuples ensure data integrity in Python?**\n",
        "\n",
        "->\n",
        "\n",
        "Tuples ensure data integrity in Python primarily through their immutability. Once a tuple is created, its elements cannot be changed, added, or removed. This immutability means that the data stored in a tuple remains constant and secure, which is especially useful when you want to protect data from accidental modification."
      ],
      "metadata": {
        "id": "MnXXyp5I1T04"
      }
    },
    {
      "cell_type": "markdown",
      "source": [
        "**8. What is a hash table, and how does it relate to dictionaries in Python?**\n",
        "\n",
        "->\n",
        "\n",
        "* A hash table is a data structure that stores key-value pairs and allows for fast access, insertion, and deletion based on keys.\n",
        "* It works by using a hash function to convert each key into a unique hash value (an integer), which determines where the associated value is stored in memory.In Python, the built-in dict (dictionary) type is implemented using a hash table behind the scenes.\n",
        "* In Python, dictionaries are implemented using a hash table, which means that dictionaries rely on the principles of hash tables for storing and retrieving key-value pairs efficiently."
      ],
      "metadata": {
        "id": "1Nb_OQr_1T5-"
      }
    },
    {
      "cell_type": "markdown",
      "source": [
        "**9.  Can lists contain different data types in Python?**\n",
        "\n",
        "->\n",
        "\n",
        "Yes, lists in Python can contain different data types. Unlike other data structures in some programming languages that enforce uniformity in the types of elements, Python lists are heterogeneous, meaning they can hold elements of any type—integers, strings, floats, other lists, dictionaries, and even custom objects."
      ],
      "metadata": {
        "id": "orWoBPP91T_M"
      }
    },
    {
      "cell_type": "markdown",
      "source": [
        "**10. Explain why strings are immutable in Python.**\n",
        "\n",
        "->\n",
        "* **String interning**: Python optimizes memory usage by reusing identical string objects in memory. When you create a string, Python may store it in an internal table called a string pool (interning). This avoids duplication of identical string objects, which improves memory efficiency.\n",
        "\n",
        "* **Preventing unintended changes**: Immutability guarantees that the value of a string cannot be altered after it's created. This is important for security. For example, when you use strings for things like passwords, file paths, or URLs, you want to make sure they can't be accidentally or maliciously changed during processing.\n",
        "\n",
        "* **Efficiency in Memory Management**:\n",
        "Since strings are immutable, Python can allocate memory more efficiently. Python doesn't need to track changes to string objects because their values are fixed once created. This makes certain operations like string comparisons and hashing (for use in dictionaries or sets) much faster and more predictable."
      ],
      "metadata": {
        "id": "trN8HOM61UET"
      }
    },
    {
      "cell_type": "markdown",
      "source": [
        "**11. What advantages do dictionaries offer over lists for certain tasks?**\n",
        "\n",
        "->\n",
        "\n",
        "Dictionaries offer several key advantages over lists for certain tasks, primarily due to their key-value pairing, efficient lookups, and flexibility in handling data. Here are some of the main reasons you might choose a dictionary over a list in specific scenarios:\n",
        "\n",
        "1. **Fast Lookups by Key**\n",
        " * Dictionaries are implemented using hash tables, which allow for constant-time lookups (average O(1) time complexity). This means you can quickly access values based on keys, regardless of the size of the dictionary.\n",
        "\n",
        " * In contrast, lists require linear time (O(n)) to find an element, as it has to check each element in sequence to match the one you're looking for.\n",
        "\n",
        "2. **Handling Unordered Data with Unique Keys**\n",
        " * Dictionaries store unique keys, which means each key can only appear once. This prevents duplicates and is ideal when you need to map a specific unique key to a value (e.g., a person's ID to their information).\n",
        "\n",
        " * Lists, on the other hand, allow duplicate values and don't associate each element with a specific key, which can be limiting when you need a clear and unique mapping.\n",
        "\n",
        "3. **Efficient Insertion and Deletion by Key**\n",
        " * Dictionaries provide efficient insertions and deletions based on keys, typically with O(1) complexity.\n",
        "\n",
        " * With lists, inserting or deleting elements requires shifting elements around, resulting in O(n) time complexity in the worst case (e.g., when adding/removing elements at the beginning or middle of the list)."
      ],
      "metadata": {
        "id": "YRPFPSUe1UKg"
      }
    },
    {
      "cell_type": "markdown",
      "source": [
        "**12.  Describe a scenario where using a tuple would be preferable over a list.**\n",
        "\n",
        "->\n",
        "\n",
        "Suppose you have a program that handles schedules, and you need to store the day of the week. The days of the week are fixed and unchanging—once set, they should not be modified.\n",
        "\n",
        "In this case, using a tuple is preferable because:\n",
        "\n",
        "* The data is immutable—the day of the week will never change once assigned, so using a tuple ensures that it remains constant.\n",
        "\n",
        "* Using a tuple reduces the risk of accidentally altering the data later in the program.\n",
        "\n",
        "* It’s more memory-efficient and faster for simple, fixed data like days of the week."
      ],
      "metadata": {
        "id": "1CM4ft6A1UPc"
      }
    },
    {
      "cell_type": "markdown",
      "source": [
        "**13. How do sets handle duplicate values in Python?**\n",
        "\n",
        "->\n",
        "\n",
        "In Python, sets automatically handle duplicate values by removing them. A set is an unordered collection that only allows unique elements. If you try to add a duplicate value to a set, it will simply ignore the duplicate and maintain only the first occurrence of the element."
      ],
      "metadata": {
        "id": "4at8lbNR1UVu"
      }
    },
    {
      "cell_type": "markdown",
      "source": [
        "**14. How does the “in” keyword work differently for lists and dictionaries?**\n",
        "\n",
        "->\n",
        "\n",
        "1. **Using in with Lists**\n",
        " * When you use the in keyword with a list, it checks for membership by value. In other words, it checks if an element is present in the list.\n",
        "\n",
        " * The in operator will return True if the specified value exists anywhere in the list, and False otherwise.\n",
        "\n",
        " 2. **Using in with Dictionaries**\n",
        " * When you use the in keyword with a dictionary, it checks for membership by key, not by value.\n",
        "\n",
        " * The in operator checks if a given key exists in the dictionary, not the value associated with that key."
      ],
      "metadata": {
        "id": "V8R56GeN1Ubt"
      }
    },
    {
      "cell_type": "markdown",
      "source": [
        "**15. Can you modify the elements of a tuple? Explain why or why not.**\n",
        "\n",
        "->\n",
        "\n",
        "No, you cannot modify the elements of a tuple in Python once it is created. This is because tuples are immutable. Immutability means that after a tuple is created, its elements cannot be changed, added, or removed.\n"
      ],
      "metadata": {
        "id": "tvXrRJUQ1Uhw"
      }
    },
    {
      "cell_type": "markdown",
      "source": [
        "**16. What is a nested dictionary, and give an example of its use case?**\n",
        "\n",
        "->\n",
        "\n",
        "A nested dictionary in Python is a dictionary that contains other dictionaries as its values. In other words, it is a dictionary of dictionaries, where each value can itself be another dictionary, allowing you to represent more complex hierarchical data structures."
      ],
      "metadata": {
        "id": "XcfxgP8z1UrQ"
      }
    },
    {
      "cell_type": "code",
      "source": [
        "#Example\n",
        "stud={ \"student_1\": {\n",
        "         \"name\": \"Alice\",\n",
        "          \"age\": 15,\n",
        "          \"subjects\": {\n",
        "            \"Math\": 90,\n",
        "            \"English\": 85,\n",
        "            \"Science\": 92\n",
        "          }\n",
        "      }\n",
        "    }\n",
        "\n",
        "print(stud[\"student_1\"][\"name\"])"
      ],
      "metadata": {
        "colab": {
          "base_uri": "https://localhost:8080/"
        },
        "id": "fOQWhxRHPN5D",
        "outputId": "3bcb6571-88dc-45ad-8eeb-b4d837df88c0"
      },
      "execution_count": 29,
      "outputs": [
        {
          "output_type": "stream",
          "name": "stdout",
          "text": [
            "Alice\n"
          ]
        }
      ]
    },
    {
      "cell_type": "markdown",
      "source": [
        "**17.  Describe the time complexity of accessing elements in a dictionary.**\n",
        "\n",
        "->\n",
        "\n",
        "The time complexity of accessing elements in a dictionary in Python is on average O(1) — also known as constant time. It directly accesses that index to retrieve the value."
      ],
      "metadata": {
        "id": "xv1fiASr1UxI"
      }
    },
    {
      "cell_type": "markdown",
      "source": [
        "**18. In what situations are lists preferred over dictionaries?**\n",
        "\n",
        "->\n",
        "\n",
        "Lists are preferred over dictionaries in Python when:\n",
        "1. If you need to preserve the sequence in which items are added, a list is ideal.\n",
        "2. Use lists when you need to access items by their position (index) rather than by a named key.\n",
        "3. If your data doesn't need descriptive keys and can just be a series of values, a list is simpler.\n",
        "4. Lists allow duplicate elements, while dictionaries do not allow duplicate keys."
      ],
      "metadata": {
        "id": "X9FPXRaK1U3B"
      }
    },
    {
      "cell_type": "markdown",
      "source": [
        "**19. Why are dictionaries considered unordered, and how does that affect data retrieval?**\n",
        "\n",
        "->\n",
        "\n",
        "Dictionaries in Python were originally considered unordered because they stored data based on hash values of keys, not on the order in which items were added. This meant that:\n",
        "\n",
        " * The items could appear in any order when you iterated through the dictionary.\n",
        "\n",
        " * The internal structure prioritized fast access over maintaining order."
      ],
      "metadata": {
        "id": "QibXbJkX1U9n"
      }
    },
    {
      "cell_type": "markdown",
      "source": [
        "**20. Explain the difference between a list and a dictionary in terms of data retrieval.**\n",
        "\n",
        "->\n",
        "\n",
        "\n",
        "1.   **List**\n",
        "* Lists store data in a sequential order.\n",
        "\n",
        "* You access elements using integer indexes starting from 0.\n",
        "\n",
        "* Data is retrieved by position.\n",
        "\n",
        "2.   **Dictionary**\n",
        "* Dictionaries store data as key-value pairs.\n",
        "\n",
        "* You access elements using unique keys (usually strings or numbers).\n",
        "\n",
        "* Data is retrieved by key, not by position.\n"
      ],
      "metadata": {
        "id": "i78CPLPo1VDp"
      }
    },
    {
      "cell_type": "markdown",
      "source": [
        "## Practical Questions"
      ],
      "metadata": {
        "id": "A_ejlbGF3JYX"
      }
    },
    {
      "cell_type": "markdown",
      "source": [
        "**1. Write a code to create a string with your name and print it.**"
      ],
      "metadata": {
        "id": "D2ISkZ-x3Nel"
      }
    },
    {
      "cell_type": "code",
      "source": [
        "name=\"Neha\"\n",
        "print(name)"
      ],
      "metadata": {
        "colab": {
          "base_uri": "https://localhost:8080/"
        },
        "id": "okyfT05g6nNh",
        "outputId": "88983d6a-ae6b-4fb7-cddd-530c2a132508"
      },
      "execution_count": 30,
      "outputs": [
        {
          "output_type": "stream",
          "name": "stdout",
          "text": [
            "Neha\n"
          ]
        }
      ]
    },
    {
      "cell_type": "markdown",
      "source": [
        "**2. Write a code to find the length of the string \"Hello World\".**"
      ],
      "metadata": {
        "id": "AQd0PKJ63Y9C"
      }
    },
    {
      "cell_type": "code",
      "source": [
        "len(\"Hello World\")"
      ],
      "metadata": {
        "colab": {
          "base_uri": "https://localhost:8080/"
        },
        "id": "RAZgs40i6uNv",
        "outputId": "802e20de-a348-4348-abdd-de93a3737833"
      },
      "execution_count": 31,
      "outputs": [
        {
          "output_type": "execute_result",
          "data": {
            "text/plain": [
              "11"
            ]
          },
          "metadata": {},
          "execution_count": 31
        }
      ]
    },
    {
      "cell_type": "markdown",
      "source": [
        "**3. Write a code to slice the first 3 characters from the string \"Python Programming\".**"
      ],
      "metadata": {
        "id": "4oU-29e93ZJN"
      }
    },
    {
      "cell_type": "code",
      "source": [
        "s=\"Python Programming\"\n",
        "print(s[:3])"
      ],
      "metadata": {
        "colab": {
          "base_uri": "https://localhost:8080/"
        },
        "id": "QjZEFDyS6zBz",
        "outputId": "d93663e3-56f4-466b-d035-25853ff53918"
      },
      "execution_count": 32,
      "outputs": [
        {
          "output_type": "stream",
          "name": "stdout",
          "text": [
            "Pyt\n"
          ]
        }
      ]
    },
    {
      "cell_type": "markdown",
      "source": [
        "**4. Write a code to convert the string \"hello\" to uppercase.**"
      ],
      "metadata": {
        "id": "D0bTdTg03ZTm"
      }
    },
    {
      "cell_type": "code",
      "source": [
        "string1=\"hello\"\n",
        "string1.upper()"
      ],
      "metadata": {
        "colab": {
          "base_uri": "https://localhost:8080/",
          "height": 35
        },
        "id": "vJBQB3CZ7VEW",
        "outputId": "8191ad71-5b0b-4ab8-f86d-4e8995f48f0e"
      },
      "execution_count": 33,
      "outputs": [
        {
          "output_type": "execute_result",
          "data": {
            "text/plain": [
              "'HELLO'"
            ],
            "application/vnd.google.colaboratory.intrinsic+json": {
              "type": "string"
            }
          },
          "metadata": {},
          "execution_count": 33
        }
      ]
    },
    {
      "cell_type": "markdown",
      "source": [
        "**5. Write a code to replace the word \"apple\" with \"orange\" in the string \"I like apple\".**"
      ],
      "metadata": {
        "id": "MKbQqa-t3ZbX"
      }
    },
    {
      "cell_type": "code",
      "source": [
        "string2=\"I like apple\"\n",
        "string2.replace(\"apple\",\"orange\")"
      ],
      "metadata": {
        "colab": {
          "base_uri": "https://localhost:8080/",
          "height": 35
        },
        "id": "kCysEc5F7bvq",
        "outputId": "00381f36-e2a7-4b48-a633-cb4feb0209ab"
      },
      "execution_count": 34,
      "outputs": [
        {
          "output_type": "execute_result",
          "data": {
            "text/plain": [
              "'I like orange'"
            ],
            "application/vnd.google.colaboratory.intrinsic+json": {
              "type": "string"
            }
          },
          "metadata": {},
          "execution_count": 34
        }
      ]
    },
    {
      "cell_type": "markdown",
      "source": [
        "**6. Write a code to create a list with numbers 1 to 5 and print it.**"
      ],
      "metadata": {
        "id": "zpZFW_ir3Zhh"
      }
    },
    {
      "cell_type": "code",
      "source": [
        "lst1=[]\n",
        "for i in range(1,6):\n",
        "  lst1.append(i)\n",
        "print(lst1)"
      ],
      "metadata": {
        "colab": {
          "base_uri": "https://localhost:8080/"
        },
        "id": "Ulzmhord7w0S",
        "outputId": "2fbb6311-3611-4c37-81b6-7f84c4b5a050"
      },
      "execution_count": 35,
      "outputs": [
        {
          "output_type": "stream",
          "name": "stdout",
          "text": [
            "[1, 2, 3, 4, 5]\n"
          ]
        }
      ]
    },
    {
      "cell_type": "markdown",
      "source": [
        "**7. Write a code to append the number 10 to the list [1, 2, 3, 4].**"
      ],
      "metadata": {
        "id": "jcLWCD3A3ZoL"
      }
    },
    {
      "cell_type": "code",
      "source": [
        "lst2=[1,2,3,4]\n",
        "lst2.append(10)\n",
        "print(lst2)"
      ],
      "metadata": {
        "colab": {
          "base_uri": "https://localhost:8080/"
        },
        "id": "jO7TffOv78h-",
        "outputId": "a6f7ba3d-74dd-4f8c-d98a-cdd792709355"
      },
      "execution_count": 36,
      "outputs": [
        {
          "output_type": "stream",
          "name": "stdout",
          "text": [
            "[1, 2, 3, 4, 10]\n"
          ]
        }
      ]
    },
    {
      "cell_type": "markdown",
      "source": [
        "**8. Write a code to remove the number 3 from the list [1, 2, 3, 4, 5].**"
      ],
      "metadata": {
        "id": "ARf_JvNb3Zuw"
      }
    },
    {
      "cell_type": "code",
      "source": [
        "lst1.remove(5)\n",
        "lst1"
      ],
      "metadata": {
        "colab": {
          "base_uri": "https://localhost:8080/"
        },
        "id": "lIdnrEi28JNt",
        "outputId": "e7383eea-acdb-4a0c-f9b5-d5d02280361c"
      },
      "execution_count": 37,
      "outputs": [
        {
          "output_type": "execute_result",
          "data": {
            "text/plain": [
              "[1, 2, 3, 4]"
            ]
          },
          "metadata": {},
          "execution_count": 37
        }
      ]
    },
    {
      "cell_type": "markdown",
      "source": [
        "**9. Write a code to access the second element in the list ['a', 'b', 'c', 'd'].**"
      ],
      "metadata": {
        "id": "SH7H_YiQ3Z0b"
      }
    },
    {
      "cell_type": "code",
      "source": [
        "lst3=['a','b','c','d']\n",
        "lst3[1]"
      ],
      "metadata": {
        "colab": {
          "base_uri": "https://localhost:8080/",
          "height": 35
        },
        "id": "Tk7QyzpJ8fDh",
        "outputId": "8644ddf6-99a4-48d1-c216-4c73771a1fff"
      },
      "execution_count": 38,
      "outputs": [
        {
          "output_type": "execute_result",
          "data": {
            "text/plain": [
              "'b'"
            ],
            "application/vnd.google.colaboratory.intrinsic+json": {
              "type": "string"
            }
          },
          "metadata": {},
          "execution_count": 38
        }
      ]
    },
    {
      "cell_type": "markdown",
      "source": [
        "**10. Write a code to reverse the list [10, 20, 30, 40, 50].**"
      ],
      "metadata": {
        "id": "eff_PX6C3Z5Y"
      }
    },
    {
      "cell_type": "code",
      "source": [
        "lst4=[10,20,30,40,50]\n",
        "print(lst4[::-1])"
      ],
      "metadata": {
        "colab": {
          "base_uri": "https://localhost:8080/"
        },
        "id": "ABlzOy1s8riK",
        "outputId": "6a51159f-a8ee-496a-ca39-f92fd9a335a4"
      },
      "execution_count": 39,
      "outputs": [
        {
          "output_type": "stream",
          "name": "stdout",
          "text": [
            "[50, 40, 30, 20, 10]\n"
          ]
        }
      ]
    },
    {
      "cell_type": "markdown",
      "source": [
        "**11. Write a code to create a tuple with the elements 100, 200, 300 and print it.**"
      ],
      "metadata": {
        "id": "A2-jCjmj3Z-X"
      }
    },
    {
      "cell_type": "code",
      "source": [
        "tup1=(100,200,300)\n",
        "tup1"
      ],
      "metadata": {
        "colab": {
          "base_uri": "https://localhost:8080/"
        },
        "id": "oTrO4GvV83sh",
        "outputId": "4772194f-645e-4bee-cb23-ccd49c499076"
      },
      "execution_count": 40,
      "outputs": [
        {
          "output_type": "execute_result",
          "data": {
            "text/plain": [
              "(100, 200, 300)"
            ]
          },
          "metadata": {},
          "execution_count": 40
        }
      ]
    },
    {
      "cell_type": "markdown",
      "source": [
        "**12. Write a code to access the second-to-last element of the tuple ('red', 'green', 'blue', 'yellow').**"
      ],
      "metadata": {
        "id": "rbd43KRR3aEK"
      }
    },
    {
      "cell_type": "code",
      "source": [
        "tup2=('red','green','blue','yellow')\n",
        "tup2[-2]"
      ],
      "metadata": {
        "colab": {
          "base_uri": "https://localhost:8080/",
          "height": 35
        },
        "id": "7-fNIEc39PmK",
        "outputId": "5eb21e35-ac36-4f11-ab0d-23ed7163538e"
      },
      "execution_count": 41,
      "outputs": [
        {
          "output_type": "execute_result",
          "data": {
            "text/plain": [
              "'blue'"
            ],
            "application/vnd.google.colaboratory.intrinsic+json": {
              "type": "string"
            }
          },
          "metadata": {},
          "execution_count": 41
        }
      ]
    },
    {
      "cell_type": "markdown",
      "source": [
        "**13. Write a code to find the minimum number in the tuple (10, 20, 5, 15).**"
      ],
      "metadata": {
        "id": "2od505FI3aJA"
      }
    },
    {
      "cell_type": "code",
      "source": [
        "tup3=(10,20,5,15)\n",
        "print(min(tup3))"
      ],
      "metadata": {
        "colab": {
          "base_uri": "https://localhost:8080/"
        },
        "id": "12v5AxNI9r81",
        "outputId": "b604fbe2-f53d-4f41-fe90-4606fe7e6bb2"
      },
      "execution_count": 42,
      "outputs": [
        {
          "output_type": "stream",
          "name": "stdout",
          "text": [
            "5\n"
          ]
        }
      ]
    },
    {
      "cell_type": "markdown",
      "source": [
        "**14. Write a code to find the index of the element \"cat\" in the tuple ('dog', 'cat', 'rabbit').**"
      ],
      "metadata": {
        "id": "SvhPwRbv3aOy"
      }
    },
    {
      "cell_type": "code",
      "source": [
        "tup4=('dog','cat','rabbit')\n",
        "tup4.index('cat')"
      ],
      "metadata": {
        "colab": {
          "base_uri": "https://localhost:8080/"
        },
        "id": "sQU1nkWp-WOc",
        "outputId": "c904a8d1-8f11-4fe0-b3ef-ddda846c21d7"
      },
      "execution_count": 43,
      "outputs": [
        {
          "output_type": "execute_result",
          "data": {
            "text/plain": [
              "1"
            ]
          },
          "metadata": {},
          "execution_count": 43
        }
      ]
    },
    {
      "cell_type": "markdown",
      "source": [
        "**15. Write a code to create a tuple containing three different fruits and check if \"kiwi\" is in it.**"
      ],
      "metadata": {
        "id": "7lyYMYc63aSJ"
      }
    },
    {
      "cell_type": "code",
      "source": [
        "tup5=('apple','mango','grapes','kiwi')\n",
        "'kiwi' in tup5"
      ],
      "metadata": {
        "colab": {
          "base_uri": "https://localhost:8080/"
        },
        "id": "ceWs25Iv-XAM",
        "outputId": "0c90958f-bdee-440c-8ddf-47c49593a8d1"
      },
      "execution_count": 44,
      "outputs": [
        {
          "output_type": "execute_result",
          "data": {
            "text/plain": [
              "True"
            ]
          },
          "metadata": {},
          "execution_count": 44
        }
      ]
    },
    {
      "cell_type": "markdown",
      "source": [
        "**16. Write a code to create a set with the elements 'a', 'b', 'c' and print it.**"
      ],
      "metadata": {
        "id": "8YgjEKmN3aVN"
      }
    },
    {
      "cell_type": "code",
      "source": [
        "set1={'a','b','c'}\n",
        "print(set1)"
      ],
      "metadata": {
        "colab": {
          "base_uri": "https://localhost:8080/"
        },
        "id": "u-QvEjVN-5nN",
        "outputId": "60b33aab-6ef1-464e-e9c0-e2545f0243a0"
      },
      "execution_count": 45,
      "outputs": [
        {
          "output_type": "stream",
          "name": "stdout",
          "text": [
            "{'b', 'a', 'c'}\n"
          ]
        }
      ]
    },
    {
      "cell_type": "markdown",
      "source": [
        "**17. Write a code to clear all elements from the set {1, 2, 3, 4, 5}.**"
      ],
      "metadata": {
        "id": "p-IDuIot3aYJ"
      }
    },
    {
      "cell_type": "code",
      "source": [
        "set2={1,2,3,4,5}\n",
        "set2.clear()\n",
        "set2"
      ],
      "metadata": {
        "colab": {
          "base_uri": "https://localhost:8080/"
        },
        "id": "BLWEt8fs_D-v",
        "outputId": "a89e49a9-7005-4e10-c328-f3e8e6aef9f7"
      },
      "execution_count": 46,
      "outputs": [
        {
          "output_type": "execute_result",
          "data": {
            "text/plain": [
              "set()"
            ]
          },
          "metadata": {},
          "execution_count": 46
        }
      ]
    },
    {
      "cell_type": "markdown",
      "source": [
        "**18. Write a code to remove the element 4 from the set {1, 2, 3, 4}.**"
      ],
      "metadata": {
        "id": "RRLBYMXG3abR"
      }
    },
    {
      "cell_type": "code",
      "source": [
        "set3={1,2,3,4}\n",
        "set3.remove(4)\n",
        "set3"
      ],
      "metadata": {
        "colab": {
          "base_uri": "https://localhost:8080/"
        },
        "id": "MmEBdhkR_Lq4",
        "outputId": "b55e367f-6f66-4131-d859-42ba5fcd5c1b"
      },
      "execution_count": 47,
      "outputs": [
        {
          "output_type": "execute_result",
          "data": {
            "text/plain": [
              "{1, 2, 3}"
            ]
          },
          "metadata": {},
          "execution_count": 47
        }
      ]
    },
    {
      "cell_type": "markdown",
      "source": [
        "**19. Write a code to find the union of two sets {1, 2, 3} and {3, 4, 5}.**"
      ],
      "metadata": {
        "id": "jaN1bTEC3aeA"
      }
    },
    {
      "cell_type": "code",
      "source": [
        "set4={1,2,3}\n",
        "set5={3,4,5}\n",
        "set4.union(set5)"
      ],
      "metadata": {
        "colab": {
          "base_uri": "https://localhost:8080/"
        },
        "id": "O87KGIRS_Rz0",
        "outputId": "0c69d05c-22f1-4906-eab8-de3c2ea36542"
      },
      "execution_count": 48,
      "outputs": [
        {
          "output_type": "execute_result",
          "data": {
            "text/plain": [
              "{1, 2, 3, 4, 5}"
            ]
          },
          "metadata": {},
          "execution_count": 48
        }
      ]
    },
    {
      "cell_type": "markdown",
      "source": [
        "**20. Write a code to find the intersection of two sets {1, 2, 3} and {2, 3, 4}.**"
      ],
      "metadata": {
        "id": "j7IYR6E83ags"
      }
    },
    {
      "cell_type": "code",
      "source": [
        "set6={1,2,3}\n",
        "set7={2,3,4}\n",
        "set6.intersection(set7)"
      ],
      "metadata": {
        "colab": {
          "base_uri": "https://localhost:8080/"
        },
        "id": "GWNQSkRi_cgv",
        "outputId": "16ce6fd0-247f-4a2e-caea-22c96e2e0557"
      },
      "execution_count": 49,
      "outputs": [
        {
          "output_type": "execute_result",
          "data": {
            "text/plain": [
              "{2, 3}"
            ]
          },
          "metadata": {},
          "execution_count": 49
        }
      ]
    },
    {
      "cell_type": "markdown",
      "source": [
        "**21. Write a code to create a dictionary with the keys \"name\", \"age\", and \"city\", and print it.**"
      ],
      "metadata": {
        "id": "Qi6FJX2k3ajg"
      }
    },
    {
      "cell_type": "code",
      "source": [
        "dict1={\"name\":\"Neha\", \"age\":22, \"city\":\"Pune\"}\n",
        "dict1"
      ],
      "metadata": {
        "colab": {
          "base_uri": "https://localhost:8080/"
        },
        "id": "xhCN32sV_lNL",
        "outputId": "1e68bd12-404d-47cc-ea45-f0e73a1ec33e"
      },
      "execution_count": 50,
      "outputs": [
        {
          "output_type": "execute_result",
          "data": {
            "text/plain": [
              "{'name': 'Neha', 'age': 22, 'city': 'Pune'}"
            ]
          },
          "metadata": {},
          "execution_count": 50
        }
      ]
    },
    {
      "cell_type": "markdown",
      "source": [
        "**22. Write a code to add a new key-value pair \"country\": \"USA\" to the dictionary {'name': 'John', 'age': 25}.**"
      ],
      "metadata": {
        "id": "YNmylj1g3amp"
      }
    },
    {
      "cell_type": "code",
      "source": [
        "dict2={\"name\":\"John\", \"age\":25}\n",
        "dict2[\"country\"]=\"USA\"\n",
        "dict2"
      ],
      "metadata": {
        "colab": {
          "base_uri": "https://localhost:8080/"
        },
        "id": "xjxcflUX_wDs",
        "outputId": "dc7aed3e-962f-4218-84d7-bf13143dd9a4"
      },
      "execution_count": 51,
      "outputs": [
        {
          "output_type": "execute_result",
          "data": {
            "text/plain": [
              "{'name': 'John', 'age': 25, 'country': 'USA'}"
            ]
          },
          "metadata": {},
          "execution_count": 51
        }
      ]
    },
    {
      "cell_type": "markdown",
      "source": [
        "**23.  Write a code to access the value associated with the key \"name\" in the dictionary {'name': 'Alice', 'age': 30}.**"
      ],
      "metadata": {
        "id": "Dforf2vN3ap8"
      }
    },
    {
      "cell_type": "code",
      "source": [
        "dict3={\"name\":\"Alice\",\"Age\":30}\n",
        "dict3[\"name\"]"
      ],
      "metadata": {
        "colab": {
          "base_uri": "https://localhost:8080/",
          "height": 35
        },
        "id": "rqmNG5TiAJom",
        "outputId": "da20bff5-3838-4d9f-d2bc-5a2477824d61"
      },
      "execution_count": 52,
      "outputs": [
        {
          "output_type": "execute_result",
          "data": {
            "text/plain": [
              "'Alice'"
            ],
            "application/vnd.google.colaboratory.intrinsic+json": {
              "type": "string"
            }
          },
          "metadata": {},
          "execution_count": 52
        }
      ]
    },
    {
      "cell_type": "markdown",
      "source": [
        "**24. Write a code to remove the key \"age\" from the dictionary {'name': 'Bob', 'age': 22, 'city': 'New York'}.**"
      ],
      "metadata": {
        "id": "jQGDj4qy3as_"
      }
    },
    {
      "cell_type": "code",
      "source": [
        "dict4={\"name\":\"Bob\",\"age\":22,\"city\":\"New York\"}\n",
        "del dict4[\"age\"]\n",
        "dict4"
      ],
      "metadata": {
        "colab": {
          "base_uri": "https://localhost:8080/"
        },
        "id": "9AE88Pq5A3mm",
        "outputId": "96776805-fd31-4494-ee79-84b115ed0f3c"
      },
      "execution_count": 53,
      "outputs": [
        {
          "output_type": "execute_result",
          "data": {
            "text/plain": [
              "{'name': 'Bob', 'city': 'New York'}"
            ]
          },
          "metadata": {},
          "execution_count": 53
        }
      ]
    },
    {
      "cell_type": "markdown",
      "source": [
        "**25. Write a code to check if the key \"city\" exists in the dictionary {'name': 'Alice', 'city': 'Paris'}.**"
      ],
      "metadata": {
        "id": "jlFs_22a3awW"
      }
    },
    {
      "cell_type": "code",
      "source": [
        "dict5={\"name\":\"Alice\",\"city\":\"Paris\"}\n",
        "\"city\" in dict5"
      ],
      "metadata": {
        "colab": {
          "base_uri": "https://localhost:8080/"
        },
        "id": "1ROwzhzfBLIF",
        "outputId": "a6ccdbcd-33bc-424c-9796-901c0d384bfa"
      },
      "execution_count": 54,
      "outputs": [
        {
          "output_type": "execute_result",
          "data": {
            "text/plain": [
              "True"
            ]
          },
          "metadata": {},
          "execution_count": 54
        }
      ]
    },
    {
      "cell_type": "markdown",
      "source": [
        "**26. Write a code to create a list, a tuple, and a dictionary, and print them all.**"
      ],
      "metadata": {
        "id": "wzf87pP73azy"
      }
    },
    {
      "cell_type": "code",
      "source": [
        "lst5=[1,2,3,2.3,\"Neha\"]\n",
        "tup6=(\"apple\",\"mango\",\"grapes\")\n",
        "dict6={\"name\":\"Neha\", \"age\":22, \"City\":\"Pune\"}\n",
        "print(lst5)\n",
        "print(tup6)\n",
        "print(dict6)"
      ],
      "metadata": {
        "colab": {
          "base_uri": "https://localhost:8080/"
        },
        "id": "eVDiDrAGBi3B",
        "outputId": "c9b3b089-4c1f-492a-8be8-1f9faef33b5e"
      },
      "execution_count": 55,
      "outputs": [
        {
          "output_type": "stream",
          "name": "stdout",
          "text": [
            "[1, 2, 3, 2.3, 'Neha']\n",
            "('apple', 'mango', 'grapes')\n",
            "{'name': 'Neha', 'age': 22, 'City': 'Pune'}\n"
          ]
        }
      ]
    },
    {
      "cell_type": "markdown",
      "source": [
        "**27.  Write a code to create a list of 5 random numbers between 1 and 100, sort it in ascending order, and print the result.(replaced)**"
      ],
      "metadata": {
        "id": "HF4NWzIF3a3C"
      }
    },
    {
      "cell_type": "code",
      "source": [
        "import random\n",
        "lst6=[random.randint(1,100) for _ in range(5)]\n",
        "print(lst6)\n",
        "sorted(lst6)"
      ],
      "metadata": {
        "colab": {
          "base_uri": "https://localhost:8080/"
        },
        "id": "j66WJkZQCLuh",
        "outputId": "643e7daf-8c3e-4f68-e9c3-baf87a3a93ef"
      },
      "execution_count": 56,
      "outputs": [
        {
          "output_type": "stream",
          "name": "stdout",
          "text": [
            "[85, 23, 27, 39, 32]\n"
          ]
        },
        {
          "output_type": "execute_result",
          "data": {
            "text/plain": [
              "[23, 27, 32, 39, 85]"
            ]
          },
          "metadata": {},
          "execution_count": 56
        }
      ]
    },
    {
      "cell_type": "markdown",
      "source": [
        "**28.  Write a code to create a list with strings and print the element at the third index.**"
      ],
      "metadata": {
        "id": "upKSwm0Y3a6O"
      }
    },
    {
      "cell_type": "code",
      "source": [
        "lst7=[\"C\",\"C++\",\"Python\",\"Java\",\"R\"]\n",
        "lst7[2]"
      ],
      "metadata": {
        "colab": {
          "base_uri": "https://localhost:8080/",
          "height": 35
        },
        "id": "HIW6pyUJC45w",
        "outputId": "0fdb07e1-4e9f-44c8-dfb3-6f60827ab41e"
      },
      "execution_count": 57,
      "outputs": [
        {
          "output_type": "execute_result",
          "data": {
            "text/plain": [
              "'Python'"
            ],
            "application/vnd.google.colaboratory.intrinsic+json": {
              "type": "string"
            }
          },
          "metadata": {},
          "execution_count": 57
        }
      ]
    },
    {
      "cell_type": "markdown",
      "source": [
        "**29.  Write a code to combine two dictionaries into one and print the result.**"
      ],
      "metadata": {
        "id": "tnuXb29C3a-F"
      }
    },
    {
      "cell_type": "code",
      "source": [
        "dict7={'x':3 , 'y' :6 , 'z':1}\n",
        "dict8={'a': 8 , 'b':10}\n",
        "dict8.update(dict7)\n",
        "dict8"
      ],
      "metadata": {
        "colab": {
          "base_uri": "https://localhost:8080/"
        },
        "id": "ITjhEEroDWN9",
        "outputId": "c0be4c28-e720-4427-dc17-0b89a9500cd5"
      },
      "execution_count": 58,
      "outputs": [
        {
          "output_type": "execute_result",
          "data": {
            "text/plain": [
              "{'a': 8, 'b': 10, 'x': 3, 'y': 6, 'z': 1}"
            ]
          },
          "metadata": {},
          "execution_count": 58
        }
      ]
    },
    {
      "cell_type": "markdown",
      "source": [
        "**30. Write a code to convert a list of strings into a set.**"
      ],
      "metadata": {
        "id": "FhWrzrR53bBl"
      }
    },
    {
      "cell_type": "code",
      "source": [
        "print(lst7)\n",
        "print(type(lst7))\n",
        "set8=set(lst7)\n",
        "print(set8)\n",
        "print(type(set8))"
      ],
      "metadata": {
        "colab": {
          "base_uri": "https://localhost:8080/"
        },
        "id": "6bxDWCpxDvz6",
        "outputId": "09031e84-d32b-4b27-da15-158758379776"
      },
      "execution_count": 59,
      "outputs": [
        {
          "output_type": "stream",
          "name": "stdout",
          "text": [
            "['C', 'C++', 'Python', 'Java', 'R']\n",
            "<class 'list'>\n",
            "{'Python', 'R', 'C', 'C++', 'Java'}\n",
            "<class 'set'>\n"
          ]
        }
      ]
    }
  ]
}