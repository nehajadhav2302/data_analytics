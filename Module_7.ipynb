{
  "nbformat": 4,
  "nbformat_minor": 0,
  "metadata": {
    "colab": {
      "provenance": [],
      "authorship_tag": "ABX9TyOefDj7r47/VVsRUNgChz+E",
      "include_colab_link": true
    },
    "kernelspec": {
      "name": "python3",
      "display_name": "Python 3"
    },
    "language_info": {
      "name": "python"
    }
  },
  "cells": [
    {
      "cell_type": "markdown",
      "metadata": {
        "id": "view-in-github",
        "colab_type": "text"
      },
      "source": [
        "<a href=\"https://colab.research.google.com/github/nehajadhav2302/data_analytics/blob/main/Module_7.ipynb\" target=\"_parent\"><img src=\"https://colab.research.google.com/assets/colab-badge.svg\" alt=\"Open In Colab\"/></a>"
      ]
    },
    {
      "cell_type": "markdown",
      "source": [
        "# Files, exceptional handling,blogging and memory management"
      ],
      "metadata": {
        "id": "7zjlxdXziGWJ"
      }
    },
    {
      "cell_type": "markdown",
      "source": [
        "## Questions"
      ],
      "metadata": {
        "id": "YxFSDPUqiL1o"
      }
    },
    {
      "cell_type": "markdown",
      "source": [
        "**1. What is the difference between interpreted and compiled languages?**\n",
        "\n",
        "->\n",
        "\n",
        "* **Compiled languages**\n",
        "1. The entire code is translated into machine code by a compiler before the program runs.\n",
        "2. This machine code is then executed directly by the system.\n",
        "3. Examples: C, C++, Rust, Go\n",
        "* **Interpreted Languages**\n",
        "1. The code is executed line-by-line by an interpreter at runtime.\n",
        "2. No separate executable is created; the interpreter reads the source code every time.\n",
        "3. Examples: Python, JavaScript, Ruby, PHP"
      ],
      "metadata": {
        "id": "zcV8f8iNiP4v"
      }
    },
    {
      "cell_type": "markdown",
      "source": [
        "**2. What is exception handling in Python?**\n",
        "\n",
        "->\n",
        "\n",
        "* Exception handling is a mechanism that allows you to gracefully handle errors (also called exceptions) that occur during the execution of a program, instead of letting the program crash.\n"
      ],
      "metadata": {
        "id": "p2NsgELIiWLq"
      }
    },
    {
      "cell_type": "code",
      "source": [
        "# Example\n",
        "try:\n",
        "  print(5+7)\n",
        "  print(4-3)\n",
        "  print(4*6)\n",
        "  print(10/0)\n",
        "except Exception as e:\n",
        "  print(e)"
      ],
      "metadata": {
        "colab": {
          "base_uri": "https://localhost:8080/"
        },
        "id": "O77kvMnEpFyp",
        "outputId": "f769054d-bf10-4e1f-b99d-aa6de4141d64"
      },
      "execution_count": 1,
      "outputs": [
        {
          "output_type": "stream",
          "name": "stdout",
          "text": [
            "12\n",
            "1\n",
            "24\n",
            "division by zero\n"
          ]
        }
      ]
    },
    {
      "cell_type": "markdown",
      "source": [
        "**3. What is the purpose of the finally block in exception handling?**\n",
        "\n",
        "->\n",
        "\n",
        "* The finally block is used to define a set of actions that must be executed regardless of whether an exception was raised or not.\n",
        "* It provides a mechanism for cleanup actions, such as releasing resources or closing files, ensuring that they are always performed.\n"
      ],
      "metadata": {
        "id": "P9eyS6bMiWSm"
      }
    },
    {
      "cell_type": "code",
      "source": [
        "# Example\n",
        "try:\n",
        "    result = 10 / 0\n",
        "except Exception as e:\n",
        "    print(e)\n",
        "finally:\n",
        "    print(\"Finally block executed\")"
      ],
      "metadata": {
        "colab": {
          "base_uri": "https://localhost:8080/"
        },
        "id": "IC2mN7wRqtQI",
        "outputId": "e528d238-f50d-4742-f762-55ea48638ce9"
      },
      "execution_count": 2,
      "outputs": [
        {
          "output_type": "stream",
          "name": "stdout",
          "text": [
            "division by zero\n",
            "Finally block executed\n"
          ]
        }
      ]
    },
    {
      "cell_type": "markdown",
      "source": [
        "**4. What is logging in Python?**\n",
        "\n",
        "->\n",
        "\n",
        "* Logging is the process of recording messages or events that happen during the execution of a program.\n",
        "* These messages can help to:\n",
        "1. Debug errors\n",
        "2. Monitor execution flow\n",
        "3. Track application behavior\n"
      ],
      "metadata": {
        "id": "qq8eyGJdiWY2"
      }
    },
    {
      "cell_type": "markdown",
      "source": [
        "**5. What is the significance of the `__del__` method in Python?**\n",
        "\n",
        "->\n",
        "\n",
        "* The `__del__` method in Python is a destructor method.\n",
        "* It is automatically called when an object is about to be destroyed — typically when there are no more references to the object.\n"
      ],
      "metadata": {
        "id": "3d4VdkU9iWeP"
      }
    },
    {
      "cell_type": "markdown",
      "source": [
        "**6. What is the difference between import and from ... import in Python?**\n",
        "\n",
        "->\n",
        "\n",
        "* **import Statement**\n",
        "1. It imports the entire module.\n",
        "2. You must use the module name as a prefix to access its functions or variables.\n",
        "3. Syntax: import module_name\n",
        "\n",
        "* **from ... import Statement**\n",
        "1. Imports only specific functions, classes, or variables from a module.\n",
        "2. You can use them directly without prefixing with the module name.\n",
        "3. Syntax:\n",
        "from module_name import specific_item\n",
        "\n"
      ],
      "metadata": {
        "id": "8jgLIHPWiWkG"
      }
    },
    {
      "cell_type": "code",
      "source": [
        "# import Statement\n",
        "import math\n",
        "print(math.sqrt(16))"
      ],
      "metadata": {
        "colab": {
          "base_uri": "https://localhost:8080/"
        },
        "id": "-Q6U1YKjL1Mf",
        "outputId": "e7e3d837-9fc1-4b5c-d7ab-08327de7a20d"
      },
      "execution_count": 3,
      "outputs": [
        {
          "output_type": "stream",
          "name": "stdout",
          "text": [
            "4.0\n"
          ]
        }
      ]
    },
    {
      "cell_type": "code",
      "source": [
        "# from ... import Statement\n",
        "from math import sqrt\n",
        "print(sqrt(16))"
      ],
      "metadata": {
        "colab": {
          "base_uri": "https://localhost:8080/"
        },
        "id": "Br3SihqmMAF1",
        "outputId": "69146ef6-56af-4861-95c0-7eee164f68eb"
      },
      "execution_count": 4,
      "outputs": [
        {
          "output_type": "stream",
          "name": "stdout",
          "text": [
            "4.0\n"
          ]
        }
      ]
    },
    {
      "cell_type": "markdown",
      "source": [
        "**7.  How can you handle multiple exceptions in Python?**\n",
        "\n",
        "->\n",
        "* We can handle multiple exceptions using several approaches depending on the situation.\n",
        "1. Handle multiple exceptions in a single except block\n",
        "2. Handle each exception type with a separate except block\n",
        "3. Catch all exceptions"
      ],
      "metadata": {
        "id": "gRbbiW66iWp_"
      }
    },
    {
      "cell_type": "code",
      "source": [
        "# 1. Handle multiple exceptions in a single except block\n",
        "try:\n",
        "    x = int(\"abc\")\n",
        "except (ValueError, TypeError) as e:\n",
        "    print(f\"Caught an error: {e}\")"
      ],
      "metadata": {
        "colab": {
          "base_uri": "https://localhost:8080/"
        },
        "id": "79YCn8Zisl7V",
        "outputId": "1ec9c3dc-22ef-498f-a984-dc94e59a6281"
      },
      "execution_count": 5,
      "outputs": [
        {
          "output_type": "stream",
          "name": "stdout",
          "text": [
            "Caught an error: invalid literal for int() with base 10: 'abc'\n"
          ]
        }
      ]
    },
    {
      "cell_type": "code",
      "source": [
        "# 2. Handle each exception type with a separate except block\n",
        "try:\n",
        "    x = int(\"abc\")\n",
        "    y = 10 / 0\n",
        "except ValueError:\n",
        "    print(\"ValueError occurred\")\n",
        "except ZeroDivisionError:\n",
        "    print(\"Division by zero!\")"
      ],
      "metadata": {
        "colab": {
          "base_uri": "https://localhost:8080/"
        },
        "id": "Gn4_KNpusxeW",
        "outputId": "9c15d50e-44a0-430b-b5bb-eaf2c889fbc6"
      },
      "execution_count": 6,
      "outputs": [
        {
          "output_type": "stream",
          "name": "stdout",
          "text": [
            "ValueError occurred\n"
          ]
        }
      ]
    },
    {
      "cell_type": "code",
      "source": [
        "# 3. Catch all exceptions\n",
        "try:\n",
        "    x = int(\"abc\")\n",
        "    y = 10 / 0\n",
        "except Exception as e:\n",
        "  print(\"Error:\", e)"
      ],
      "metadata": {
        "colab": {
          "base_uri": "https://localhost:8080/"
        },
        "id": "puAkPhZ2sxRS",
        "outputId": "b715d327-97d5-45e0-df80-e3c147133756"
      },
      "execution_count": 7,
      "outputs": [
        {
          "output_type": "stream",
          "name": "stdout",
          "text": [
            "Error: invalid literal for int() with base 10: 'abc'\n"
          ]
        }
      ]
    },
    {
      "cell_type": "markdown",
      "source": [
        "**8. What is the purpose of the with statement when handling files in Python?**\n",
        "\n",
        "->\n",
        "\n",
        "* The with statement in Python is used to simplify resource management, especially for tasks like opening and closing files.\n",
        "* It ensures that resources are properly cleaned up, even if an error occurs during processing.\n",
        "* The purpose is to automatically open and close files.\n",
        "* To avoid manual cleanup like file.close().\n",
        "* To make code cleaner and more readable."
      ],
      "metadata": {
        "id": "ZZgmgg84iWwH"
      }
    },
    {
      "cell_type": "markdown",
      "source": [
        "**9. What is the difference between multithreading and multiprocessing?**\n",
        "\n",
        "->\n",
        "\n",
        "* **Multithreading**\n",
        "1. Multithreading involves running multiple threads within the same process, sharing the same memory space.\n",
        "2. This is ideal for I/O-bound tasks such as reading files or making network requests, where the program spends time waiting.\n",
        "3. However, due to Python’s Global Interpreter Lock (GIL), multithreading cannot achieve true parallelism in CPU-bound tasks, as only one thread can execute Python bytecode at a time.\n",
        "\n",
        "* **Multiprocessing**\n",
        "1. Multiprocessing creates separate processes, each with its own memory space and Python interpreter.\n",
        "2. This allows for true parallel execution, making it more suitable for CPU-bound tasks like data processing, calculations, or machine learning model training.\n",
        "3. While multiprocessing avoids the limitations of the GIL, it comes with higher overhead due to the cost of creating and managing processes."
      ],
      "metadata": {
        "id": "TdQo1l8ziW2A"
      }
    },
    {
      "cell_type": "markdown",
      "source": [
        "**10. What are the advantages of using logging in a program?**\n",
        "\n",
        "->\n",
        "1. Logging helps identify issues by recording what the program was doing before an error occurred. It captures variable values, function calls, and error messages that aid in diagnosing problems.\n",
        "2. Logs can show real-time application activity, such as user actions, background tasks, and system interactions, making it easier to monitor performance and usage patterns.\n",
        "3. Unlike print(), which disappears after the program ends, logs can be saved to files or databases. This provides a permanent audit trail for compliance, analytics, or post-mortem reviews.\n",
        "4. The logging module supports multiple levels (DEBUG, INFO, WARNING, ERROR, CRITICAL), allowing developers to filter and prioritize messages based on importance."
      ],
      "metadata": {
        "id": "k8mpfaysiW7M"
      }
    },
    {
      "cell_type": "markdown",
      "source": [
        "**11. What is memory management in Python?**\n",
        "\n",
        "->\n",
        "* Memory management refers to the process by which the Python interpreter handles the allocation, usage, and release of memory during a program’s execution.\n",
        "* It ensures that memory is efficiently used and freed when no longer needed, preventing memory leaks and optimizing performance.\n"
      ],
      "metadata": {
        "id": "FY086KBtiXAZ"
      }
    },
    {
      "cell_type": "markdown",
      "source": [
        "**12. What are the basic steps involved in exception handling in Python?**\n",
        "\n",
        "->\n",
        "The basic steps are:\n",
        "1. **Try Block**: Wrap the code that might cause an exception inside a try block.\n",
        "2. **Except Block**: Use except to catch and handle specific or general exceptions.\n",
        "3. **Else Block**: The else block runs only if the try block succeeds without any exception.\n",
        "4. **Finally Block**: The finally block runs no matter what — whether an exception occurred or not. It's used for cleanup tasks."
      ],
      "metadata": {
        "id": "9bmFRNotiXF9"
      }
    },
    {
      "cell_type": "markdown",
      "source": [
        "**13. Why is memory management important in Python?**\n",
        "\n",
        "->\n",
        "1. Even though Python has garbage collection, poorly written code (like unbroken circular references or unclosed file handles) can still lead to memory that isn’t freed. Good memory management helps avoid such leaks, which could otherwise crash your program or make it slow over time.\n",
        "2. Efficient use of memory can significantly speed up your application.\n",
        "3. Proper memory management ensures your application can scale without crashing or slowing down.\n",
        "4. Understanding how memory is managed helps you debug memory-related issues, such as excessive memory consumption or objects not being garbage collected as expected.\n"
      ],
      "metadata": {
        "id": "2MLjbs1TiXMP"
      }
    },
    {
      "cell_type": "markdown",
      "source": [
        "**14. What is the role of try and except in exception handling?**\n",
        "\n",
        "->\n",
        "* **try Block**\n",
        "1. The try block is where you put code that might cause an exception.\n",
        "2. If an exception occurs inside this block, Python immediately jumps to the corresponding except block.\n",
        "\n",
        "* **except Block**\n",
        "1. The except block catches the error that occurred in the try block and lets you respond to it, like displaying an error message or executing alternative logic."
      ],
      "metadata": {
        "id": "o12ZyuXOiXRW"
      }
    },
    {
      "cell_type": "markdown",
      "source": [
        "**15. How does Python's garbage collection system work?**\n",
        "\n",
        "->\n",
        "1. **Reference Counting**: Each object has a reference count tracking how many variables point to it. When the count reaches zero, the object is immediately deleted.\n",
        "2. **Creating References**: When a new reference to an object is made, its reference count increases by one. This helps Python know how many parts of the program use the object.\n",
        "3. **Deleting References**: When a reference is deleted or goes out of scope, the object’s reference count decreases. If it reaches zero, the memory is freed automatically.\n",
        "4. **Detecting Cycles**:\n",
        "Reference counting can’t free objects involved in circular references (objects referencing each other). Python’s garbage collector identifies these cycles.\n",
        "5. **Generational Garbage Collection**: Python groups objects into generations based on their lifespan and collects younger objects more frequently. This optimizes cleanup efficiency.\n",
        "6. **Cleaning Cycles**: When cycles are detected, the garbage collector breaks them and frees the memory occupied by those unreachable objects.\n",
        "7. **Manual Control (Optional)**: The gc module allows developers to manually trigger garbage collection or tune its behavior if needed.\n",
        "8. **Destructor Calls**: If an object defines a __del__ method, it is called before the object is destroyed to perform any cleanup."
      ],
      "metadata": {
        "id": "2XkQwbw2iXV-"
      }
    },
    {
      "cell_type": "markdown",
      "source": [
        "**16. What is the purpose of the else block in exception handling?**\n",
        "\n",
        "->\n",
        "* The else block is used to define code that should run only if no exception occurs in the try block."
      ],
      "metadata": {
        "id": "ZO-6GFW8iXbL"
      }
    },
    {
      "cell_type": "markdown",
      "source": [
        "**17. What are the common logging levels in Python?**\n",
        "\n",
        "->\n",
        "1. **DEBUG**: Detailed information, typically useful only for diagnosing problems during development.\n",
        "2. **INFO**: General information about program execution, confirming things are working as expected.\n",
        "3. **WARNING**: An indication that something unexpected happened, or a potential problem in the near future, but the program is still running.\n",
        "4. **ERROR**: A more serious problem that caused a part of the program to fail.\n",
        "5. **CRITICAL**: A very serious error indicating that the program itself may be unable to continue running.\n",
        "\n"
      ],
      "metadata": {
        "id": "5Jycctn8iXgr"
      }
    },
    {
      "cell_type": "markdown",
      "source": [
        "**18. What is the difference between os.fork() and multiprocessing in Python?**\n",
        "\n",
        "->\n",
        "* **os.fork()**\n",
        "1. `os.fork()` is a low-level system call (available only on Unix/Linux) that creates a child process by duplicating the current process.\n",
        "2. After the fork, both parent and child processes run independently but share the same memory space initially (copy-on-write).\n",
        "3. You have to manually manage communication, synchronization, and process lifecycle. It’s very close to the OS.\n",
        "* **Multiprocessing**\n",
        "1. Multiprocessing is a high-level Python module that abstracts process creation across platforms (works on Windows too).\n",
        "2. It handles creating new processes, provides easy-to-use APIs for process management, communication (via pipes, queues), and synchronization.\n",
        "3. It’s more portable, safer, and easier for Python programs."
      ],
      "metadata": {
        "id": "3uY-vy8ciXnH"
      }
    },
    {
      "cell_type": "markdown",
      "source": [
        "**19. What is the importance of closing a file in Python?**\n",
        "\n",
        "->\n",
        "1. Ensures data is properly saved to the file.\n",
        "2. Frees system resources like memory and file handles.\n",
        "3. Prevents file corruption and locking issues.\n",
        "4. Avoids unexpected errors in file access or processing.\n",
        "5. Good coding practice for clean and reliable programs."
      ],
      "metadata": {
        "id": "cEeYSbFPiXty"
      }
    },
    {
      "cell_type": "markdown",
      "source": [
        "**20. What is the difference between file.read() and file.readline() in Python?**\n",
        "\n",
        "->\n",
        "\n",
        "* **file.read()**:\n",
        "1. file.read() reads the entire content of the file as a single string.\n",
        "2. If a size argument is given, it reads up to that many bytes.\n",
        "3. It is suitable for smaller files that can fit into memory.\n",
        "* **file.readline()**:\n",
        "1. file.readline() reads a single line from the file, including the newline character at the end, and returns it as a string. Subsequent calls to readline() will read the next line, and so on.\n",
        "2. If the end of the file is reached, readline() returns an empty string.\n",
        "3. It is more memory-efficient for large files as it processes the file line by line."
      ],
      "metadata": {
        "id": "hhaAcyw7iX05"
      }
    },
    {
      "cell_type": "markdown",
      "source": [
        "**21. What is the logging module in Python used for?**\n",
        "\n",
        "->\n",
        "* The logging module in Python is used to track events and record messages that occur during program execution.\n",
        "* It helps developers debug, monitor, and maintain applications by logging information such as errors, warnings, and runtime events to the console, files, or other outputs.\n",
        "* Unlike print(), it provides flexible severity levels, formatting, and output options, making it suitable for both development and production environments.\n",
        "\n",
        "\n",
        "\n",
        "\n",
        "\n",
        "\n",
        "\n"
      ],
      "metadata": {
        "id": "JVZOIzXbiYAJ"
      }
    },
    {
      "cell_type": "markdown",
      "source": [
        "**22. What is the os module in Python used for in file handling?**\n",
        "\n",
        "->\n",
        "* The os module in Python is used to interact with the operating system and perform various file and directory operations.\n",
        "* In file handling, it allows you to create, remove, rename, move, and inspect files and directories, as well as access file paths and environment variables.\n",
        "* It provides a way to work with the file system in a platform-independent manner."
      ],
      "metadata": {
        "id": "3Ams3Fv7iYGH"
      }
    },
    {
      "cell_type": "markdown",
      "source": [
        "**23. What are the challenges associated with memory management in Python?**\n",
        "\n",
        "->\n",
        "\n",
        "The main challenges with memory management in Python include:\n",
        "1. Circular References: Objects referencing each other may not be immediately collected by the garbage collector.\n",
        "2. Memory Leaks: Poorly managed references or large unused objects may stay in memory longer than needed.\n",
        "3. High Memory Usage: Python's dynamic typing and object overhead can lead to more memory consumption.\n",
        "4. Limited Control: Developers have less manual control over memory allocation compared to lower-level languages.\n",
        "5.Debugging Complexity: Tracing memory issues or leaks can be difficult without profiling tools."
      ],
      "metadata": {
        "id": "fxWoEXo1iYMf"
      }
    },
    {
      "cell_type": "markdown",
      "source": [
        "**24.  How do you raise an exception manually in Python?**\n",
        "\n",
        "->\n",
        "\n",
        "* You can raise an exception manually in Python using the raise keyword followed by an exception type.\n",
        "* This is useful for handling custom error conditions in your code.\n",
        "* Syntax: raise ValueError(\"Invalid input\")\n"
      ],
      "metadata": {
        "id": "if4BBx86iYSc"
      }
    },
    {
      "cell_type": "markdown",
      "source": [
        "**25. Why is it important to use multithreading in certain applications?**\n",
        "\n",
        "->\n",
        "* Multithreading is important in applications that involve concurrent tasks or I/O-bound operations, such as downloading files, handling user inputs, or processing network requests. * It allows multiple threads to run in parallel within the same process, leading to faster response times, better resource utilization, and a more responsive user experience without blocking the entire program."
      ],
      "metadata": {
        "id": "zTK1prqOiYX5"
      }
    },
    {
      "cell_type": "markdown",
      "source": [
        "## Practical Questions"
      ],
      "metadata": {
        "id": "GV0qF_Q1klNy"
      }
    },
    {
      "cell_type": "markdown",
      "source": [
        "**1.  How can you open a file for writing in Python and write a string to it?**"
      ],
      "metadata": {
        "id": "EFa7NVt5kpFt"
      }
    },
    {
      "cell_type": "code",
      "source": [
        "with open(\"file1.txt\",\"w\") as file:\n",
        "  file.write(\"Multithreading is important in applications that involve concurrent tasks or I/O-bound operations, such as downloading files, handling user inputs, or processing network requests.\")"
      ],
      "metadata": {
        "id": "r4_LZ5s-QoCD"
      },
      "execution_count": 8,
      "outputs": []
    },
    {
      "cell_type": "markdown",
      "source": [
        "**2. Write a Python program to read the contents of a file and print each line.**"
      ],
      "metadata": {
        "id": "1aOymrBskviJ"
      }
    },
    {
      "cell_type": "code",
      "source": [
        "with open(\"file1.txt\",\"r\") as file:\n",
        "  for line in file:\n",
        "    print(line)"
      ],
      "metadata": {
        "colab": {
          "base_uri": "https://localhost:8080/"
        },
        "id": "Z4htp4s0RHLa",
        "outputId": "60243515-4f6f-401c-819a-764ea540b5ef"
      },
      "execution_count": 9,
      "outputs": [
        {
          "output_type": "stream",
          "name": "stdout",
          "text": [
            "Multithreading is important in applications that involve concurrent tasks or I/O-bound operations, such as downloading files, handling user inputs, or processing network requests.\n"
          ]
        }
      ]
    },
    {
      "cell_type": "markdown",
      "source": [
        "**3.  How would you handle a case where the file doesn't exist while trying to open it for reading?**"
      ],
      "metadata": {
        "id": "icz5Ss17kvoF"
      }
    },
    {
      "cell_type": "code",
      "source": [
        "try:\n",
        "  with open(\"file25.txt\",\"r\") as file:\n",
        "    text=file.read()\n",
        "    print(text)\n",
        "except FileNotFoundError:\n",
        "  print(\"File does not exist\")"
      ],
      "metadata": {
        "colab": {
          "base_uri": "https://localhost:8080/"
        },
        "id": "iMs8DrmESIXs",
        "outputId": "969845a3-90b1-49ec-d3b8-5749202564f5"
      },
      "execution_count": 10,
      "outputs": [
        {
          "output_type": "stream",
          "name": "stdout",
          "text": [
            "File does not exist\n"
          ]
        }
      ]
    },
    {
      "cell_type": "markdown",
      "source": [
        "**4. Write a Python script that reads from one file and writes its content to another file.**"
      ],
      "metadata": {
        "id": "k83yst77kvtF"
      }
    },
    {
      "cell_type": "code",
      "source": [
        "with open(\"file1.txt\",\"r\") as file1:\n",
        "  text=file1.read()\n",
        "\n",
        "with open(\"file2.txt\",\"w\") as file2:\n",
        "  file2.write(text)"
      ],
      "metadata": {
        "id": "IRB1LQPpSJLn"
      },
      "execution_count": 11,
      "outputs": []
    },
    {
      "cell_type": "markdown",
      "source": [
        "**5. How would you catch and handle division by zero error in Python?**"
      ],
      "metadata": {
        "id": "DZeio3eGkvyC"
      }
    },
    {
      "cell_type": "code",
      "source": [
        "try:\n",
        "  num1=int(input(\"Enter a number 1:\"))\n",
        "  num2=int(input(\"Enter a number 2:\"))\n",
        "  result=num1/num2\n",
        "  print(result)\n",
        "except ZeroDivisionError:\n",
        "  print(\"Cannot divide by zero!\")"
      ],
      "metadata": {
        "colab": {
          "base_uri": "https://localhost:8080/"
        },
        "id": "cldh5p04SJ7T",
        "outputId": "f38dc826-bca9-40af-e3ef-88c688595c6a"
      },
      "execution_count": 12,
      "outputs": [
        {
          "output_type": "stream",
          "name": "stdout",
          "text": [
            "Enter a number 1:15\n",
            "Enter a number 2:0\n",
            "Cannot divide by zero!\n"
          ]
        }
      ]
    },
    {
      "cell_type": "markdown",
      "source": [
        "**6.  Write a Python program that logs an error message to a log file when a division by zero exception occurs.**"
      ],
      "metadata": {
        "id": "jv02k0eYkv3J"
      }
    },
    {
      "cell_type": "code",
      "source": [
        "import logging"
      ],
      "metadata": {
        "id": "e1a_kx8SS_G_"
      },
      "execution_count": 13,
      "outputs": []
    },
    {
      "cell_type": "code",
      "source": [
        "logging.basicConfig(filename='log1.txt',level=logging.ERROR,format='%(asctime)s - %(levelname)s - %(message)s')\n",
        "\n",
        "try:\n",
        "  num1=15\n",
        "  num2=0\n",
        "  result=num1/num2\n",
        "except ZeroDivisionError as e:\n",
        "  logging.error(f\"Division by zero error occured: {e}\")"
      ],
      "metadata": {
        "id": "-wnibDvi7Nzn",
        "colab": {
          "base_uri": "https://localhost:8080/"
        },
        "outputId": "f3542714-60da-48df-c2ec-2280473ff75d"
      },
      "execution_count": 14,
      "outputs": [
        {
          "output_type": "stream",
          "name": "stderr",
          "text": [
            "ERROR:root:Division by zero error occured: division by zero\n"
          ]
        }
      ]
    },
    {
      "cell_type": "markdown",
      "source": [
        "**7. How do you log information at different levels (INFO, ERROR, WARNING) in Python using the logging module?**"
      ],
      "metadata": {
        "id": "w9muy2aCkv8C"
      }
    },
    {
      "cell_type": "code",
      "source": [
        "logging.basicConfig(filename=\"log2.txt\",level=logging.DEBUG, format='%(asctime)s - %(levelname)s - %(message)s')\n",
        "\n",
        "logging.info(\"This is an informational message.\")\n",
        "logging.warning(\"This is a warning message.\")\n",
        "logging.error(\"This is an error message.\")"
      ],
      "metadata": {
        "colab": {
          "base_uri": "https://localhost:8080/"
        },
        "id": "NAnrH5e69N48",
        "outputId": "d56c171f-9198-48f5-8673-38ff19dc148a"
      },
      "execution_count": 15,
      "outputs": [
        {
          "output_type": "stream",
          "name": "stderr",
          "text": [
            "WARNING:root:This is a warning message.\n",
            "ERROR:root:This is an error message.\n"
          ]
        }
      ]
    },
    {
      "cell_type": "markdown",
      "source": [
        "**8. Write a program to handle a file opening error using exception handling.**"
      ],
      "metadata": {
        "id": "Psca1lMykwA8"
      }
    },
    {
      "cell_type": "code",
      "source": [
        "try:\n",
        "  with open(\"file25.txt\",\"r\") as file:\n",
        "    text=file.read()\n",
        "    print(text)\n",
        "except FileNotFoundError:\n",
        "  print(\"File does not exist\")"
      ],
      "metadata": {
        "colab": {
          "base_uri": "https://localhost:8080/"
        },
        "id": "FFqs7DBfTh86",
        "outputId": "eb7fee50-fbbc-46bf-a7a3-f3850006e21c"
      },
      "execution_count": 16,
      "outputs": [
        {
          "output_type": "stream",
          "name": "stdout",
          "text": [
            "File does not exist\n"
          ]
        }
      ]
    },
    {
      "cell_type": "markdown",
      "source": [
        "**9. How can you read a file line by line and store its content in a list in Python?**"
      ],
      "metadata": {
        "id": "sGtGtPrBkwGH"
      }
    },
    {
      "cell_type": "code",
      "source": [
        "with open(\"file1.txt\",\"r\") as file:\n",
        "  lines=file.readlines()\n",
        "print(lines)"
      ],
      "metadata": {
        "colab": {
          "base_uri": "https://localhost:8080/"
        },
        "id": "JaIny5-8T0gH",
        "outputId": "cffc6e84-234f-4527-ef7d-a26f0b9c5e34"
      },
      "execution_count": 17,
      "outputs": [
        {
          "output_type": "stream",
          "name": "stdout",
          "text": [
            "['Multithreading is important in applications that involve concurrent tasks or I/O-bound operations, such as downloading files, handling user inputs, or processing network requests.']\n"
          ]
        }
      ]
    },
    {
      "cell_type": "markdown",
      "source": [
        "**10.  How can you append data to an existing file in Python?**"
      ],
      "metadata": {
        "id": "5-BZkskOkwKq"
      }
    },
    {
      "cell_type": "code",
      "source": [
        "with open(\"file2.txt\",\"a\") as file:\n",
        "  file.write(\"New content to append.\")"
      ],
      "metadata": {
        "id": "3IdNqQimUlLn"
      },
      "execution_count": 18,
      "outputs": []
    },
    {
      "cell_type": "code",
      "source": [
        "with open(\"file2.txt\",\"r\") as file:\n",
        "  print(file.read())"
      ],
      "metadata": {
        "colab": {
          "base_uri": "https://localhost:8080/"
        },
        "id": "r5j25y_IU4dD",
        "outputId": "cf521488-3d7e-4a28-e9e9-8b696dcc96e2"
      },
      "execution_count": 19,
      "outputs": [
        {
          "output_type": "stream",
          "name": "stdout",
          "text": [
            "Multithreading is important in applications that involve concurrent tasks or I/O-bound operations, such as downloading files, handling user inputs, or processing network requests.New content to append.\n"
          ]
        }
      ]
    },
    {
      "cell_type": "markdown",
      "source": [
        "**11.  Write a Python program that uses a try-except block to handle an error when attempting to access a\n",
        "dictionary key that doesn't exist.**"
      ],
      "metadata": {
        "id": "rAx-SeiqkwPo"
      }
    },
    {
      "cell_type": "code",
      "source": [
        "dict={\"name\":\"Neha\",\"age\":22}\n",
        "try:\n",
        "  value=dict[\"DOB\"]\n",
        "  print(value)\n",
        "except KeyError:\n",
        "  print(\"The key does not exist in the dictionary.\")"
      ],
      "metadata": {
        "id": "OGi7v9wIUln5",
        "colab": {
          "base_uri": "https://localhost:8080/"
        },
        "outputId": "0cf4e0bc-39bb-4296-9125-4e3e99701841"
      },
      "execution_count": 20,
      "outputs": [
        {
          "output_type": "stream",
          "name": "stdout",
          "text": [
            "The key does not exist in the dictionary.\n"
          ]
        }
      ]
    },
    {
      "cell_type": "markdown",
      "source": [
        "**12.  Write a program that demonstrates using multiple except blocks to handle different types of exceptions.**"
      ],
      "metadata": {
        "id": "CjLDBqfzkwUZ"
      }
    },
    {
      "cell_type": "code",
      "source": [
        "try:\n",
        "    data = [1, 2, 3]\n",
        "    value = data[4]\n",
        "    print(f\"Value at index {index} is {value}\")\n",
        "    result = value + \"10\"\n",
        "    print(result)\n",
        "\n",
        "except IndexError:\n",
        "    print(\"Error: Index is out of range.\")\n",
        "\n",
        "except ValueError:\n",
        "    print(\"Error: Please enter a valid integer for the index.\")\n",
        "\n",
        "except TypeError:\n",
        "    print(\"Error: You cannot add a number and a string together.\")\n",
        "\n",
        "except Exception as e:\n",
        "    print(f\"An unexpected error occurred: {e}\")\n"
      ],
      "metadata": {
        "colab": {
          "base_uri": "https://localhost:8080/"
        },
        "id": "P3brUtPjAehJ",
        "outputId": "0aa069f5-efb8-478c-af08-cb0a37f36ea9"
      },
      "execution_count": 21,
      "outputs": [
        {
          "output_type": "stream",
          "name": "stdout",
          "text": [
            "Error: Index is out of range.\n"
          ]
        }
      ]
    },
    {
      "cell_type": "markdown",
      "source": [
        "**13. How would you check if a file exists before attempting to read it in Python?**"
      ],
      "metadata": {
        "id": "1UeKTzbIkwZP"
      }
    },
    {
      "cell_type": "code",
      "source": [
        "import os"
      ],
      "metadata": {
        "id": "4OFq0-kcBAui"
      },
      "execution_count": 22,
      "outputs": []
    },
    {
      "cell_type": "code",
      "source": [
        "filename=\"file1.txt\"\n",
        "if os.path.exists(filename):\n",
        "  with open(filename,\"r\") as file:\n",
        "    print(file.read())\n",
        "else:\n",
        "  print(\"File does not exist.\")"
      ],
      "metadata": {
        "colab": {
          "base_uri": "https://localhost:8080/"
        },
        "id": "SrR3YzRCBAes",
        "outputId": "50651fe8-b66f-4387-8568-db8d96c43a4b"
      },
      "execution_count": 23,
      "outputs": [
        {
          "output_type": "stream",
          "name": "stdout",
          "text": [
            "Multithreading is important in applications that involve concurrent tasks or I/O-bound operations, such as downloading files, handling user inputs, or processing network requests.\n"
          ]
        }
      ]
    },
    {
      "cell_type": "markdown",
      "source": [
        "**14.  Write a program that uses the logging module to log both informational and error messages.**"
      ],
      "metadata": {
        "id": "6wxIfre1kweF"
      }
    },
    {
      "cell_type": "code",
      "source": [
        "logging.basicConfig(filename=\"log3.txt\",level=logging.DEBUG,format='%(asctime)s - %(levelname)s - %(message)s')\n",
        "logging.info(\"Program started successfully.\")\n",
        "try:\n",
        "  print(5+\"10\")\n",
        "except TypeError as e:\n",
        "  logging.error(e)"
      ],
      "metadata": {
        "colab": {
          "base_uri": "https://localhost:8080/"
        },
        "id": "qHhapxoeCtVh",
        "outputId": "a0bd3c5b-efe6-4f54-8440-01b31ecf7bb6"
      },
      "execution_count": 24,
      "outputs": [
        {
          "output_type": "stream",
          "name": "stderr",
          "text": [
            "ERROR:root:unsupported operand type(s) for +: 'int' and 'str'\n"
          ]
        }
      ]
    },
    {
      "cell_type": "markdown",
      "source": [
        "**15. Write a Python program that prints the content of a file and handles the case when the file is empty.**"
      ],
      "metadata": {
        "id": "UyIupPo8kwjS"
      }
    },
    {
      "cell_type": "code",
      "source": [
        "try:\n",
        "  with open(\"file3.txt\", 'r') as file:\n",
        "    content = file.read()\n",
        "    if content.strip() == \"\":\n",
        "      print(\"The file is empty.\")\n",
        "    else:\n",
        "      print(\"File content:\")\n",
        "      print(content)\n",
        "except FileNotFoundError:\n",
        "  print(f\"The file '{filename}' does not exist.\")\n",
        "except Exception as e:\n",
        "  print(f\"An error occurred: {e}\")"
      ],
      "metadata": {
        "colab": {
          "base_uri": "https://localhost:8080/"
        },
        "id": "tQwB_OIkKbYa",
        "outputId": "a8c4e94c-f800-495f-9127-eda5dba70825"
      },
      "execution_count": 25,
      "outputs": [
        {
          "output_type": "stream",
          "name": "stdout",
          "text": [
            "The file is empty.\n"
          ]
        }
      ]
    },
    {
      "cell_type": "markdown",
      "source": [
        "**16. Demonstrate how to use memory profiling to check the memory usage of a small program.**"
      ],
      "metadata": {
        "id": "Kv5wlyKDkwnK"
      }
    },
    {
      "cell_type": "code",
      "source": [
        "!pip install -q memory-profiler"
      ],
      "metadata": {
        "id": "BAYGDh4uK9gp"
      },
      "execution_count": 26,
      "outputs": []
    },
    {
      "cell_type": "code",
      "source": [
        "from memory_profiler import memory_usage\n",
        "\n",
        "def create_large_list():\n",
        "    large_list = [i**2 for i in range(1000000)]\n",
        "    return sum(large_list)\n",
        "\n",
        "mem_usage = memory_usage(create_large_list)\n",
        "print(f\"Memory used: {max(mem_usage) - min(mem_usage):.2f} MiB\")"
      ],
      "metadata": {
        "colab": {
          "base_uri": "https://localhost:8080/"
        },
        "id": "FGGNGzrhLF2H",
        "outputId": "f6fc5104-9e28-44a9-ccf0-3e2b4838c576"
      },
      "execution_count": 27,
      "outputs": [
        {
          "output_type": "stream",
          "name": "stdout",
          "text": [
            "Memory used: 35.21 MiB\n"
          ]
        }
      ]
    },
    {
      "cell_type": "markdown",
      "source": [
        "**17. Write a Python program to create and write a list of numbers to a file, one number per line.**"
      ],
      "metadata": {
        "id": "dRKuHhZGkwsf"
      }
    },
    {
      "cell_type": "code",
      "source": [
        "numbers = [1, 2, 3, 4, 5, 6, 7, 8, 9, 10]\n",
        "with open(\"numbers.txt\", \"w\") as file:\n",
        "  for number in numbers:\n",
        "    file.write(str(number) + \"\\n\")"
      ],
      "metadata": {
        "id": "ahHvoM7GOavX"
      },
      "execution_count": 28,
      "outputs": []
    },
    {
      "cell_type": "code",
      "source": [
        "with open(\"numbers.txt\", \"r\") as file:\n",
        "  print(file.read())"
      ],
      "metadata": {
        "colab": {
          "base_uri": "https://localhost:8080/"
        },
        "id": "5SwMrl7CPuKJ",
        "outputId": "eb62c5d5-5cca-4e04-b691-a246309fbd60"
      },
      "execution_count": 29,
      "outputs": [
        {
          "output_type": "stream",
          "name": "stdout",
          "text": [
            "1\n",
            "2\n",
            "3\n",
            "4\n",
            "5\n",
            "6\n",
            "7\n",
            "8\n",
            "9\n",
            "10\n",
            "\n"
          ]
        }
      ]
    },
    {
      "cell_type": "markdown",
      "source": [
        "**18. How would you implement a basic logging setup that logs to a file with rotation after 1MB?**"
      ],
      "metadata": {
        "id": "rM4KtOi8kwx4"
      }
    },
    {
      "cell_type": "code",
      "source": [
        "from logging.handlers import RotatingFileHandler\n",
        "\n",
        "handler = RotatingFileHandler(\"log4.txt\", maxBytes=1*1024*1024, backupCount=3)\n",
        "handler.setLevel(logging.DEBUG)\n",
        "formatter = logging.Formatter('%(asctime)s - %(levelname)s - %(message)s')\n",
        "handler.setFormatter(formatter)\n",
        "\n",
        "logger = logging.getLogger()\n",
        "logger.setLevel(logging.DEBUG)\n",
        "logger.addHandler(handler)\n",
        "\n",
        "logger.info(\"This is an informational message.\")\n",
        "logger.warning(\"This is a warning message.\")\n",
        "logger.error(\"This is an error message.\")"
      ],
      "metadata": {
        "colab": {
          "base_uri": "https://localhost:8080/"
        },
        "id": "qP1YQDmwP2Nf",
        "outputId": "303ebd7f-9e3a-4940-e474-b820819269f2"
      },
      "execution_count": 30,
      "outputs": [
        {
          "output_type": "stream",
          "name": "stderr",
          "text": [
            "INFO:root:This is an informational message.\n",
            "WARNING:root:This is a warning message.\n",
            "ERROR:root:This is an error message.\n"
          ]
        }
      ]
    },
    {
      "cell_type": "markdown",
      "source": [
        "**19.  Write a program that handles both IndexError and KeyError using a try-except block.**"
      ],
      "metadata": {
        "id": "8PfF8pSOkw3O"
      }
    },
    {
      "cell_type": "code",
      "source": [
        "my_list = [10, 20, 30]\n",
        "my_dict = {\"a\": 1, \"b\": 2}\n",
        "\n",
        "try:\n",
        "    print(my_list[5])\n",
        "    print(my_dict[\"c\"])\n",
        "\n",
        "except IndexError:\n",
        "    print(\"Caught an IndexError: List index out of range.\")\n",
        "\n",
        "except KeyError:\n",
        "    print(\"Caught a KeyError: Key not found in dictionary.\")\n"
      ],
      "metadata": {
        "colab": {
          "base_uri": "https://localhost:8080/"
        },
        "id": "6pik2cY5SR3a",
        "outputId": "7b3734cc-4648-4f04-9f72-38f7be042810"
      },
      "execution_count": 31,
      "outputs": [
        {
          "output_type": "stream",
          "name": "stdout",
          "text": [
            "Caught an IndexError: List index out of range.\n"
          ]
        }
      ]
    },
    {
      "cell_type": "markdown",
      "source": [
        "**20. How would you open a file and read its contents using a context manager in Python?**"
      ],
      "metadata": {
        "id": "xkuHkdt7kw7o"
      }
    },
    {
      "cell_type": "code",
      "source": [
        "with open(\"numbers.txt\", \"r\") as file:\n",
        "  print(file.read())"
      ],
      "metadata": {
        "colab": {
          "base_uri": "https://localhost:8080/"
        },
        "id": "BXE7YvccSCBl",
        "outputId": "15e91ed0-656c-431c-e543-8bf6e33b53c0"
      },
      "execution_count": 32,
      "outputs": [
        {
          "output_type": "stream",
          "name": "stdout",
          "text": [
            "1\n",
            "2\n",
            "3\n",
            "4\n",
            "5\n",
            "6\n",
            "7\n",
            "8\n",
            "9\n",
            "10\n",
            "\n"
          ]
        }
      ]
    },
    {
      "cell_type": "markdown",
      "source": [
        "**21. Write a Python program that reads a file and prints the number of occurrences of a specific word.**"
      ],
      "metadata": {
        "id": "RQfoa7MhkxBE"
      }
    },
    {
      "cell_type": "code",
      "source": [
        "with open(\"file1.txt\",\"r\") as file:\n",
        "  content=file.read().lower()\n",
        "  words=content.split()\n",
        "  count=words.count(\"or\")\n",
        "  print(count)"
      ],
      "metadata": {
        "colab": {
          "base_uri": "https://localhost:8080/"
        },
        "id": "zIcRuXzoQ_1w",
        "outputId": "447c21ce-75a8-4e0f-9ede-b2c1dde231aa"
      },
      "execution_count": 33,
      "outputs": [
        {
          "output_type": "stream",
          "name": "stdout",
          "text": [
            "2\n"
          ]
        }
      ]
    },
    {
      "cell_type": "markdown",
      "source": [
        "**22.  How can you check if a file is empty before attempting to read its contents?**"
      ],
      "metadata": {
        "id": "Zn2mPIV2kxFo"
      }
    },
    {
      "cell_type": "code",
      "source": [
        "filename = \"file3.txt\"\n",
        "\n",
        "if os.path.exists(filename) and os.path.getsize(filename) > 0:\n",
        "    with open(filename, \"r\") as file:\n",
        "        content = file.read()\n",
        "        print(content)\n",
        "else:\n",
        "    print(\"File is empty.\")"
      ],
      "metadata": {
        "colab": {
          "base_uri": "https://localhost:8080/"
        },
        "id": "Hkx1jjBuP7S1",
        "outputId": "285390e1-ae36-4b39-d195-64033f0b30a0"
      },
      "execution_count": 34,
      "outputs": [
        {
          "output_type": "stream",
          "name": "stdout",
          "text": [
            "File is empty.\n"
          ]
        }
      ]
    },
    {
      "cell_type": "markdown",
      "source": [
        "**23.  Write a Python program that writes to a log file when an error occurs during file handling.**"
      ],
      "metadata": {
        "id": "1Dis68IFkxKs"
      }
    },
    {
      "cell_type": "code",
      "source": [
        "logging.basicConfig(filename='log5.txt',level=logging.ERROR,format='%(asctime)s - %(levelname)s - %(message)s')\n",
        "try:\n",
        "  with open(\"file30.txt\", 'r') as file:\n",
        "    content = file.read()\n",
        "    print(content)\n",
        "except Exception as e:\n",
        "  logging.error(f\"Error occurred while handling the file '{filename}': {e}\")"
      ],
      "metadata": {
        "id": "A9xPA627mg1F",
        "colab": {
          "base_uri": "https://localhost:8080/"
        },
        "outputId": "2f5683d5-d1e9-41b2-e7e3-5fb464d0f9e5"
      },
      "execution_count": 35,
      "outputs": [
        {
          "output_type": "stream",
          "name": "stderr",
          "text": [
            "ERROR:root:Error occurred while handling the file 'file3.txt': [Errno 2] No such file or directory: 'file30.txt'\n"
          ]
        }
      ]
    }
  ]
}