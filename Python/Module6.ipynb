{
  "nbformat": 4,
  "nbformat_minor": 0,
  "metadata": {
    "colab": {
      "provenance": [],
      "authorship_tag": "ABX9TyNtCcnArNv5/ifRFTM6igBL",
      "include_colab_link": true
    },
    "kernelspec": {
      "name": "python3",
      "display_name": "Python 3"
    },
    "language_info": {
      "name": "python"
    }
  },
  "cells": [
    {
      "cell_type": "markdown",
      "metadata": {
        "id": "view-in-github",
        "colab_type": "text"
      },
      "source": [
        "<a href=\"https://colab.research.google.com/github/nehajadhav2302/data_analytics/blob/main/Module6.ipynb\" target=\"_parent\"><img src=\"https://colab.research.google.com/assets/colab-badge.svg\" alt=\"Open In Colab\"/></a>"
      ]
    },
    {
      "cell_type": "markdown",
      "source": [
        "# OOPS"
      ],
      "metadata": {
        "id": "rlMXgpOfEKIY"
      }
    },
    {
      "cell_type": "markdown",
      "source": [
        "## Python OOPs Questions"
      ],
      "metadata": {
        "id": "yj3bBHJBERMu"
      }
    },
    {
      "cell_type": "markdown",
      "source": [
        "**1. What is Object-Oriented Programming (OOP)?**\n",
        "\n",
        "->\n",
        "\n",
        "Object-Oriented Programming (OOP) is a programming paradigm based on the concept of \"objects\", which are instances of classes. These objects can contain data (in the form of fields or attributes) and code (in the form of methods or functions).\n",
        "\n",
        "**Key Concepts of OOP:**\n",
        "* **Class**: A blueprint for creating objects. It defines attributes and methods.\n",
        "\n",
        "* **Object**: An instance of a class. Each object can have different values for its attributes.\n",
        "\n",
        "* **Encapsulation**: Bundling data and methods that operate on the data within one unit (a class), and restricting access to some of the object's components.\n",
        "\n",
        "* **Abstraction**: Hiding complex implementation details and showing only the necessary features of an object.\n",
        "\n",
        "* **Inheritance**: A mechanism where one class (child) can inherit the attributes and methods of another class (parent), promoting code reuse.\n",
        "\n",
        "* **Polymorphism**: The ability to present the same interface for different data types or implement the same method in different ways."
      ],
      "metadata": {
        "id": "krEaKBi1EYBL"
      }
    },
    {
      "cell_type": "markdown",
      "source": [
        "**2. What is a class in OOP?**\n",
        "\n",
        "->\n",
        "\n",
        "In Object-Oriented Programming (OOP), a class is a blueprint or template for creating objects. It defines the structure and behavior that the objects (also called instances) will have.\n",
        "\n",
        "**A class typically defines:**\n",
        "* **Attributes** (also called fields or properties): The data or state.\n",
        "\n",
        "* **Methods** (also called functions): The actions or behavior the object can perform."
      ],
      "metadata": {
        "id": "FMYtL3W0EeZm"
      }
    },
    {
      "cell_type": "code",
      "source": [
        "# Example\n",
        "class Car:  # Class definition\n",
        "    def __init__(self, brand, model):\n",
        "        self.brand = brand\n",
        "        self.model = model\n",
        "\n",
        "    def drive(self):\n",
        "        print(f\"{self.brand} {self.model} is driving.\")"
      ],
      "metadata": {
        "id": "w0l0qZlQJLVK"
      },
      "execution_count": 1,
      "outputs": []
    },
    {
      "cell_type": "code",
      "source": [
        "my_car = Car(\"Toyota\", \"Corolla\")\n",
        "my_car.drive()"
      ],
      "metadata": {
        "id": "CHag3So8JR0A",
        "outputId": "0eb15709-432c-46ca-833c-407382c61390",
        "colab": {
          "base_uri": "https://localhost:8080/"
        }
      },
      "execution_count": 2,
      "outputs": [
        {
          "output_type": "stream",
          "name": "stdout",
          "text": [
            "Toyota Corolla is driving.\n"
          ]
        }
      ]
    },
    {
      "cell_type": "markdown",
      "source": [
        "**3. What is an object in OOP?**\n",
        "\n",
        "->\n",
        "\n",
        "An object is a basic unit that represents a real-world entity. It is an instance of a class, containing:\n",
        "\n",
        "* **Attributes** (also called properties or fields) — which hold data.\n",
        "\n",
        "* **Methods** (also called functions or behaviors) — which define what the object can do."
      ],
      "metadata": {
        "id": "W4t_MN-zEfF7"
      }
    },
    {
      "cell_type": "code",
      "source": [
        "# Example\n",
        "class Car:\n",
        "    def __init__(self, brand, color):\n",
        "        self.brand = brand\n",
        "        self.color = color\n",
        "\n",
        "    def drive(self):\n",
        "        print(f\"The {self.color} {self.brand} is driving.\")"
      ],
      "metadata": {
        "id": "atnJQrLfa7d5"
      },
      "execution_count": 3,
      "outputs": []
    },
    {
      "cell_type": "code",
      "source": [
        "# Creating an object\n",
        "my_car = Car(\"Toyota\", \"Red\")\n",
        "my_car.drive()"
      ],
      "metadata": {
        "colab": {
          "base_uri": "https://localhost:8080/"
        },
        "id": "gxzYW8eZbBrg",
        "outputId": "c440cb16-c1df-4800-abb3-e5b85dd1fc67"
      },
      "execution_count": 4,
      "outputs": [
        {
          "output_type": "stream",
          "name": "stdout",
          "text": [
            "The Red Toyota is driving.\n"
          ]
        }
      ]
    },
    {
      "cell_type": "markdown",
      "source": [
        "**4. What is the difference between abstraction and encapsulation?**\n",
        "\n",
        "->\n",
        "\n",
        "* **Abstraction**\n",
        "1. It hides implementation details and shows only the relevant data or operations.\n",
        "2. Simplify usage by providing a clear interface.\n",
        "3. It is achieved by using abstract classes, interfaces, or methods.\n",
        "\n",
        "* **Encapsulation**\n",
        "1. It bundles data and methods into a single unit (object) and restricts access to internal details.\n",
        "2. Prevent unauthorized access and modification.\n",
        "3. It is achieved by using access modifiers (like private, protected, public)."
      ],
      "metadata": {
        "id": "Z1jgSwseEfJu"
      }
    },
    {
      "cell_type": "code",
      "source": [
        "# Abstraction Example\n",
        "from abc import ABC, abstractmethod\n",
        "\n",
        "class Animal(ABC):\n",
        "    @abstractmethod\n",
        "    def make_sound(self):\n",
        "        pass\n",
        "\n",
        "class Dog(Animal):\n",
        "    def make_sound(self):\n",
        "        print(\"Bark\")"
      ],
      "metadata": {
        "id": "dDFLjuuobveu"
      },
      "execution_count": 5,
      "outputs": []
    },
    {
      "cell_type": "code",
      "source": [
        "anm=Dog()\n",
        "anm.make_sound()"
      ],
      "metadata": {
        "colab": {
          "base_uri": "https://localhost:8080/"
        },
        "id": "E0VuaIzpcFhc",
        "outputId": "817efbe9-c172-411e-b750-47fa9733785d"
      },
      "execution_count": 6,
      "outputs": [
        {
          "output_type": "stream",
          "name": "stdout",
          "text": [
            "Bark\n"
          ]
        }
      ]
    },
    {
      "cell_type": "code",
      "source": [
        "# Encapsulation Example\n",
        "class Person:\n",
        "    def __init__(self, name):\n",
        "        self.__name = name\n",
        "\n",
        "    def get_name(self):\n",
        "        return self.__name\n",
        "\n",
        "    def set_name(self, name):\n",
        "        self.__name = name"
      ],
      "metadata": {
        "id": "Q58rSc7Kb4eX"
      },
      "execution_count": 7,
      "outputs": []
    },
    {
      "cell_type": "code",
      "source": [
        "per=Person('Neha')\n",
        "per.get_name()"
      ],
      "metadata": {
        "colab": {
          "base_uri": "https://localhost:8080/",
          "height": 35
        },
        "id": "x9bHDlljcPy6",
        "outputId": "a6c8c395-7960-470e-92a4-b3a1b38d498d"
      },
      "execution_count": 8,
      "outputs": [
        {
          "output_type": "execute_result",
          "data": {
            "text/plain": [
              "'Neha'"
            ],
            "application/vnd.google.colaboratory.intrinsic+json": {
              "type": "string"
            }
          },
          "metadata": {},
          "execution_count": 8
        }
      ]
    },
    {
      "cell_type": "markdown",
      "source": [
        "**5. What are dunder methods in Python?**\n",
        "\n",
        "->\n",
        "\n",
        "* Dunder methods (short for \"double underscore\" methods) in Python are special methods that start and end with double underscores, like `__init__`, `__str__`, `__len__`, etc.\n",
        "* They are also called magic methods and are used to define or customize the behavior of your objects with respect to built-in operations (like printing, adding, comparing, etc.).\n",
        "* Examples of Common Dunder Methods:\n",
        "1. `__init__`: Initializes new objects\n",
        "2. `__str__`: String representation for print()\n",
        "3. `__add__`: Defines behavior for + operator\n",
        "4. `__eq__`: Defines equality == comparison\n",
        "5. `__len__`: Defines behavior for len(obj)"
      ],
      "metadata": {
        "id": "WGMkDUBGEfN4"
      }
    },
    {
      "cell_type": "code",
      "source": [
        "# Example\n",
        "class Book:\n",
        "    def __init__(self, title, pages):\n",
        "        self.title = title\n",
        "        self.pages = pages\n",
        "\n",
        "    def __str__(self):\n",
        "        return f\"{self.title} - {self.pages} pages\"\n",
        "\n",
        "    def __len__(self):\n",
        "        return self.pages"
      ],
      "metadata": {
        "id": "CRhwfu3GchHR"
      },
      "execution_count": 9,
      "outputs": []
    },
    {
      "cell_type": "code",
      "source": [
        "book = Book(\"Python Basics\", 300)\n",
        "print(book)\n",
        "print(len(book))"
      ],
      "metadata": {
        "colab": {
          "base_uri": "https://localhost:8080/"
        },
        "id": "5DjaeI0KdW9t",
        "outputId": "2ab080ab-8694-4d39-e01a-48ae4c324015"
      },
      "execution_count": 10,
      "outputs": [
        {
          "output_type": "stream",
          "name": "stdout",
          "text": [
            "Python Basics - 300 pages\n",
            "300\n"
          ]
        }
      ]
    },
    {
      "cell_type": "markdown",
      "source": [
        "**6. Explain the concept of inheritance in OOP.**\n",
        "\n",
        "->\n",
        "\n",
        "* Inheritance is a concept that allows one class (called the child or subclass) to inherit properties and behaviors (methods and attributes) from another class (called the parent or superclass).\n",
        "* It avoids rewriting of the same code.\n",
        "* Creates logical hierarchies.\n",
        "* Add or modify features in child classes without changing the parent class.\n",
        "* **Types of Inheritances**\n",
        "1. **Single Inheritance**: One child class inherits from one parent class.\n",
        "2. **Multiple Inheritance**: A child class inherits from multiple parent classes.\n",
        "3. **Multilevel Inheritance**: A class inherits from a child class which itself inherits from another class.\n",
        "4. **Hierarchical Inheritance**: Multiple child classes inherit from a single parent class.\n"
      ],
      "metadata": {
        "id": "l7Ny79qOE91R"
      }
    },
    {
      "cell_type": "code",
      "source": [
        "# Example\n",
        "class Animal:\n",
        "    def speak(self):\n",
        "        print(\"This animal makes a sound.\")\n",
        "\n",
        "class Dog(Animal):\n",
        "    def speak(self):\n",
        "        print(\"The dog barks.\")"
      ],
      "metadata": {
        "id": "oUabgrhCe9_6"
      },
      "execution_count": 11,
      "outputs": []
    },
    {
      "cell_type": "code",
      "source": [
        "dog = Dog()\n",
        "dog.speak()"
      ],
      "metadata": {
        "colab": {
          "base_uri": "https://localhost:8080/"
        },
        "id": "H1VQa1o0fH7j",
        "outputId": "2826ddb1-606b-4976-a4c2-3716335617e7"
      },
      "execution_count": 12,
      "outputs": [
        {
          "output_type": "stream",
          "name": "stdout",
          "text": [
            "The dog barks.\n"
          ]
        }
      ]
    },
    {
      "cell_type": "markdown",
      "source": [
        "**7.  What is polymorphism in OOP?**\n",
        "\n",
        "->\n",
        "\n",
        "* Polymorphism means \"many forms\".\n",
        "* It allows the same interface or method name to behave differently based on the object that is calling it.\n",
        "* Polymorphism is used to write flexible and reusable code.\n",
        "* It is used to treat objects of different classes uniformly through a common interface.\n",
        "* It is used to enable method overriding and dynamic behavior at runtime.\n",
        "* **Types of Polymorphism**\n",
        "1. **Method Overloading**: Overloading is the ability to define multiple methods with the same name but different parameters in the same class. Python does not support method overloading in the traditional way, but you can simulate it.\n",
        "2. **Method Overriding**: Overriding means a child class provides a specific implementation of a method that is already defined in its parent class."
      ],
      "metadata": {
        "id": "KacWxF9hE970"
      }
    },
    {
      "cell_type": "code",
      "source": [
        "# Overloading Example\n",
        "class Calculator:\n",
        "    def add(self, a, b=0, c=0):\n",
        "        return a + b + c"
      ],
      "metadata": {
        "id": "Gb2eQGb0hboA"
      },
      "execution_count": 13,
      "outputs": []
    },
    {
      "cell_type": "code",
      "source": [
        "calc = Calculator()\n",
        "print(calc.add(5))\n",
        "print(calc.add(5, 10))\n",
        "print(calc.add(5, 10, 15))"
      ],
      "metadata": {
        "colab": {
          "base_uri": "https://localhost:8080/"
        },
        "id": "8OYGv7KEhkQg",
        "outputId": "f6af426e-cf3f-4c32-9431-b52c0179e155"
      },
      "execution_count": 14,
      "outputs": [
        {
          "output_type": "stream",
          "name": "stdout",
          "text": [
            "5\n",
            "15\n",
            "30\n"
          ]
        }
      ]
    },
    {
      "cell_type": "code",
      "source": [
        "# Overriding Example\n",
        "class Animal:\n",
        "    def sound(self):\n",
        "        print(\"Some generic animal sound\")\n",
        "\n",
        "class Cat(Animal):\n",
        "    def sound(self):\n",
        "        print(\"Meow\")"
      ],
      "metadata": {
        "id": "lrG0F965hkA4"
      },
      "execution_count": 15,
      "outputs": []
    },
    {
      "cell_type": "code",
      "source": [
        "a = Animal()\n",
        "c = Cat()\n",
        "a.sound()\n",
        "c.sound()"
      ],
      "metadata": {
        "colab": {
          "base_uri": "https://localhost:8080/"
        },
        "id": "pDxqDtrahw5Q",
        "outputId": "f5ebb1c4-ac72-4345-d9b6-8cb7e86c4428"
      },
      "execution_count": 16,
      "outputs": [
        {
          "output_type": "stream",
          "name": "stdout",
          "text": [
            "Some generic animal sound\n",
            "Meow\n"
          ]
        }
      ]
    },
    {
      "cell_type": "markdown",
      "source": [
        "**8. How is encapsulation achieved in Python?**\n",
        "\n",
        "->\n",
        "\n",
        "* Encapsulation is the OOP principle of restricting direct access to an object’s data and allowing it to be accessed or modified only through methods.\n",
        "* Encapsulation is achieved using:\n",
        "1. **Public Members**: Accessible from anywhere.\n",
        "2. **Protected Members**: Prefix with a single underscore _attribute. Should be accessed only within the class or subclasses.\n",
        "3. **Private Members**: Prefix with double underscore __attribute. Makes the variable hard to access from outside the class."
      ],
      "metadata": {
        "id": "JvqEnuwgE-Cu"
      }
    },
    {
      "cell_type": "code",
      "source": [
        "# Public Members Example\n",
        "class Person:\n",
        "    def __init__(self):\n",
        "        self.name = \"Neha\"\n",
        "\n",
        "p = Person()\n",
        "print(p.name)"
      ],
      "metadata": {
        "colab": {
          "base_uri": "https://localhost:8080/"
        },
        "id": "pPOEjNg7icZU",
        "outputId": "67f4866c-5520-469d-fea1-bb8350f07fea"
      },
      "execution_count": 17,
      "outputs": [
        {
          "output_type": "stream",
          "name": "stdout",
          "text": [
            "Neha\n"
          ]
        }
      ]
    },
    {
      "cell_type": "code",
      "source": [
        "# Protected Members Example\n",
        "class Person:\n",
        "    def __init__(self):\n",
        "        self._age = 22\n",
        "\n",
        "p = Person()\n",
        "print(p._age)"
      ],
      "metadata": {
        "colab": {
          "base_uri": "https://localhost:8080/"
        },
        "id": "Ml0g5EYDipap",
        "outputId": "479c3d08-2e40-429c-9633-9b3d9bd04db6"
      },
      "execution_count": 18,
      "outputs": [
        {
          "output_type": "stream",
          "name": "stdout",
          "text": [
            "22\n"
          ]
        }
      ]
    },
    {
      "cell_type": "code",
      "source": [
        "# Private Members Example\n",
        "class Person:\n",
        "    def __init__(self):\n",
        "        self.__salary = 50000  # Private attribute\n",
        "\n",
        "    def get_salary(self):\n",
        "        return self.__salary\n",
        "\n",
        "p = Person()\n",
        "print(p.get_salary())\n",
        "print(p._Person__salary)"
      ],
      "metadata": {
        "colab": {
          "base_uri": "https://localhost:8080/"
        },
        "id": "XLYb0EsEipTF",
        "outputId": "0e37595e-87df-45a0-d1eb-bea48d4b40f9"
      },
      "execution_count": 19,
      "outputs": [
        {
          "output_type": "stream",
          "name": "stdout",
          "text": [
            "50000\n",
            "50000\n"
          ]
        }
      ]
    },
    {
      "cell_type": "markdown",
      "source": [
        "**9. What is a constructor in Python?**\n",
        "\n",
        "->\n",
        "\n",
        "* A constructor is a special method in Python that is automatically invoked when an object of a class is created.\n",
        "* The primary purpose of a constructor is to initialize the object's attributes or perform any setup the object may need when it is instantiated.\n",
        "* The constructor in Python is the `__init__` method, and it's called when a new object of the class is created.\n",
        "* The `__init__` method does not return anything (not even None).\n",
        "* It is used to initialize the object's attributes with values when an instance of the class is created."
      ],
      "metadata": {
        "id": "tdIpTN5LE-6N"
      }
    },
    {
      "cell_type": "code",
      "source": [
        "# Example\n",
        "class Person:\n",
        "    def __init__(self, name, age):\n",
        "        self.name = name\n",
        "        self.age = age\n",
        "\n",
        "p = Person(\"Alice\", 30)\n",
        "print(p.name)\n",
        "print(p.age)"
      ],
      "metadata": {
        "colab": {
          "base_uri": "https://localhost:8080/"
        },
        "id": "czSvNn-bjYw3",
        "outputId": "f9a930fa-b412-4e7e-bcd3-8f4c2922044b"
      },
      "execution_count": 20,
      "outputs": [
        {
          "output_type": "stream",
          "name": "stdout",
          "text": [
            "Alice\n",
            "30\n"
          ]
        }
      ]
    },
    {
      "cell_type": "markdown",
      "source": [
        "**10. What are class and static methods in Python?**\n",
        "\n",
        "->\n",
        "\n",
        "* **Class Method**:\n",
        "1. A class method is a method that is bound to the class rather than the instance.\n",
        "2. It takes a class object as the first argument (cls), rather than an instance object (self).\n",
        "3. Class methods are used when the method needs to operate on the class itself (not on individual instances of the class), such as accessing class-level attributes or modifying them.\n",
        "\n",
        "* **Static Method**:\n",
        "1. A static method is a method that does not take a reference to the class or the instance (no cls or self as the first parameter).\n",
        "2. It behaves like a regular function, but it belongs to the class's namespace.\n",
        "3. Static methods are used when a method doesn't need to access or modify the class or instance, and it doesn't depend on instance-specific data."
      ],
      "metadata": {
        "id": "TTB8I5PcE_AA"
      }
    },
    {
      "cell_type": "code",
      "source": [
        "# Class Method Example\n",
        "class Person:\n",
        "    population = 0\n",
        "\n",
        "    def __init__(self, name):\n",
        "        self.name = name\n",
        "        Person.population += 1\n",
        "\n",
        "    @classmethod\n",
        "    def get_population(cls):\n",
        "        return cls.population\n",
        "\n",
        "p1 = Person(\"Alice\")\n",
        "p2 = Person(\"Bob\")\n",
        "print(Person.get_population())"
      ],
      "metadata": {
        "colab": {
          "base_uri": "https://localhost:8080/"
        },
        "id": "_zrqSWlRkd2T",
        "outputId": "773e6436-9ec1-4afe-fa2e-f9ba6fe374c6"
      },
      "execution_count": 21,
      "outputs": [
        {
          "output_type": "stream",
          "name": "stdout",
          "text": [
            "2\n"
          ]
        }
      ]
    },
    {
      "cell_type": "code",
      "source": [
        "# Static Method Example\n",
        "class Calculator:\n",
        "\n",
        "    @staticmethod\n",
        "    def add(a, b):\n",
        "        return a + b\n",
        "\n",
        "    @staticmethod\n",
        "    def subtract(a, b):\n",
        "        return a - b\n",
        "\n",
        "print(Calculator.add(5, 3))\n",
        "print(Calculator.subtract(10, 4))\n"
      ],
      "metadata": {
        "colab": {
          "base_uri": "https://localhost:8080/"
        },
        "id": "C4h79BdVkdra",
        "outputId": "8489a43a-6de8-4c32-8884-d25c509ee58d"
      },
      "execution_count": 22,
      "outputs": [
        {
          "output_type": "stream",
          "name": "stdout",
          "text": [
            "8\n",
            "6\n"
          ]
        }
      ]
    },
    {
      "cell_type": "markdown",
      "source": [
        "**11. What is method overloading in Python?**\n",
        "\n",
        "->\n",
        "\n",
        "* Method overloading in Python refers to the ability to define multiple methods with the same name but different parameters.\n",
        "* However, Python does not support traditional method overloading like languages such as Java or C++.\n",
        "* In Python, if you define a method multiple times in the same class, the last definition will override the previous ones."
      ],
      "metadata": {
        "id": "5xYSJtS2E_E_"
      }
    },
    {
      "cell_type": "code",
      "source": [
        "# Example\n",
        "class Greet:\n",
        "    def hello(self, name=None):\n",
        "        if name:\n",
        "            print(f\"Hello, {name}!\")\n",
        "        else:\n",
        "            print(\"Hello!\")\n",
        "\n",
        "g = Greet()\n",
        "g.hello()\n",
        "g.hello(\"Neha\")"
      ],
      "metadata": {
        "colab": {
          "base_uri": "https://localhost:8080/"
        },
        "id": "kwfhrnOzHrrv",
        "outputId": "fc2ff073-c33c-466c-cdc6-1ad2565d5543"
      },
      "execution_count": 23,
      "outputs": [
        {
          "output_type": "stream",
          "name": "stdout",
          "text": [
            "Hello!\n",
            "Hello, Neha!\n"
          ]
        }
      ]
    },
    {
      "cell_type": "markdown",
      "source": [
        "**12. What is method overriding in OOP?**\n",
        "\n",
        "->\n",
        "\n",
        "* Method overriding occurs when a subclass provides a specific implementation of a method that is already defined in its parent (superclass).\n",
        "* The method in the subclass has the same name, parameters, and signature as in the parent class, and it replaces the parent’s version when called on a subclass object.\n",
        "* It is used to achieve runtime polymorphism.\n",
        "* The subclass method overrides the parent class method.\n",
        "* The overridden method can still be accessed using super().\n",
        "\n"
      ],
      "metadata": {
        "id": "eaKXDp4EE_KT"
      }
    },
    {
      "cell_type": "code",
      "source": [
        "# Example\n",
        "class Animal:\n",
        "    def speak(self):\n",
        "        print(\"The animal makes a sound\")\n",
        "\n",
        "class Dog(Animal):\n",
        "    def speak(self):\n",
        "        print(\"The dog barks\")\n",
        "\n",
        "a = Animal()\n",
        "a.speak()\n",
        "\n",
        "d = Dog()\n",
        "d.speak()"
      ],
      "metadata": {
        "colab": {
          "base_uri": "https://localhost:8080/"
        },
        "id": "8KCxZEtrI63t",
        "outputId": "a57379ca-0d22-4deb-f0e8-4ff969cfcda3"
      },
      "execution_count": 24,
      "outputs": [
        {
          "output_type": "stream",
          "name": "stdout",
          "text": [
            "The animal makes a sound\n",
            "The dog barks\n"
          ]
        }
      ]
    },
    {
      "cell_type": "markdown",
      "source": [
        "**13. What is a property decorator in Python?**\n",
        "\n",
        "->\n",
        "\n",
        "* The property decorator is used to define a method as a property, allowing you to access it like an attribute while still using the functionality of a method.\n",
        "* It's a way to implement getter, setter, and deleter functionality for class attributes in a clean, Pythonic way.\n",
        "* It is used to encapsulate private attributes.\n",
        "* It is used to control access, computation, or validation during getting/setting.\n",
        "\n",
        "\n"
      ],
      "metadata": {
        "id": "ufyaeLMoE_Pt"
      }
    },
    {
      "cell_type": "code",
      "source": [
        "class Circle:\n",
        "    def __init__(self, radius):\n",
        "        self.__radius = radius\n",
        "\n",
        "    @property\n",
        "    def radius(self):\n",
        "        return self.__radius\n",
        "\n",
        "    @radius.setter\n",
        "    def radius(self, value):\n",
        "        if value >= 0:\n",
        "            self._radius = value\n",
        "        else:\n",
        "            raise ValueError(\"Radius cannot be negative\")\n",
        "\n",
        "c = Circle(5)\n",
        "print(c.radius)"
      ],
      "metadata": {
        "colab": {
          "base_uri": "https://localhost:8080/"
        },
        "id": "vEJxIAwKJ5yD",
        "outputId": "4e7c8b55-0a15-48c7-827e-49962c142390"
      },
      "execution_count": 25,
      "outputs": [
        {
          "output_type": "stream",
          "name": "stdout",
          "text": [
            "5\n"
          ]
        }
      ]
    },
    {
      "cell_type": "markdown",
      "source": [
        "**14. Why is polymorphism important in OOP?**\n",
        "\n",
        "->\n",
        "\n",
        "* Polymorphism is important in Object-Oriented Programming (OOP) because it allows objects of different classes to be treated as objects of a common superclass, enabling flexibility, scalability, and maintainability in code.\n",
        "* We can write generic code that works with different types of objects.\n",
        "* New classes can be introduced without modifying existing code, as long as they follow a common interface or base class.\n",
        "* At runtime, the appropriate method is called based on the actual object’s class, not the reference type.\n"
      ],
      "metadata": {
        "id": "xu5ai6XME_VT"
      }
    },
    {
      "cell_type": "markdown",
      "source": [
        "**15. What is an abstract class in Python?**\n",
        "\n",
        "->\n",
        "\n",
        "* An abstract class in Python is a class that cannot be instantiated directly and is meant to be inherited by other classes.\n",
        "* It is used to define a common interface or blueprint for its subclasses.\n",
        "* An abstract class can include abstract methods, which are methods that have no implementation in the base class and must be overridden in subclasses.\n",
        "* Abstract classes cannot be instantiated."
      ],
      "metadata": {
        "id": "mTPHswcLE_bI"
      }
    },
    {
      "cell_type": "code",
      "source": [
        "# Example\n",
        "class Animal():\n",
        "    def make_sound(self):\n",
        "        pass\n",
        "\n",
        "class Dog(Animal):\n",
        "    def make_sound(self):\n",
        "        print(\"Bark\")\n",
        "\n",
        "dog = Dog()\n",
        "dog.make_sound()"
      ],
      "metadata": {
        "colab": {
          "base_uri": "https://localhost:8080/"
        },
        "id": "p4q0Wn_lLNZV",
        "outputId": "37584343-2ae1-4b8b-c472-c5c687067985"
      },
      "execution_count": 26,
      "outputs": [
        {
          "output_type": "stream",
          "name": "stdout",
          "text": [
            "Bark\n"
          ]
        }
      ]
    },
    {
      "cell_type": "markdown",
      "source": [
        "**16. What are the advantages of OOP?**\n",
        "\n",
        "->\n",
        "\n",
        "Following are the advantages of OOP:\n",
        "* Code is organized into self-contained classes, each handling its own data and behavior.\n",
        "* Makes code easier to understand, debug, and maintain.\n",
        "* Inheritance allows new classes to reuse existing code, reducing duplication.\n",
        "* Hides internal state and only exposes a controlled interface, improving security and reducing complexity.\n",
        "* Enables using a single interface to represent different data types or classes.\n",
        "* OOP systems are easier to update and scale as requirements change."
      ],
      "metadata": {
        "id": "et3MZjcyE_fm"
      }
    },
    {
      "cell_type": "markdown",
      "source": [
        "**17. What is the difference between a class variable and an instance variable?**\n",
        "\n",
        "->\n",
        "\n",
        "* **Class Variable**\n",
        "1. Shared across all instances of the class.\n",
        "2. Defined inside the class, but outside any method.\n",
        "3. Changing it affects all instances (unless overridden in an instance).\n",
        "* **Instance Variable**\n",
        "1. Unique to each instance (object).\n",
        "2. Defined using self inside a method, typically `__init__()`.\n",
        "3.  Changing it affects only that specific instance."
      ],
      "metadata": {
        "id": "_M3mP0w3E_ka"
      }
    },
    {
      "cell_type": "code",
      "source": [
        "class Student:\n",
        "    # Class variable\n",
        "    school_name = \"Greenwood High\"\n",
        "\n",
        "    def __init__(self, name, grade):\n",
        "        # Instance variables\n",
        "        self.name = name\n",
        "        self.grade = grade\n",
        "\n",
        "student1 = Student(\"Alice\", \"A\")\n",
        "student2 = Student(\"Bob\", \"B\")\n",
        "\n",
        "print(student1.name)\n",
        "print(student2.grade)\n",
        "\n",
        "print(student1.school_name)\n",
        "\n",
        "# Changing class variable\n",
        "Student.school_name = \"Sunrise School\"\n",
        "\n",
        "print(student2.school_name)"
      ],
      "metadata": {
        "colab": {
          "base_uri": "https://localhost:8080/"
        },
        "id": "zbF68SdAM_xP",
        "outputId": "f12012fb-5542-417b-f100-93a99507dfda"
      },
      "execution_count": 27,
      "outputs": [
        {
          "output_type": "stream",
          "name": "stdout",
          "text": [
            "Alice\n",
            "B\n",
            "Greenwood High\n",
            "Sunrise School\n"
          ]
        }
      ]
    },
    {
      "cell_type": "markdown",
      "source": [
        "**18.  What is multiple inheritance in Python?**\n",
        "\n",
        "->\n",
        "\n",
        "* Multiple inheritance in Python is a feature where a class can inherit from more than one parent class.\n",
        "* This allows the child class to access attributes and methods from all its parent classes."
      ],
      "metadata": {
        "id": "HDtQPkDEE_qb"
      }
    },
    {
      "cell_type": "code",
      "source": [
        "class Father:\n",
        "    def skills(self):\n",
        "        print(\"Gardening, Carpentry\")\n",
        "\n",
        "class Mother:\n",
        "    def skills(self):\n",
        "        print(\"Cooking, Painting\")\n",
        "\n",
        "class Child(Father, Mother):\n",
        "    def own_skills(self):\n",
        "        print(\"Coding\")\n",
        "\n",
        "c = Child()\n",
        "c.own_skills()\n",
        "c.skills()"
      ],
      "metadata": {
        "colab": {
          "base_uri": "https://localhost:8080/"
        },
        "id": "iyk3iD5SOcSp",
        "outputId": "fb9e1394-24ad-4613-da9a-57ad86da5ba5"
      },
      "execution_count": 28,
      "outputs": [
        {
          "output_type": "stream",
          "name": "stdout",
          "text": [
            "Coding\n",
            "Gardening, Carpentry\n"
          ]
        }
      ]
    },
    {
      "cell_type": "markdown",
      "source": [
        "**19. Explain the purpose of `__str__` and `__repr__` methods in Python.**\n",
        "\n",
        "->\n",
        "\n",
        "* The `__str__` and `__repr__` methods are used to define how objects of a class are represented as strings.\n",
        "* Both are magic methods, meaning they are used internally by Python and can be overridden to provide custom string representations of objects.\n",
        "* **`__str__` Method:**\n",
        "1. It is used to define the \"informal\" or user-friendly string representation of an object.\n",
        "2. This string is what is returned when the object is printed or converted to a string using str().\n",
        "\n",
        "* **`__repr__` Method:**\n",
        "1. The `__repr__` method is used to define the \"formal\" or detailed string representation of an object.\n",
        "2. The goal of `__repr__` is to provide an unambiguous string representation that ideally could be used to recreate the object.\n",
        "3. If possible, the string returned by `__repr__` should look like valid Python code.\n"
      ],
      "metadata": {
        "id": "ZOn0V5gSE_xX"
      }
    },
    {
      "cell_type": "code",
      "source": [
        "# Example\n",
        "class Dog:\n",
        "    def __init__(self, name, age):\n",
        "        self.name = name\n",
        "        self.age = age\n",
        "\n",
        "    def __str__(self):\n",
        "        return f\"{self.name} is {self.age} years old.\"\n",
        "\n",
        "    def __repr__(self):\n",
        "        return f\"Dog('{self.name}', {self.age})\"\n",
        "\n",
        "dog = Dog(\"Buddy\", 3)\n",
        "\n",
        "print(str(dog))\n",
        "print(repr(dog))\n",
        "dog"
      ],
      "metadata": {
        "colab": {
          "base_uri": "https://localhost:8080/"
        },
        "id": "hyvLNgSPP0GM",
        "outputId": "363ffe2f-334f-4a19-d40b-99652d7ef9ed"
      },
      "execution_count": 29,
      "outputs": [
        {
          "output_type": "stream",
          "name": "stdout",
          "text": [
            "Buddy is 3 years old.\n",
            "Dog('Buddy', 3)\n"
          ]
        },
        {
          "output_type": "execute_result",
          "data": {
            "text/plain": [
              "Dog('Buddy', 3)"
            ]
          },
          "metadata": {},
          "execution_count": 29
        }
      ]
    },
    {
      "cell_type": "markdown",
      "source": [
        "**20. What is the significance of the ‘super()’ function in Python?**\n",
        "\n",
        "->\n",
        "\n",
        "* The super() function in Python is a built-in function used to call methods from a parent class (superclass) in the child class (subclass).\n",
        "* It is particularly useful in inheritance scenarios, enabling you to call methods from parent classes without directly referencing them.\n",
        "* To call methods of the parent class from the child class, allowing you to extend or modify the inherited behavior."
      ],
      "metadata": {
        "id": "qUslmcpoE_2u"
      }
    },
    {
      "cell_type": "code",
      "source": [
        "# Example\n",
        "class Animal:\n",
        "    def speak(self):\n",
        "        print(\"Animal makes a sound\")\n",
        "\n",
        "class Dog(Animal):\n",
        "    def speak(self):\n",
        "        super().speak()\n",
        "        print(\"Dog barks\")\n",
        "\n",
        "dog = Dog()\n",
        "dog.speak()"
      ],
      "metadata": {
        "colab": {
          "base_uri": "https://localhost:8080/"
        },
        "id": "H8bl2i7rQkOO",
        "outputId": "724e83c2-891e-4a2e-9674-608ba6018c17"
      },
      "execution_count": 30,
      "outputs": [
        {
          "output_type": "stream",
          "name": "stdout",
          "text": [
            "Animal makes a sound\n",
            "Dog barks\n"
          ]
        }
      ]
    },
    {
      "cell_type": "markdown",
      "source": [
        "**21. What is the significance of the `__del__` method in Python?**\n",
        "\n",
        "->\n",
        "\n",
        "* The `__del__` method in Python is a special method (also known as a destructor) that is automatically called when an object is about to be destroyed.\n",
        "* It is part of the object lifecycle, specifically used for cleanup operations before the object is removed from memory.\n",
        "* The primary purpose of the `__del__` method is to release resources that are no longer needed when an object is being destroyed."
      ],
      "metadata": {
        "id": "3_SckUozE_8M"
      }
    },
    {
      "cell_type": "code",
      "source": [
        "# Example\n",
        "class MyClass:\n",
        "    def __init__(self, name):\n",
        "        self.name = name\n",
        "        print(f\"Object {self.name} is created!\")\n",
        "\n",
        "    def __del__(self):\n",
        "        print(f\"Object {self.name} is being destroyed!\")\n",
        "\n",
        "obj = MyClass(\"Test\")\n",
        "del obj"
      ],
      "metadata": {
        "colab": {
          "base_uri": "https://localhost:8080/"
        },
        "id": "BFSqq9gpRLgq",
        "outputId": "eba407d6-63a7-41cc-d16b-24633608318a"
      },
      "execution_count": 31,
      "outputs": [
        {
          "output_type": "stream",
          "name": "stdout",
          "text": [
            "Object Test is created!\n",
            "Object Test is being destroyed!\n"
          ]
        }
      ]
    },
    {
      "cell_type": "markdown",
      "source": [
        "**22. What is the difference between @staticmethod and @classmethod in Python?**\n",
        "\n",
        "->\n",
        "\n",
        "* **@staticmethod**\n",
        "1. A static method does not take the instance (self) or class (cls) as its first argument.\n",
        "2. Since it doesn't take self or cls, it doesn't have direct access to instance variables (self) or class variables (cls).\n",
        "3. Static methods are typically used for operations that are related to the class but don't need access to instance-specific or class-specific data.\n",
        "* **@classmethod**\n",
        "1. A class method takes the class itself as the first argument, rather than the instance (self). It is defined using @classmethod.\n",
        "2. It can access and modify class-level attributes and methods. It does not have access to instance-level data unless passed explicitly.\n",
        "3. Class methods are often used for factory methods (methods that return instances of the class) or for working with class-level data."
      ],
      "metadata": {
        "id": "wCIkBaRZFABR"
      }
    },
    {
      "cell_type": "code",
      "source": [
        "#staticmethod Exmaple\n",
        "class MyClass:\n",
        "    @staticmethod\n",
        "    def greet(name):\n",
        "        print(f\"Hello, {name}!\")\n",
        "\n",
        "MyClass.greet(\"Neha\")"
      ],
      "metadata": {
        "colab": {
          "base_uri": "https://localhost:8080/"
        },
        "id": "8uQIvNsgSICb",
        "outputId": "0ceab4fe-a153-4427-8ee5-6feb989dbec2"
      },
      "execution_count": 32,
      "outputs": [
        {
          "output_type": "stream",
          "name": "stdout",
          "text": [
            "Hello, Neha!\n"
          ]
        }
      ]
    },
    {
      "cell_type": "code",
      "source": [
        "#classmethod Example\n",
        "class MyClass:\n",
        "    class_variable = 42\n",
        "\n",
        "    @classmethod\n",
        "    def display_class_variable(cls):\n",
        "        print(f\"Class variable: {cls.class_variable}\")\n",
        "\n",
        "MyClass.display_class_variable()"
      ],
      "metadata": {
        "colab": {
          "base_uri": "https://localhost:8080/"
        },
        "id": "zBcPH-pNSH6o",
        "outputId": "ac237f71-10c8-4d4d-a663-b11313048d42"
      },
      "execution_count": 33,
      "outputs": [
        {
          "output_type": "stream",
          "name": "stdout",
          "text": [
            "Class variable: 42\n"
          ]
        }
      ]
    },
    {
      "cell_type": "markdown",
      "source": [
        "**23. How does polymorphism work in Python with inheritance?**\n",
        "\n",
        "->\n",
        "\n",
        "* Polymorphism allows objects of different classes to be treated as objects of a common base class. The actual method that gets called is determined by the object's class (at runtime), not the reference type.\n",
        "* A base class (parent class) defines a method (often a generic behavior). This method can be overridden in derived classes.\n",
        "* Derived classes (child classes) override the base class method to provide their own specific implementation. Each derived class can implement the method differently, which allows polymorphism to provide different behaviors.\n",
        "* Different classes (both base and derived) can be treated as instances of the same type. Objects of these different classes can all be called via a common interface (method name).\n",
        "* Python uses dynamic dispatch to call the method corresponding to the actual object type (not the reference type). When a method is called, Python will look up the method in the actual object's class and execute the correct method, even if it's called from a variable of the base class type."
      ],
      "metadata": {
        "id": "4ha1ljFFFAF5"
      }
    },
    {
      "cell_type": "markdown",
      "source": [
        "**24. What is method chaining in Python OOP?**\n",
        "\n",
        "->\n",
        "\n",
        "* Method chaining is a programming technique in which multiple methods are called on the same object in a single line, one after another.\n",
        "* This is possible when each method returns the object itself (i.e., self), allowing for subsequent method calls to be made on the same object.\n",
        "* In Python OOP, method chaining is often used to simplify code and create fluent, readable interfaces, especially when dealing with objects that need to undergo a sequence of modifications or operations."
      ],
      "metadata": {
        "id": "FhOKUyS4FALT"
      }
    },
    {
      "cell_type": "code",
      "source": [
        "# Example\n",
        "class Car:\n",
        "    def __init__(self, make, model):\n",
        "        self.make = make\n",
        "        self.model = model\n",
        "        self.speed = 0\n",
        "\n",
        "    def accelerate(self, amount):\n",
        "        self.speed += amount\n",
        "        return self\n",
        "\n",
        "    def brake(self, amount):\n",
        "        self.speed -= amount\n",
        "        return self\n",
        "\n",
        "    def honk(self):\n",
        "        print(f\"{self.make} {self.model} is honking!\")\n",
        "        return self\n",
        "\n",
        "    def status(self):\n",
        "        print(f\"{self.make} {self.model} is going at {self.speed} km/h.\")\n",
        "        return self\n",
        "\n",
        "my_car = Car(\"Toyota\", \"Camry\")\n",
        "my_car.accelerate(50).brake(20).status().honk().accelerate(30).status()\n"
      ],
      "metadata": {
        "colab": {
          "base_uri": "https://localhost:8080/"
        },
        "id": "85IU8PwBTdSq",
        "outputId": "82a8e5d3-4c6f-4750-d37d-39b2968e5578"
      },
      "execution_count": 34,
      "outputs": [
        {
          "output_type": "stream",
          "name": "stdout",
          "text": [
            "Toyota Camry is going at 30 km/h.\n",
            "Toyota Camry is honking!\n",
            "Toyota Camry is going at 60 km/h.\n"
          ]
        },
        {
          "output_type": "execute_result",
          "data": {
            "text/plain": [
              "<__main__.Car at 0x7f51bae02ed0>"
            ]
          },
          "metadata": {},
          "execution_count": 34
        }
      ]
    },
    {
      "cell_type": "markdown",
      "source": [
        "**25. What is the purpose of the __call__ method in Python?**\n",
        "\n",
        "->\n",
        "\n",
        "* In Python, the `__call__()` method is a special method that allows an instance of a class to be called like a function.\n",
        "* When an object is called (using parentheses ()), the `__call__()` method is invoked automatically.\n",
        "* This method can be defined to make an object behave like a function or a callable.\n",
        "* When an instance of a class is called using parentheses (e.g., obj()), Python will invoke the `__call__()` method defined in the class.\n",
        "* You can pass arguments to `__call__()`, and it can return values just like a normal function."
      ],
      "metadata": {
        "id": "sXYdMfEMFAQP"
      }
    },
    {
      "cell_type": "code",
      "source": [
        "# Exmaple\n",
        "class Multiplier:\n",
        "    def __init__(self, factor):\n",
        "        self.factor = factor\n",
        "\n",
        "    def __call__(self, x):\n",
        "        return x * self.factor\n",
        "\n",
        "times_two = Multiplier(2)\n",
        "\n",
        "result = times_two(5)\n",
        "print(result)"
      ],
      "metadata": {
        "colab": {
          "base_uri": "https://localhost:8080/"
        },
        "id": "fDq04RYoUJJw",
        "outputId": "9fc09fd9-826e-4368-e7ee-6a4699e1110b"
      },
      "execution_count": 35,
      "outputs": [
        {
          "output_type": "stream",
          "name": "stdout",
          "text": [
            "10\n"
          ]
        }
      ]
    },
    {
      "cell_type": "markdown",
      "source": [
        "## Practical Questions"
      ],
      "metadata": {
        "id": "1eAEozpLGea0"
      }
    },
    {
      "cell_type": "markdown",
      "source": [
        "**1. Create a parent class Animal with a method speak() that prints a generic message. Create a child class Dog\n",
        "that overrides the speak() method to print \"Bark!\".**"
      ],
      "metadata": {
        "id": "ObmOFHBTGhcC"
      }
    },
    {
      "cell_type": "code",
      "source": [
        "class Animal:\n",
        "  def speak(self):\n",
        "    print(\"Animal makes a sound\")\n",
        "\n",
        "class Dog(Animal):\n",
        "  def speak(self):\n",
        "    print(\"Bark!\")\n",
        "\n",
        "anm=Animal()\n",
        "dog=Dog()\n",
        "anm.speak()\n",
        "dog.speak()"
      ],
      "metadata": {
        "id": "_8kUxAt0Ggie",
        "colab": {
          "base_uri": "https://localhost:8080/"
        },
        "outputId": "43731015-50ce-4e34-e729-0939ebfaa149"
      },
      "execution_count": 36,
      "outputs": [
        {
          "output_type": "stream",
          "name": "stdout",
          "text": [
            "Animal makes a sound\n",
            "Bark!\n"
          ]
        }
      ]
    },
    {
      "cell_type": "markdown",
      "source": [
        "**2. Write a program to create an abstract class Shape with a method area(). Derive classes Circle and Rectangle\n",
        "from it and implement the area() method in both.**"
      ],
      "metadata": {
        "id": "sj1ZcL8cGsmk"
      }
    },
    {
      "cell_type": "code",
      "source": [
        "from abc import ABC,abstractmethod\n",
        "class Shape(ABC):\n",
        "  @abstractmethod\n",
        "  def area(self):\n",
        "    pass\n",
        "\n",
        "class Circle(Shape):\n",
        "  def __init__(self,radius):\n",
        "    self.radius=radius\n",
        "\n",
        "  def area(self):\n",
        "    return 3.14*self.radius**2\n",
        "\n",
        "class Rectanlge(Shape):\n",
        "  def __init__(self,width,height):\n",
        "    self.width=width\n",
        "    self.height=height\n",
        "\n",
        "  def area(self):\n",
        "    return self.width*self.height\n",
        "\n",
        "circle=Circle(4)\n",
        "rect=Rectanlge(3,6)\n",
        "print(f\"Area of circle: {circle.area()}\")\n",
        "print(f\"Area of rectangle: {rect.area()}\")"
      ],
      "metadata": {
        "colab": {
          "base_uri": "https://localhost:8080/"
        },
        "id": "RdY3lqDXdzYi",
        "outputId": "5b013abe-36d2-4053-c580-421ae24b6f46"
      },
      "execution_count": 37,
      "outputs": [
        {
          "output_type": "stream",
          "name": "stdout",
          "text": [
            "Area of circle: 50.24\n",
            "Area of rectangle: 18\n"
          ]
        }
      ]
    },
    {
      "cell_type": "markdown",
      "source": [
        "**3. Implement a multi-level inheritance scenario where a class Vehicle has an attribute type. Derive a class Car\n",
        "and further derive a class ElectricCar that adds a battery attribute.**"
      ],
      "metadata": {
        "id": "pWAUezjSGsUp"
      }
    },
    {
      "cell_type": "code",
      "source": [
        "class Vehicle:\n",
        "  def __init__(self,type):\n",
        "    self.type=type\n",
        "\n",
        "class Car(Vehicle):\n",
        "  def __init__(self,type,brand):\n",
        "    super().__init__(type)\n",
        "    self.brand=brand\n",
        "\n",
        "class ElectricCar(Car):\n",
        "    def __init__(self, type, brand, battery_capacity):\n",
        "        super().__init__(type, brand)\n",
        "        self.battery = battery_capacity\n",
        "\n",
        "    def display_info(self):\n",
        "        print(f\"Type: {self.type}\")\n",
        "        print(f\"Brand: {self.brand}\")\n",
        "        print(f\"Battery: {self.battery} kWh\")\n",
        "\n",
        "my_electric_car = ElectricCar(\"Electric\", \"Tesla\", 75)\n",
        "my_electric_car.display_info()"
      ],
      "metadata": {
        "colab": {
          "base_uri": "https://localhost:8080/"
        },
        "id": "1TOlNdyKfC7t",
        "outputId": "d8fc07a0-7f4e-41e1-e373-fac92a002d7c"
      },
      "execution_count": 38,
      "outputs": [
        {
          "output_type": "stream",
          "name": "stdout",
          "text": [
            "Type: Electric\n",
            "Brand: Tesla\n",
            "Battery: 75 kWh\n"
          ]
        }
      ]
    },
    {
      "cell_type": "markdown",
      "source": [
        "**4. Demonstrate polymorphism by creating a base class Bird with a method fly(). Create two derived classes\n",
        "Sparrow and Penguin that override the fly() method.**"
      ],
      "metadata": {
        "id": "OIpxr5NEGsRQ"
      }
    },
    {
      "cell_type": "code",
      "source": [
        "class Bird:\n",
        "  def fly(self):\n",
        "    print(\"Bird is flying..\")\n",
        "\n",
        "class Sparrow(Bird):\n",
        "  def fly(self):\n",
        "    print(\"Sparrow flies high in the sky\")\n",
        "\n",
        "class Penguin(Bird):\n",
        "  def fly(self):\n",
        "    print(\"Penguin can't fly\")\n",
        "\n",
        "sparrow=Sparrow()\n",
        "penguin=Penguin()\n",
        "sparrow.fly()\n",
        "penguin.fly()"
      ],
      "metadata": {
        "colab": {
          "base_uri": "https://localhost:8080/"
        },
        "id": "NCtSsdxfg37Y",
        "outputId": "20e5f38d-5150-46c3-a628-6eba5555f648"
      },
      "execution_count": 39,
      "outputs": [
        {
          "output_type": "stream",
          "name": "stdout",
          "text": [
            "Sparrow flies high in the sky\n",
            "Penguin can't fly\n"
          ]
        }
      ]
    },
    {
      "cell_type": "markdown",
      "source": [
        "**5. Write a program to demonstrate encapsulation by creating a class BankAccount with private attributes\n",
        "balance and methods to deposit, withdraw, and check balance.**"
      ],
      "metadata": {
        "id": "raiRnRq0GsOn"
      }
    },
    {
      "cell_type": "code",
      "source": [
        "class BankAccount:\n",
        "  def __init__(self,balance=0):\n",
        "    self.__balance=balance\n",
        "\n",
        "  def deposit(self,amount):\n",
        "    if amount>0:\n",
        "      self.__balance+=amount\n",
        "      print(f\"Deposited: {amount}\")\n",
        "    else:\n",
        "      print(\"Invalid amount\")\n",
        "\n",
        "  def withdraw(self,amount):\n",
        "    if 0<amount<=self.__balance:\n",
        "      self.__balance-=amount\n",
        "      print(f\"Withdrawn: {amount}\")\n",
        "    else:\n",
        "      print(\"Insufficient balance\")\n",
        "\n",
        "  def check_balance(self):\n",
        "    print(f\"Current balance: {self.__balance}\")\n",
        "\n",
        "acc=BankAccount(1200)\n",
        "acc.deposit(500)\n",
        "acc.withdraw(200)\n",
        "acc.check_balance()"
      ],
      "metadata": {
        "colab": {
          "base_uri": "https://localhost:8080/"
        },
        "id": "nUhIRu-Th3RW",
        "outputId": "0d37e3f9-1e89-45eb-ab73-78c19793b145"
      },
      "execution_count": 40,
      "outputs": [
        {
          "output_type": "stream",
          "name": "stdout",
          "text": [
            "Deposited: 500\n",
            "Withdrawn: 200\n",
            "Current balance: 1500\n"
          ]
        }
      ]
    },
    {
      "cell_type": "markdown",
      "source": [
        "**6. Demonstrate runtime polymorphism using a method play() in a base class Instrument. Derive classes Guitar\n",
        "and Piano that implement their own version of play().**"
      ],
      "metadata": {
        "id": "lLd0Qa-hGsMV"
      }
    },
    {
      "cell_type": "code",
      "source": [
        "class Instrument:\n",
        "  def play(self):\n",
        "    print(\"Playing an instrument\")\n",
        "\n",
        "class Guitar(Instrument):\n",
        "  def play(self):\n",
        "    print(\"Strumming the guitar\")\n",
        "\n",
        "class Piano(Instrument):\n",
        "  def play(self):\n",
        "    print(\"Playing the piano\")\n",
        "\n",
        "guitar=Guitar()\n",
        "piano=Piano()\n",
        "guitar.play()\n",
        "piano.play()"
      ],
      "metadata": {
        "colab": {
          "base_uri": "https://localhost:8080/"
        },
        "id": "BHFXuYFbjNCs",
        "outputId": "f64883d6-b09b-4383-c526-c2ce7fe7d262"
      },
      "execution_count": 41,
      "outputs": [
        {
          "output_type": "stream",
          "name": "stdout",
          "text": [
            "Strumming the guitar\n",
            "Playing the piano\n"
          ]
        }
      ]
    },
    {
      "cell_type": "markdown",
      "source": [
        "**7. Create a class MathOperations with a class method add_numbers() to add two numbers and a static\n",
        "method subtract_numbers() to subtract two numbers.**"
      ],
      "metadata": {
        "id": "DxBE7HmkGsJm"
      }
    },
    {
      "cell_type": "code",
      "source": [
        "class MathOperations:\n",
        "  @classmethod\n",
        "  def add_numbers(cls,a,b):\n",
        "    return a+b\n",
        "\n",
        "  @staticmethod\n",
        "  def subtract_numbers(a,b):\n",
        "    return a-b\n",
        "\n",
        "print(MathOperations.add_numbers(10,5))\n",
        "print(MathOperations.subtract_numbers(12,4))"
      ],
      "metadata": {
        "colab": {
          "base_uri": "https://localhost:8080/"
        },
        "id": "JSggKz1fjzDA",
        "outputId": "a481c3a7-558f-4a78-b255-cd5a7098fc4c"
      },
      "execution_count": 42,
      "outputs": [
        {
          "output_type": "stream",
          "name": "stdout",
          "text": [
            "15\n",
            "8\n"
          ]
        }
      ]
    },
    {
      "cell_type": "markdown",
      "source": [
        "**8. Implement a class Person with a class method to count the total number of persons created.**"
      ],
      "metadata": {
        "id": "YPKkj0hvGsEe"
      }
    },
    {
      "cell_type": "code",
      "source": [
        "class Person:\n",
        "  count=0\n",
        "  def __init__(self,name):\n",
        "    self.name=name\n",
        "    Person.count+=1\n",
        "\n",
        "  @classmethod\n",
        "  def get_count(cls):\n",
        "    return cls.count\n",
        "\n",
        "p1=Person(\"Neha\")\n",
        "p2=Person(\"Bob\")\n",
        "print(Person.get_count())"
      ],
      "metadata": {
        "colab": {
          "base_uri": "https://localhost:8080/"
        },
        "id": "UC-_DpJPkk0l",
        "outputId": "fde45fa3-71e1-4361-eddf-c47ac4bf88a0"
      },
      "execution_count": 43,
      "outputs": [
        {
          "output_type": "stream",
          "name": "stdout",
          "text": [
            "2\n"
          ]
        }
      ]
    },
    {
      "cell_type": "markdown",
      "source": [
        "**9. Write a class Fraction with attributes numerator and denominator. Override the str method to display the\n",
        "fraction as \"numerator/denominator\".**"
      ],
      "metadata": {
        "id": "WDu5_e-8GsBB"
      }
    },
    {
      "cell_type": "code",
      "source": [
        "class Fraction:\n",
        "  def __init__(self,numerator,denominator):\n",
        "    self.numerator=numerator\n",
        "    self.denominator=denominator\n",
        "\n",
        "  def __str__(self):\n",
        "    return f\"{self.numerator}/{self.denominator}\"\n",
        "\n",
        "f1=Fraction(4,3)\n",
        "print(f1)"
      ],
      "metadata": {
        "colab": {
          "base_uri": "https://localhost:8080/"
        },
        "id": "kZyjx9-flbhk",
        "outputId": "1fc87c41-e2e8-4b0f-80a1-41b3dc390b4b"
      },
      "execution_count": 44,
      "outputs": [
        {
          "output_type": "stream",
          "name": "stdout",
          "text": [
            "4/3\n"
          ]
        }
      ]
    },
    {
      "cell_type": "markdown",
      "source": [
        "**10. Demonstrate operator overloading by creating a class Vector and overriding the add method to add two\n",
        "vectors.**"
      ],
      "metadata": {
        "id": "_09V1SJtGr-T"
      }
    },
    {
      "cell_type": "code",
      "source": [
        "class Vector:\n",
        "  def __init__(self, x, y):\n",
        "    self.x = x\n",
        "    self.y = y\n",
        "\n",
        "  def __add__(self, other):\n",
        "    return Vector(self.x + other.x, self.y + other.y)\n",
        "\n",
        "  def __str__(self):\n",
        "    return f\"({self.x}, {self.y})\"\n",
        "\n",
        "v1 = Vector(1, 2)\n",
        "v2 = Vector(3, 4)\n",
        "\n",
        "v3 = v1 + v2\n",
        "\n",
        "print(\"Vector 1:\", v1)\n",
        "print(\"Vector 2:\", v2)\n",
        "print(\"Sum of Vectors:\", v3)"
      ],
      "metadata": {
        "colab": {
          "base_uri": "https://localhost:8080/"
        },
        "id": "fkw5MiYPmJkI",
        "outputId": "3064f72b-8963-4f34-88a6-88be7c649f40"
      },
      "execution_count": 45,
      "outputs": [
        {
          "output_type": "stream",
          "name": "stdout",
          "text": [
            "Vector 1: (1, 2)\n",
            "Vector 2: (3, 4)\n",
            "Sum of Vectors: (4, 6)\n"
          ]
        }
      ]
    },
    {
      "cell_type": "markdown",
      "source": [
        "**11. Create a class Person with attributes name and age. Add a method greet() that prints \"Hello, my name is\n",
        "{name} and I am {age} years old.\"**"
      ],
      "metadata": {
        "id": "EdBJyHBwGrX8"
      }
    },
    {
      "cell_type": "code",
      "source": [
        "class Person:\n",
        "  def __init__(self,name,age):\n",
        "    self.name=name\n",
        "    self.age=age\n",
        "\n",
        "  def greet(self):\n",
        "    print(f\"Hello, my name is {self.name} and I am {self.age} years  old\")\n",
        "\n",
        "p1=Person(\"Neha\",22)\n",
        "p1.greet()"
      ],
      "metadata": {
        "id": "SuDD0rAyHVKl",
        "colab": {
          "base_uri": "https://localhost:8080/"
        },
        "outputId": "2dd54f04-cf19-48ca-b0bb-0a959a3f7cb6"
      },
      "execution_count": 46,
      "outputs": [
        {
          "output_type": "stream",
          "name": "stdout",
          "text": [
            "Hello, my name is Neha and I am 22 years  old\n"
          ]
        }
      ]
    },
    {
      "cell_type": "markdown",
      "source": [
        "**12. Implement a class Student with attributes name and grades. Create a method average_grade() to compute\n",
        "the average of the grades.**"
      ],
      "metadata": {
        "id": "YIPyvhpCHXDH"
      }
    },
    {
      "cell_type": "code",
      "source": [
        "class Student:\n",
        "  def __init__(self,name,grades):\n",
        "    self.name=name\n",
        "    self.grades=grades\n",
        "\n",
        "  def average_grade(self):\n",
        "    if not self.grades:\n",
        "      return 0\n",
        "    return sum(self.grades)/len(self.grades)\n",
        "\n",
        "stud=Student(\"Neha\",[45,98,78,60])\n",
        "print(f\"Average: {stud.average_grade()}\")"
      ],
      "metadata": {
        "colab": {
          "base_uri": "https://localhost:8080/"
        },
        "id": "QbY2oC0eRtGL",
        "outputId": "e43ae097-694b-4bbf-e55a-864b15090df8"
      },
      "execution_count": 47,
      "outputs": [
        {
          "output_type": "stream",
          "name": "stdout",
          "text": [
            "Average: 70.25\n"
          ]
        }
      ]
    },
    {
      "cell_type": "markdown",
      "source": [
        "**13. Create a class Rectangle with methods set_dimensions() to set the dimensions and area() to calculate the\n",
        "area.**"
      ],
      "metadata": {
        "id": "sHP0PmFTHW5_"
      }
    },
    {
      "cell_type": "code",
      "source": [
        "class Rectanlge:\n",
        "  def __init__(self):\n",
        "    self.length=0\n",
        "    self.width=0\n",
        "\n",
        "  def set_dimensions(self,length,width):\n",
        "    self.length=length\n",
        "    self.width=width\n",
        "\n",
        "  def area(self):\n",
        "    return self.length*self.width\n",
        "\n",
        "rect=Rectanlge()\n",
        "rect.set_dimensions(6,4)\n",
        "print(f\"Area: {rect.area()}\")"
      ],
      "metadata": {
        "colab": {
          "base_uri": "https://localhost:8080/"
        },
        "id": "6jg3CsolTCrz",
        "outputId": "44d1797b-8f24-49c7-918d-956b4a0a7f56"
      },
      "execution_count": 48,
      "outputs": [
        {
          "output_type": "stream",
          "name": "stdout",
          "text": [
            "Area: 24\n"
          ]
        }
      ]
    },
    {
      "cell_type": "markdown",
      "source": [
        "**14. Create a class Employee with a method calculate_salary() that computes the salary based on hours worked\n",
        "and hourly rate. Create a derived class Manager that adds a bonus to the salary.**"
      ],
      "metadata": {
        "id": "GlQLBsYmHWuy"
      }
    },
    {
      "cell_type": "code",
      "source": [
        "class Employee:\n",
        "  def __init__(self,hours_worked,hourly_rate):\n",
        "     self.hours_worked=hours_worked\n",
        "     self.hourly_rate=hourly_rate\n",
        "\n",
        "  def calculate_salary(self):\n",
        "    return self.hours_worked*self.hourly_rate\n",
        "\n",
        "class Manager(Employee):\n",
        "  def __init__(self, hours_worked, hourly_rate, bonus):\n",
        "     super().__init__(hours_worked, hourly_rate)\n",
        "     self.bonus=bonus\n",
        "\n",
        "  def calculate_salary(self):\n",
        "     base_salary=super().calculate_salary()\n",
        "     return base_salary+self.bonus\n",
        "\n",
        "emp=Manager(60,500,6000)\n",
        "print(\"Salary: \",emp.calculate_salary())"
      ],
      "metadata": {
        "colab": {
          "base_uri": "https://localhost:8080/"
        },
        "id": "b9k9WA-EUjl1",
        "outputId": "26092585-071e-4983-b647-f923b507e5aa"
      },
      "execution_count": 49,
      "outputs": [
        {
          "output_type": "stream",
          "name": "stdout",
          "text": [
            "Salary:  36000\n"
          ]
        }
      ]
    },
    {
      "cell_type": "markdown",
      "source": [
        "**15. Create a class Product with attributes name, price, and quantity. Implement a method total_price() that\n",
        "calculates the total price of the product.**"
      ],
      "metadata": {
        "id": "RCRc8UQYHWjl"
      }
    },
    {
      "cell_type": "code",
      "source": [
        "class Product:\n",
        "  def __init__(self,name,price,quantity):\n",
        "    self.name=name\n",
        "    self.price=price\n",
        "    self.quantity=quantity\n",
        "\n",
        "  def total_price(self):\n",
        "    return self.price*self.quantity\n",
        "\n",
        "p1=Product(\"Laptop\",75000,4)\n",
        "print(\"Total: \",p1.total_price())"
      ],
      "metadata": {
        "colab": {
          "base_uri": "https://localhost:8080/"
        },
        "id": "hGWS3DZgWIW9",
        "outputId": "651b00d9-c818-46fb-c189-fc2c8e7ec0d1"
      },
      "execution_count": 50,
      "outputs": [
        {
          "output_type": "stream",
          "name": "stdout",
          "text": [
            "Total:  300000\n"
          ]
        }
      ]
    },
    {
      "cell_type": "markdown",
      "source": [
        "**16. Create a class Animal with an abstract method sound(). Create two derived classes Cow and Sheep that\n",
        "implement the sound() method.**"
      ],
      "metadata": {
        "id": "PON6MWFCHWZb"
      }
    },
    {
      "cell_type": "code",
      "source": [
        "from abc import ABC,abstractmethod\n",
        "class Animal(ABC):\n",
        "  @abstractmethod\n",
        "  def sound(self):\n",
        "    pass\n",
        "\n",
        "class Cow(Animal):\n",
        "  def sound(self):\n",
        "    print(\"Cow says Moo\")\n",
        "\n",
        "class Sheep(Animal):\n",
        "  def sound(self):\n",
        "    print(\"Sheep says Baa\")\n",
        "\n",
        "cow=Cow()\n",
        "sheep=Sheep()\n",
        "cow.sound()\n",
        "sheep.sound()"
      ],
      "metadata": {
        "colab": {
          "base_uri": "https://localhost:8080/"
        },
        "id": "MAmfi2sxWwIV",
        "outputId": "226f70f0-979a-4186-b761-f1a104e79e61"
      },
      "execution_count": 51,
      "outputs": [
        {
          "output_type": "stream",
          "name": "stdout",
          "text": [
            "Cow says Moo\n",
            "Sheep says Baa\n"
          ]
        }
      ]
    },
    {
      "cell_type": "markdown",
      "source": [
        "**17. Create a class Book with attributes title, author, and year_published. Add a method get_book_info() that\n",
        "returns a formatted string with the book's details.**"
      ],
      "metadata": {
        "id": "rfDVOV5wHWM7"
      }
    },
    {
      "cell_type": "code",
      "source": [
        "class Book:\n",
        "  def __init__(self,title,author,year_published):\n",
        "    self.title=title\n",
        "    self.author=author\n",
        "    self.year_published=year_published\n",
        "\n",
        "  def get_book_info(self):\n",
        "    return f\"{self.title} by {self.author} (Published in {self.year_published})\"\n",
        "\n",
        "book=Book(\"The Alchemist\", \"Paulo Coelho\", 1988)\n",
        "book.get_book_info()"
      ],
      "metadata": {
        "colab": {
          "base_uri": "https://localhost:8080/",
          "height": 35
        },
        "id": "iWj67QYNYRhh",
        "outputId": "bea5ee39-83e5-49aa-96a0-d27d0f1db85a"
      },
      "execution_count": 52,
      "outputs": [
        {
          "output_type": "execute_result",
          "data": {
            "text/plain": [
              "'The Alchemist by Paulo Coelho (Published in 1988)'"
            ],
            "application/vnd.google.colaboratory.intrinsic+json": {
              "type": "string"
            }
          },
          "metadata": {},
          "execution_count": 52
        }
      ]
    },
    {
      "cell_type": "markdown",
      "source": [
        "**18. Create a class House with attributes address and price. Create a derived class Mansion that adds an\n",
        "attribute number_of_rooms.**"
      ],
      "metadata": {
        "id": "R8K7pSNbHV0Y"
      }
    },
    {
      "cell_type": "code",
      "source": [
        "class House:\n",
        "  def __init__(self,address,price):\n",
        "    self.address=address\n",
        "    self.price=price\n",
        "\n",
        "  def get_details(self):\n",
        "    return f\"Address: {self.address}, Price: Rs.{self.price}\"\n",
        "\n",
        "class Mansion(House):\n",
        "  def __init__(self, address, price,number_of_rooms):\n",
        "     super().__init__(address, price)\n",
        "     self.number_of_rooms=number_of_rooms\n",
        "\n",
        "  def get_details(self):\n",
        "     base_details=super().get_details()\n",
        "     return f\"{base_details}, Numberof rooms: {self.number_of_rooms}\"\n",
        "\n",
        "mansion=Mansion(\"Pune\", 13200000,14)\n",
        "mansion.get_details()"
      ],
      "metadata": {
        "id": "KASCslXBHzws",
        "colab": {
          "base_uri": "https://localhost:8080/",
          "height": 35
        },
        "outputId": "0148b012-2741-4192-f7f5-15e7e15aafaa"
      },
      "execution_count": 53,
      "outputs": [
        {
          "output_type": "execute_result",
          "data": {
            "text/plain": [
              "'Address: Pune, Price: Rs.13200000, Numberof rooms: 14'"
            ],
            "application/vnd.google.colaboratory.intrinsic+json": {
              "type": "string"
            }
          },
          "metadata": {},
          "execution_count": 53
        }
      ]
    }
  ]
}