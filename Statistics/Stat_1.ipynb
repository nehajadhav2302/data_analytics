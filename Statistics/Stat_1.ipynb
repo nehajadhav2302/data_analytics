{
  "nbformat": 4,
  "nbformat_minor": 0,
  "metadata": {
    "colab": {
      "provenance": [],
      "authorship_tag": "ABX9TyNSLO5I3fmlu1VZkfivknC+",
      "include_colab_link": true
    },
    "kernelspec": {
      "name": "python3",
      "display_name": "Python 3"
    },
    "language_info": {
      "name": "python"
    }
  },
  "cells": [
    {
      "cell_type": "markdown",
      "metadata": {
        "id": "view-in-github",
        "colab_type": "text"
      },
      "source": [
        "<a href=\"https://colab.research.google.com/github/nehajadhav2302/data_analytics/blob/main/Stat_1.ipynb\" target=\"_parent\"><img src=\"https://colab.research.google.com/assets/colab-badge.svg\" alt=\"Open In Colab\"/></a>"
      ]
    },
    {
      "cell_type": "markdown",
      "source": [
        "#Statistics Basics"
      ],
      "metadata": {
        "id": "rOLgthRrw4Ea"
      }
    },
    {
      "cell_type": "markdown",
      "source": [
        "**1. What is statistics, and why is it important?**\n",
        "\n",
        "->\n",
        "\n",
        "**Statistics** is the science of collecting, analyzing, interpreting, presenting, and organizing data.  \n",
        "**Importance**:\n",
        "- Supports decision-making across fields\n",
        "- Validates research with data\n",
        "- Reveals patterns and trends\n",
        "- Used in AI, data science, business, and more"
      ],
      "metadata": {
        "id": "SEmLkRcjw80E"
      }
    },
    {
      "cell_type": "markdown",
      "source": [
        "**2. What are the two main types of statistics?**\n",
        "\n",
        "->  \n",
        "1. **Descriptive Statistics** – These are used to describe and summarize the main features of a dataset in a clear and concise manner. It includes measures like mean, median, mode, range, variance, and standard deviation, as well as charts and graphs to visually present the data.  \n",
        "   *Example:* Finding the average score of students in a class.\n",
        "\n",
        "2. **Inferential Statistics** – These allow us to make predictions, decisions, or generalizations about a larger population based on the analysis of a sample. It involves methods such as hypothesis testing, confidence intervals, and regression analysis.  \n",
        "   *Example:* Predicting election outcomes based on a poll of a few thousand voters.\n"
      ],
      "metadata": {
        "id": "ldEFevs4w8wq"
      }
    },
    {
      "cell_type": "markdown",
      "source": [
        "**3. What are descriptive statistics?**\n",
        "\n",
        "->  \n",
        "- Summarize and describe features of a dataset.  \n",
        "- Help simplify large data into understandable form.  \n",
        "- Use measures like mean, median, mode (central tendency).  \n",
        "- Include dispersion measures: range, variance, standard deviation.  \n",
        "- Often represented with charts, graphs, and tables.  \n",
        "- Used for organizing raw data meaningfully."
      ],
      "metadata": {
        "id": "97NIFLX5w8oF"
      }
    },
    {
      "cell_type": "markdown",
      "source": [
        "**4. What is inferential statistics?**\n",
        "\n",
        "->  \n",
        "- Involves making predictions or generalizations about a population.  \n",
        "- Based on data collected from a sample.  \n",
        "- Uses techniques like hypothesis testing and confidence intervals.  \n",
        "- Includes methods like t-tests, ANOVA, and regression.  \n",
        "- Helps assess relationships and test assumptions.  \n",
        "- Essential for decision-making in research.\n"
      ],
      "metadata": {
        "id": "5JIfIeMqw8ko"
      }
    },
    {
      "cell_type": "markdown",
      "source": [
        "**5. What is sampling in statistics?**\n",
        "\n",
        "->  \n",
        "- Sampling selects a subset of individuals from a population.  \n",
        "- It saves time, cost, and effort in data collection.  \n",
        "- Aims to draw valid conclusions about the whole population.  \n",
        "- Must be representative and unbiased.  \n",
        "- Foundation for inferential statistics.  \n",
        "- Enables analysis when population study is impractical."
      ],
      "metadata": {
        "id": "xpz6dcY6w8h3"
      }
    },
    {
      "cell_type": "markdown",
      "source": [
        "**6. What are the different types of sampling methods?**\n",
        "\n",
        "->\n",
        "\n",
        "1. **Random Sampling**:\n",
        "* In random sampling, every element of the population has an equal chance of being selected.\n",
        "* Random sampling gives us the best chance to create a sample that is truly representative of the population\n",
        "2. **Non-Random Sampling**:\n",
        "* In non-random sampling, all elements do not have an equal chance of being selected.\n",
        "* Consequently, there is a significant risk of ending up with a non-representative sample which does not produce generalizable results"
      ],
      "metadata": {
        "id": "Fc2RIPUDw8eo"
      }
    },
    {
      "cell_type": "markdown",
      "source": [
        "**7. What is the difference between random and non-random sampling?**\n",
        "\n",
        "->\n",
        "\n",
        "**Random Sampling**  \n",
        "- Each individual in the population has an equal chance of being selected.  \n",
        "- Reduces selection bias and ensures representativeness.  \n",
        "- Supports generalization of results to the population.  \n",
        "- Example: Drawing names from a hat.\n",
        "\n",
        "**Non-Random Sampling**  \n",
        "- Selection is based on convenience, judgment, or other non-random criteria.  \n",
        "- May lead to biased or unrepresentative samples.  \n",
        "- Results are less reliable for generalizing to the population.  \n",
        "- Example: Surveying only nearby people due to ease.\n"
      ],
      "metadata": {
        "id": "tUI7xJ5Kw8a_"
      }
    },
    {
      "cell_type": "markdown",
      "source": [
        "**8. Define and give examples of qualitative and quantitative data**\n",
        "\n",
        "->\n",
        "\n",
        "**Qualitative Data**  \n",
        "- Describes non-numeric attributes or characteristics.  \n",
        "- Often categorical and used to label or classify data.  \n",
        "- Cannot be measured but can be observed.  \n",
        "- Examples: Colors (red, blue), gender (male, female), emotions (happy, sad).\n",
        "\n",
        "**Quantitative Data**  \n",
        "- Represents numeric values that can be measured or counted.  \n",
        "- Can be used for mathematical calculations and analysis.  \n",
        "- Includes discrete and continuous data types.  \n",
        "- Examples: Age (15 years), height (160 cm), test scores (85 out of 100).\n"
      ],
      "metadata": {
        "id": "G-r0nVbNw8X8"
      }
    },
    {
      "cell_type": "markdown",
      "source": [
        "**9. What are the different types of data in statistics?**\n",
        "\n",
        "->\n",
        "\n",
        "- **Qualitative (Categorical) Data:** Non-numeric data that describes categories or qualities. It is further divided into:  \n",
        "  - **Nominal Data:** Categories without any order (e.g., gender, blood group, color).  \n",
        "  - **Ordinal Data:** Categories with a meaningful order but unequal intervals (e.g., rankings, satisfaction levels).  \n",
        "\n",
        "- **Quantitative (Numerical) Data:** Numeric data that can be measured or counted. It is further divided into:  \n",
        "  - **Discrete Data:** Countable values (e.g., number of students).  \n",
        "  - **Continuous Data:** Any value within a range (e.g., weight, temperature).\n"
      ],
      "metadata": {
        "id": "d21qF3new8Uh"
      }
    },
    {
      "cell_type": "markdown",
      "source": [
        "**10. Explain nominal, ordinal, interval, and ratio levels of measurement**\n",
        "\n",
        "->\n",
        "\n",
        "- **Nominal:** Categories with no natural order (e.g., blood group, gender).  \n",
        "- **Ordinal:** Categories with a meaningful order but unequal intervals (e.g., rankings, satisfaction levels).  \n",
        "- **Interval:** Numeric scales with equal intervals but no true zero point (e.g., temperature in Celsius).  \n",
        "- **Ratio:** Numeric scales with equal intervals and a true zero point, allowing ratio comparisons (e.g., height, weight, age)."
      ],
      "metadata": {
        "id": "irxxjNNH2Hgm"
      }
    },
    {
      "cell_type": "markdown",
      "source": [
        "**11. What is the measure of central tendency?**\n",
        "\n",
        "->\n",
        "\n",
        "- Measures of central tendency describe the center or typical value of a dataset.  \n",
        "- They summarize a large set of data with a single representative value.  \n",
        "- Common measures include **mean**, **median**, and **mode**.  \n",
        "- Used to understand the general trend of the data."
      ],
      "metadata": {
        "id": "_3zXMW3F2HdI"
      }
    },
    {
      "cell_type": "markdown",
      "source": [
        "**12. Define mean, median, and mode**\n",
        "\n",
        "->\n",
        "\n",
        "- **Mean:** The arithmetic average of all data points (sum of values divided by the number of values).  \n",
        "- **Median:** The middle value when data is arranged in order; divides data into two equal halves.  \n",
        "- **Mode:** The most frequently occurring value(s) in the dataset."
      ],
      "metadata": {
        "id": "kulzumoT2HaU"
      }
    },
    {
      "cell_type": "markdown",
      "source": [
        "**13. What is the significance of the measure of central tendency?**\n",
        "\n",
        "->\n",
        "\n",
        "- Provides a single value that represents the entire dataset.  \n",
        "- Helps summarize and simplify complex data for easy interpretation.  \n",
        "- Facilitates comparison between different datasets.  \n",
        "- Useful in decision-making and identifying typical values."
      ],
      "metadata": {
        "id": "Jv7_D1G72HKo"
      }
    },
    {
      "cell_type": "markdown",
      "source": [
        "**14. What is variance, and how is it calculated?**\n",
        "\n",
        "->\n",
        "\n",
        "- Variance measures how much the data points spread out from the mean.  \n",
        "- It shows the average of the squared differences between each data point and the mean.  \n",
        "- Calculation steps:  \n",
        "  1. Find the mean of the dataset.  \n",
        "  2. Subtract the mean from each data point and square the result.  \n",
        "  3. Calculate the average of these squared differences."
      ],
      "metadata": {
        "id": "V9uwQ0bf2HAx"
      }
    },
    {
      "cell_type": "markdown",
      "source": [
        "**15. What is standard deviation, and why is it important?**\n",
        "\n",
        "->\n",
        "\n",
        "- Standard deviation is the square root of the variance.  \n",
        "- It measures the average amount by which data points differ from the mean.  \n",
        "- Important because it is in the same units as the original data, making interpretation easier.  \n",
        "- Indicates the variability or consistency within a dataset."
      ],
      "metadata": {
        "id": "yCD4dn-M2G9K"
      }
    },
    {
      "cell_type": "markdown",
      "source": [
        "**16. Define and explain the term range in statistics**\n",
        "\n",
        "->\n",
        "\n",
        "- Range is the difference between the maximum and minimum values in a dataset.  \n",
        "- It shows the spread or dispersion of the data.  \n",
        "- Simple to calculate and provides a quick sense of variability.  \n",
        "- However, it is sensitive to outliers and doesn’t reflect distribution details."
      ],
      "metadata": {
        "id": "jHaxKVIf2G5A"
      }
    },
    {
      "cell_type": "markdown",
      "source": [
        "**17. What is the difference between variance and standard deviation?**\n",
        "\n",
        "->\n",
        "\n",
        "- **Variance** measures the average squared deviations from the mean.  \n",
        "- **Standard deviation** is the square root of variance.  \n",
        "- Variance is in squared units, while standard deviation is in the original units of the data.  \n",
        "- Standard deviation is more interpretable and commonly used to describe data spread."
      ],
      "metadata": {
        "id": "_VF6-asJ2GwJ"
      }
    },
    {
      "cell_type": "markdown",
      "source": [
        "**18. What is skewness in a dataset?**\n",
        "\n",
        "->\n",
        "\n",
        "- Skewness measures the asymmetry of the data distribution around the mean.  \n",
        "- A dataset can be **positively skewed** (tail on right) or **negatively skewed** (tail on left).  \n",
        "- Skewness indicates whether data is symmetric or lopsided.  \n",
        "- Helps identify bias in data and informs appropriate statistical methods."
      ],
      "metadata": {
        "id": "o68ca_oE2Gsr"
      }
    },
    {
      "cell_type": "markdown",
      "source": [
        "**19. What does it mean if a dataset is positively or negatively skewed?**\n",
        "\n",
        "->\n",
        "\n",
        "- **Positively skewed:** The tail on the right side (higher values) is longer or fatter than the left.  \n",
        "  - Majority of data points are concentrated on the left.  \n",
        "  - Mean is greater than median.  \n",
        "- **Negatively skewed:** The tail on the left side (lower values) is longer or fatter than the right.  \n",
        "  - Majority of data points are concentrated on the right.  \n",
        "  - Mean is less than median."
      ],
      "metadata": {
        "id": "OeSLtp7Y2GlT"
      }
    },
    {
      "cell_type": "markdown",
      "source": [
        "**20. Define and explain kurtosis**\n",
        "\n",
        "->\n",
        "\n",
        "- Kurtosis measures the \"tailedness\" or the sharpness of the peak of a data distribution.  \n",
        "- High kurtosis means more data are in the tails and peak (heavy tails, outliers).  \n",
        "- Low kurtosis means a flatter distribution with fewer extreme values.  \n",
        "- Helps assess the likelihood of extreme outcomes."
      ],
      "metadata": {
        "id": "twpwH8Y42GZL"
      }
    },
    {
      "cell_type": "markdown",
      "source": [
        "**21. What is the purpose of covariance?**\n",
        "\n",
        "->\n",
        "\n",
        "- Covariance measures how two variables change together.  \n",
        "- A positive covariance means variables increase or decrease together.  \n",
        "- A negative covariance means one variable increases as the other decreases.  \n",
        "- It helps understand relationships but does not indicate strength or scale."
      ],
      "metadata": {
        "id": "wHgBHHIn2GMI"
      }
    },
    {
      "cell_type": "markdown",
      "source": [
        "**22. What does correlation measure in statistics?**\n",
        "\n",
        "->\n",
        "\n",
        "- Correlation measures the strength and direction of a linear relationship between two variables.  \n",
        "- Values range from -1 to +1.  \n",
        "- A value close to +1 indicates a strong positive relationship.  \n",
        "- A value close to -1 indicates a strong negative relationship.  \n",
        "- A value near 0 indicates little or no linear relationship."
      ],
      "metadata": {
        "id": "Phd63Kzy2Fy4"
      }
    },
    {
      "cell_type": "markdown",
      "source": [
        "**23. What is the difference between covariance and correlation?**\n",
        "\n",
        "->\n",
        "\n",
        "- **Covariance** shows the direction of the relationship between two variables but is not standardized.  \n",
        "- **Correlation** standardizes covariance to a value between -1 and +1, showing both strength and direction.  \n",
        "- Correlation is easier to interpret because it is scale-free.  \n",
        "- Covariance depends on the units of the variables, correlation does not."
      ],
      "metadata": {
        "id": "fCurZJve4c34"
      }
    },
    {
      "cell_type": "markdown",
      "source": [
        "**24. What are some real-world applications of statistics?**\n",
        "\n",
        "->\n",
        "\n",
        "- Business: Market analysis, quality control, and decision-making.  \n",
        "- Healthcare: Clinical trials, disease outbreak tracking, and medical research.  \n",
        "- Education: Student performance evaluation and curriculum assessment.  \n",
        "- Government: Census data analysis and policy formulation.  \n",
        "- Sports: Player performance analysis and strategy planning.  \n",
        "- Technology: Machine learning, AI, and data science applications."
      ],
      "metadata": {
        "id": "HJE3ghUH4c0W"
      }
    },
    {
      "cell_type": "markdown",
      "source": [
        "##Practical"
      ],
      "metadata": {
        "id": "wGK3Nw_R4cxp"
      }
    },
    {
      "cell_type": "code",
      "source": [
        "from statistics import mean, median, mode, variance, stdev\n",
        "import numpy as np\n",
        "import pandas as pd\n",
        "import matplotlib.pyplot as plt\n",
        "import seaborn as sns\n",
        "from scipy.stats import skew, kurtosis, zscore, pearsonr, spearmanr\n",
        "from sklearn.model_selection import train_test_split"
      ],
      "metadata": {
        "id": "z93ZvSSm5ONV"
      },
      "execution_count": 1,
      "outputs": []
    },
    {
      "cell_type": "markdown",
      "source": [
        "**1. How to calculate mean, median, and mode of a dataset**"
      ],
      "metadata": {
        "id": "8YZEctMF4cur"
      }
    },
    {
      "cell_type": "code",
      "source": [
        "data = [10, 12, 23, 23, 16, 23, 21, 16]\n",
        "print(\"Mean:\",mean(data))\n",
        "print(\"Median:\",median(data))\n",
        "print(\"Mode:\",mode(data))"
      ],
      "metadata": {
        "colab": {
          "base_uri": "https://localhost:8080/"
        },
        "id": "G-KNsz5y5RUu",
        "outputId": "6a2c7c93-29a7-49b2-a1ec-0750b22b2486"
      },
      "execution_count": 2,
      "outputs": [
        {
          "output_type": "stream",
          "name": "stdout",
          "text": [
            "Mean: 18\n",
            "Median: 18.5\n",
            "Mode: 23\n"
          ]
        }
      ]
    },
    {
      "cell_type": "markdown",
      "source": [
        "**2. Write a Python program to compute the variance and standard deviation**"
      ],
      "metadata": {
        "id": "fncYRJzz4crz"
      }
    },
    {
      "cell_type": "code",
      "source": [
        "data = [10, 12, 23, 23, 16, 23, 21, 16]\n",
        "\n",
        "print(\"Variance:\",np.var(data))\n",
        "print(\"Standard deviation:\",np.std(data))"
      ],
      "metadata": {
        "colab": {
          "base_uri": "https://localhost:8080/"
        },
        "id": "IdmFBK2U5ufH",
        "outputId": "828e09ab-8dd3-45ba-a194-a6c07154b578"
      },
      "execution_count": 3,
      "outputs": [
        {
          "output_type": "stream",
          "name": "stdout",
          "text": [
            "Variance: 24.0\n",
            "Standard deviation: 4.898979485566356\n"
          ]
        }
      ]
    },
    {
      "cell_type": "markdown",
      "source": [
        "**3. Create a dataset and classify it into nominal, ordinal, interval, and ratio types**"
      ],
      "metadata": {
        "id": "xF_ZLZr14cpS"
      }
    },
    {
      "cell_type": "code",
      "source": [
        "Color = [\"Red\", \"Blue\", \"Green\", \"Blue\"]\n",
        "Education_Level = [\"High School\", \"Bachelor\", \"Master\", \"PhD\"]\n",
        "Temperature_C = [12, 14, 16, 15]\n",
        "Height_cm = [150, 160, 170, 165]\n",
        "\n",
        "print(f\"Nominal: {Color}\")\n",
        "print(f\"Ordinal: {Education_Level}\")\n",
        "print(f\"Interval: {Temperature_C}\")\n",
        "print(f\"Ratio: {Height_cm}\")"
      ],
      "metadata": {
        "colab": {
          "base_uri": "https://localhost:8080/"
        },
        "id": "Hfk4af5R8Av6",
        "outputId": "41413233-f9de-4667-9490-eb034216fbcb"
      },
      "execution_count": 4,
      "outputs": [
        {
          "output_type": "stream",
          "name": "stdout",
          "text": [
            "Nominal: ['Red', 'Blue', 'Green', 'Blue']\n",
            "Ordinal: ['High School', 'Bachelor', 'Master', 'PhD']\n",
            "Interval: [12, 14, 16, 15]\n",
            "Ratio: [150, 160, 170, 165]\n"
          ]
        }
      ]
    },
    {
      "cell_type": "markdown",
      "source": [
        "**4. Implement sampling techniques like random sampling and stratified sampling**"
      ],
      "metadata": {
        "id": "D1UvXJJ84cme"
      }
    },
    {
      "cell_type": "code",
      "source": [
        "data = {\n",
        "    'ID': range(1, 21),\n",
        "    'Category': ['A']*5 + ['B']*5 + ['C']*5 + ['D']*5,\n",
        "    'Score': [55, 60, 65, 70, 75, 50, 53, 57, 59, 62, 80, 83, 85, 87, 90, 40, 43, 45, 47, 50]\n",
        "}\n",
        "\n",
        "df = pd.DataFrame(data)\n",
        "print(\"Original Dataset:\")\n",
        "print(df)"
      ],
      "metadata": {
        "colab": {
          "base_uri": "https://localhost:8080/"
        },
        "id": "3M5bMv9tg4wv",
        "outputId": "896da0ae-781b-48fd-ec8f-502f7a4a0071"
      },
      "execution_count": 5,
      "outputs": [
        {
          "output_type": "stream",
          "name": "stdout",
          "text": [
            "Original Dataset:\n",
            "    ID Category  Score\n",
            "0    1        A     55\n",
            "1    2        A     60\n",
            "2    3        A     65\n",
            "3    4        A     70\n",
            "4    5        A     75\n",
            "5    6        B     50\n",
            "6    7        B     53\n",
            "7    8        B     57\n",
            "8    9        B     59\n",
            "9   10        B     62\n",
            "10  11        C     80\n",
            "11  12        C     83\n",
            "12  13        C     85\n",
            "13  14        C     87\n",
            "14  15        C     90\n",
            "15  16        D     40\n",
            "16  17        D     43\n",
            "17  18        D     45\n",
            "18  19        D     47\n",
            "19  20        D     50\n"
          ]
        }
      ]
    },
    {
      "cell_type": "code",
      "source": [
        "# Simple Random Sampling\n",
        "random_sample = df.sample(n=8, random_state=42)\n",
        "print(random_sample)"
      ],
      "metadata": {
        "colab": {
          "base_uri": "https://localhost:8080/"
        },
        "id": "6RzL6iHsg9Ni",
        "outputId": "5e499f81-9867-4e04-a6da-4d21cede4017"
      },
      "execution_count": 6,
      "outputs": [
        {
          "output_type": "stream",
          "name": "stdout",
          "text": [
            "    ID Category  Score\n",
            "0    1        A     55\n",
            "17  18        D     45\n",
            "15  16        D     40\n",
            "1    2        A     60\n",
            "8    9        B     59\n",
            "5    6        B     50\n",
            "11  12        C     83\n",
            "3    4        A     70\n"
          ]
        }
      ]
    },
    {
      "cell_type": "code",
      "source": [
        "# Stratified Sampling\n",
        "_, stratified_sample = train_test_split(df, test_size=0.4, stratify=df['Category'], random_state=42)\n",
        "print(stratified_sample.sort_values(by='Category'))"
      ],
      "metadata": {
        "colab": {
          "base_uri": "https://localhost:8080/"
        },
        "id": "A8vtkkUrhSFX",
        "outputId": "e12df688-edc8-4dd5-c761-53af9a94812a"
      },
      "execution_count": 7,
      "outputs": [
        {
          "output_type": "stream",
          "name": "stdout",
          "text": [
            "    ID Category  Score\n",
            "3    4        A     70\n",
            "0    1        A     55\n",
            "5    6        B     50\n",
            "9   10        B     62\n",
            "12  13        C     85\n",
            "14  15        C     90\n",
            "19  20        D     50\n",
            "18  19        D     47\n"
          ]
        }
      ]
    },
    {
      "cell_type": "markdown",
      "source": [
        "**5. Write a Python function to calculate the range of a dataset.**"
      ],
      "metadata": {
        "id": "ODgIkAgz4cW6"
      }
    },
    {
      "cell_type": "code",
      "source": [
        "def calculate_range(data):\n",
        "    if not data:\n",
        "        return None\n",
        "    return max(data) - min(data)\n",
        "\n",
        "data = [10, 20, 35, 40, 50]\n",
        "print(\"Range:\",calculate_range(data))"
      ],
      "metadata": {
        "colab": {
          "base_uri": "https://localhost:8080/"
        },
        "id": "ZsfzJ7JB9KLI",
        "outputId": "e80b84c4-429c-4691-fad7-e6a45b50a9cb"
      },
      "execution_count": 8,
      "outputs": [
        {
          "output_type": "stream",
          "name": "stdout",
          "text": [
            "Range: 40\n"
          ]
        }
      ]
    },
    {
      "cell_type": "markdown",
      "source": [
        "**6. Create a dataset and plot its histogram to visualize skewness.**"
      ],
      "metadata": {
        "id": "jbEsgz3c4cTo"
      }
    },
    {
      "cell_type": "code",
      "source": [
        "data = np.random.exponential(scale=2, size=1000)"
      ],
      "metadata": {
        "id": "3tFRs1Mi-H36"
      },
      "execution_count": 9,
      "outputs": []
    },
    {
      "cell_type": "code",
      "source": [
        "plt.figure(figsize=(8, 5))\n",
        "sns.histplot(data, bins=30, kde=True, color='skyblue')\n",
        "plt.title(\"Histogram to Visualize Skewness\")\n",
        "plt.xlabel(\"Values\")\n",
        "plt.ylabel(\"Frequency\")\n",
        "plt.grid(True)\n",
        "plt.show()"
      ],
      "metadata": {
        "colab": {
          "base_uri": "https://localhost:8080/",
          "height": 442
        },
        "id": "E1noSrON-NXy",
        "outputId": "6cb4f165-9279-4ac3-ae5b-6ef36493f298"
      },
      "execution_count": 10,
      "outputs": [
        {
          "output_type": "display_data",
          "data": {
            "text/plain": [
              "<Figure size 800x500 with 1 Axes>"
            ],
            "image/png": "[encoded data removed]"
          },
          "metadata": {}
        }
      ]
    },
    {
      "cell_type": "code",
      "source": [
        "print(f\"Skewness: {skew(data):.2f}\")"
      ],
      "metadata": {
        "colab": {
          "base_uri": "https://localhost:8080/"
        },
        "id": "xn_Yrp6o-Phf",
        "outputId": "98ddca5a-7825-42b1-d93d-ca91f3dacb7b"
      },
      "execution_count": 11,
      "outputs": [
        {
          "output_type": "stream",
          "name": "stdout",
          "text": [
            "Skewness: 1.74\n"
          ]
        }
      ]
    },
    {
      "cell_type": "markdown",
      "source": [
        "**7. Calculate skewness and kurtosis of a dataset using Python libraries.**"
      ],
      "metadata": {
        "id": "t3mt7mAs-auI"
      }
    },
    {
      "cell_type": "code",
      "source": [
        "data = np.array([1, 2, 3, 4, 5, 6, 7, 8, 9, 10, 20])\n",
        "\n",
        "skewness_scipy = skew(data)\n",
        "kurtosis_scipy = kurtosis(data)\n",
        "\n",
        "print(\"Skewness (SciPy):\", skewness_scipy)\n",
        "print(\"Kurtosis (SciPy):\", kurtosis_scipy)\n",
        "\n",
        "df = pd.DataFrame(data, columns=['values'])\n",
        "\n",
        "skewness_pandas = df['values'].skew()\n",
        "kurtosis_pandas = df['values'].kurt()\n",
        "\n",
        "print(\"Skewness (Pandas):\", skewness_pandas)\n",
        "print(\"Kurtosis (Pandas):\", kurtosis_pandas)\n"
      ],
      "metadata": {
        "colab": {
          "base_uri": "https://localhost:8080/"
        },
        "id": "FX3UmycU-Ry-",
        "outputId": "26e9ff21-61de-4efc-ed5e-85162d44be2e"
      },
      "execution_count": 12,
      "outputs": [
        {
          "output_type": "stream",
          "name": "stdout",
          "text": [
            "Skewness (SciPy): 1.4224377627393465\n",
            "Kurtosis (SciPy): 1.7438878158077733\n",
            "Skewness (Pandas): 1.657628123924868\n",
            "Kurtosis (Pandas): 3.7398130263462894\n"
          ]
        }
      ]
    },
    {
      "cell_type": "markdown",
      "source": [
        "**8. Generate a dataset and demonstrate positive and negative skewness.**"
      ],
      "metadata": {
        "id": "8fnFCvCO_3MH"
      }
    },
    {
      "cell_type": "code",
      "source": [
        "positive_skew_data = np.random.exponential(scale=2, size=1000)\n",
        "negative_skew_data = -np.random.exponential(scale=2, size=1000)\n",
        "\n",
        "# Plotting\n",
        "plt.figure(figsize=(14, 5))\n",
        "\n",
        "# Positive skew\n",
        "plt.subplot(1, 2, 1)\n",
        "sns.histplot(positive_skew_data, bins=10, kde=True, color='orange')\n",
        "plt.title(f\"Positive Skewness\\nSkew = {skew(positive_skew_data):.2f}\")\n",
        "\n",
        "# Negative skew\n",
        "plt.subplot(1, 2, 2)\n",
        "sns.histplot(negative_skew_data, bins=10, kde=True, color='blue')\n",
        "plt.title(f\"Negative Skewness\\nSkew = {skew(negative_skew_data):.2f}\")\n",
        "\n",
        "plt.tight_layout()\n",
        "plt.show()"
      ],
      "metadata": {
        "colab": {
          "base_uri": "https://localhost:8080/",
          "height": 238
        },
        "id": "iTdv7D8w_aWP",
        "outputId": "0d56edf1-c534-45d8-d43c-bbf4c4e8d651"
      },
      "execution_count": 13,
      "outputs": [
        {
          "output_type": "display_data",
          "data": {
            "text/plain": [
              "<Figure size 1400x500 with 2 Axes>"
            ],
            "image/png": "[encoded data removed]"
          },
          "metadata": {}
        }
      ]
    },
    {
      "cell_type": "markdown",
      "source": [
        "**9. Write a Python script to calculate covariance between two datasets.**"
      ],
      "metadata": {
        "id": "l0VFt26BBbmN"
      }
    },
    {
      "cell_type": "code",
      "source": [
        "x = [1.23, 2.12, 3.34, 4.5]\n",
        "y = [2.56, 2.89, 3.76, 3.95]\n",
        "\n",
        "cov_mat = np.stack((x, y), axis = 0)\n",
        "\n",
        "print(np.cov(cov_mat))"
      ],
      "metadata": {
        "colab": {
          "base_uri": "https://localhost:8080/"
        },
        "id": "cnusRNKdAl78",
        "outputId": "0fada5af-40ac-4e01-b326-7fb098b038b5"
      },
      "execution_count": 14,
      "outputs": [
        {
          "output_type": "stream",
          "name": "stdout",
          "text": [
            "[[2.03629167 0.9313    ]\n",
            " [0.9313     0.4498    ]]\n"
          ]
        }
      ]
    },
    {
      "cell_type": "markdown",
      "source": [
        "**10. Write a Python script to calculate the correlation coefficient between two datasets.**"
      ],
      "metadata": {
        "id": "tztzv15xCWs9"
      }
    },
    {
      "cell_type": "code",
      "source": [
        "x = [1.23, 2.12, 3.34, 4.5]\n",
        "y = [2.56, 2.89, 3.76, 3.95]\n",
        "\n",
        "corr_numpy = np.corrcoef(x, y)[0, 1]\n",
        "print(corr_numpy)"
      ],
      "metadata": {
        "colab": {
          "base_uri": "https://localhost:8080/"
        },
        "id": "xREBgM-SB2w2",
        "outputId": "c2b147e6-03d8-498d-a730-840c3798a5f8"
      },
      "execution_count": 15,
      "outputs": [
        {
          "output_type": "stream",
          "name": "stdout",
          "text": [
            "0.9731054064029682\n"
          ]
        }
      ]
    },
    {
      "cell_type": "markdown",
      "source": [
        "**11. Create a scatter plot to visualize the relationship between two variables.**"
      ],
      "metadata": {
        "id": "H6fr1E-KC9RM"
      }
    },
    {
      "cell_type": "code",
      "source": [
        "x = [2, 4, 6, 8, 10]\n",
        "y = [1, 3, 5, 7, 9]\n",
        "\n",
        "plt.scatter(x, y, color='blue', marker='o')\n",
        "plt.title('Scatter Plot of X vs Y')\n",
        "plt.xlabel('X values')\n",
        "plt.ylabel('Y values')\n",
        "plt.grid(True)\n",
        "plt.show()"
      ],
      "metadata": {
        "colab": {
          "base_uri": "https://localhost:8080/",
          "height": 472
        },
        "id": "y1O0F2WBC0TL",
        "outputId": "fda08e91-8e87-49d5-f0e8-1f87c0ae5aa2"
      },
      "execution_count": 16,
      "outputs": [
        {
          "output_type": "display_data",
          "data": {
            "text/plain": [
              "<Figure size 640x480 with 1 Axes>"
            ],
            "image/png": "[encoded data removed]"
          },
          "metadata": {}
        }
      ]
    },
    {
      "cell_type": "markdown",
      "source": [
        "**12. Implement and compare simple random sampling and systematic sampling.**"
      ],
      "metadata": {
        "id": "jXE-4F1LDQpP"
      }
    },
    {
      "cell_type": "code",
      "source": [
        "data = {'ID': range(1, 21), 'Value': np.random.randint(10, 100, 20)}\n",
        "df = pd.DataFrame(data)\n",
        "print(\"Original Dataset:\\n\", df)"
      ],
      "metadata": {
        "colab": {
          "base_uri": "https://localhost:8080/"
        },
        "id": "3eASf5wyDJMb",
        "outputId": "6e45823b-dfee-4887-b501-88a22f12e800"
      },
      "execution_count": 17,
      "outputs": [
        {
          "output_type": "stream",
          "name": "stdout",
          "text": [
            "Original Dataset:\n",
            "     ID  Value\n",
            "0    1     38\n",
            "1    2     94\n",
            "2    3     66\n",
            "3    4     59\n",
            "4    5     12\n",
            "5    6     42\n",
            "6    7     53\n",
            "7    8     96\n",
            "8    9     70\n",
            "9   10     10\n",
            "10  11     64\n",
            "11  12     12\n",
            "12  13     20\n",
            "13  14     99\n",
            "14  15     45\n",
            "15  16     89\n",
            "16  17     25\n",
            "17  18     99\n",
            "18  19     10\n",
            "19  20     22\n"
          ]
        }
      ]
    },
    {
      "cell_type": "code",
      "source": [
        "# Simple Random Sampling\n",
        "random_sample = df.sample(n=5, random_state=42)\n",
        "print(random_sample)"
      ],
      "metadata": {
        "colab": {
          "base_uri": "https://localhost:8080/"
        },
        "id": "BsVn8jDmiA1H",
        "outputId": "d744e9e9-411b-4d42-cd65-7edf6dca82e8"
      },
      "execution_count": 18,
      "outputs": [
        {
          "output_type": "stream",
          "name": "stdout",
          "text": [
            "    ID  Value\n",
            "0    1     38\n",
            "17  18     99\n",
            "15  16     89\n",
            "1    2     94\n",
            "8    9     70\n"
          ]
        }
      ]
    },
    {
      "cell_type": "code",
      "source": [
        "def systematic_sampling(df, step):\n",
        "    start = np.random.randint(0, step)\n",
        "    return df.iloc[start::step]\n",
        "\n",
        "# Systematic Sample with step size 4\n",
        "systematic_sample = systematic_sampling(df, step=4)\n",
        "print(systematic_sample)"
      ],
      "metadata": {
        "colab": {
          "base_uri": "https://localhost:8080/"
        },
        "id": "BGYduvLtiIBB",
        "outputId": "6c656340-0615-4311-eb3b-f5b2004b32ed"
      },
      "execution_count": 19,
      "outputs": [
        {
          "output_type": "stream",
          "name": "stdout",
          "text": [
            "    ID  Value\n",
            "0    1     38\n",
            "4    5     12\n",
            "8    9     70\n",
            "12  13     20\n",
            "16  17     25\n"
          ]
        }
      ]
    },
    {
      "cell_type": "markdown",
      "source": [
        "**13. Calculate the mean, median, and mode of grouped data.**"
      ],
      "metadata": {
        "id": "hIJSvmU0Hrvm"
      }
    },
    {
      "cell_type": "code",
      "source": [
        "import pandas as pd\n",
        "\n",
        "# Define grouped data\n",
        "data = {\n",
        "    'Class Interval': ['0-10', '10-20', '20-30', '30-40', '40-50'],\n",
        "    'Lower': [0, 10, 20, 30, 40],\n",
        "    'Upper': [10, 20, 30, 40, 50],\n",
        "    'Frequency': [5, 8, 15, 10, 2]\n",
        "}\n",
        "\n",
        "df = pd.DataFrame(data)\n",
        "\n",
        "# Step 1: Midpoint\n",
        "df['Midpoint'] = (df['Lower'] + df['Upper']) / 2\n",
        "\n",
        "# Step 2: Mean\n",
        "df['f*x'] = df['Frequency'] * df['Midpoint']\n",
        "mean = df['f*x'].sum() / df['Frequency'].sum()\n",
        "\n",
        "# Step 3: Median\n",
        "N = df['Frequency'].sum()\n",
        "cumulative_freq = df['Frequency'].cumsum()\n",
        "median_class_index = cumulative_freq[cumulative_freq >= N/2].index[0]\n",
        "\n",
        "L = df.loc[median_class_index, 'Lower']\n",
        "h = df.loc[median_class_index, 'Upper'] - df.loc[median_class_index, 'Lower']\n",
        "f = df.loc[median_class_index, 'Frequency']\n",
        "CF = cumulative_freq[median_class_index - 1] if median_class_index > 0 else 0\n",
        "median = L + ((N/2 - CF) / f) * h\n",
        "\n",
        "# Step 4: Mode\n",
        "modal_class_index = df['Frequency'].idxmax()\n",
        "f1 = df.loc[modal_class_index, 'Frequency']\n",
        "f0 = df.loc[modal_class_index - 1, 'Frequency'] if modal_class_index > 0 else 0\n",
        "f2 = df.loc[modal_class_index + 1, 'Frequency'] if modal_class_index + 1 < len(df) else 0\n",
        "L_mode = df.loc[modal_class_index, 'Lower']\n",
        "h_mode = df.loc[modal_class_index, 'Upper'] - df.loc[modal_class_index, 'Lower']\n",
        "mode = L_mode + ((f1 - f0) / (2*f1 - f0 - f2)) * h_mode\n",
        "\n",
        "# Display results\n",
        "print(\"Mean:\", round(mean, 2))\n",
        "print(\"Median:\", round(median, 2))\n",
        "print(\"Mode:\", round(mode, 2))"
      ],
      "metadata": {
        "colab": {
          "base_uri": "https://localhost:8080/"
        },
        "id": "7MmwQ84lItjF",
        "outputId": "67465c81-093e-451a-8260-dc9b5083f68f"
      },
      "execution_count": 20,
      "outputs": [
        {
          "output_type": "stream",
          "name": "stdout",
          "text": [
            "Mean: 24.0\n",
            "Median: 24.67\n",
            "Mode: 25.83\n"
          ]
        }
      ]
    },
    {
      "cell_type": "markdown",
      "source": [
        "**14. Simulate data using Python and calculate its central tendency and dispersion.**"
      ],
      "metadata": {
        "id": "OJSIXXwqHrsQ"
      }
    },
    {
      "cell_type": "code",
      "source": [
        "data=[13,15,20,67,35,44,25,9,8,16]\n",
        "\n",
        "# Central Tendency\n",
        "print(\"Mean:\", round(mean, 2))\n",
        "print(\"Median:\", round(median, 2))\n",
        "print(\"Mode:\", round(mode, 2))\n",
        "\n",
        "# Dispersion\n",
        "print(\"Variance:\", variance(data))\n",
        "print(\"Standard Deviation:\", stdev(data))\n",
        "print(\"Range:\", max(data) - min(data))"
      ],
      "metadata": {
        "colab": {
          "base_uri": "https://localhost:8080/"
        },
        "id": "2cV90_SxJlhR",
        "outputId": "d135cedf-b2f7-4fff-837f-9be4f0861d0a"
      },
      "execution_count": 24,
      "outputs": [
        {
          "output_type": "stream",
          "name": "stdout",
          "text": [
            "Mean: 24.0\n",
            "Median: 24.67\n",
            "Mode: 25.83\n",
            "Variance: 346.6222222222222\n",
            "Standard Deviation: 18.61779316197874\n",
            "Range: 59\n"
          ]
        }
      ]
    },
    {
      "cell_type": "markdown",
      "source": [
        "**15. Use NumPy or pandas to summarize a dataset’s descriptive statistics.**"
      ],
      "metadata": {
        "id": "Bwv5kaTuHrp4"
      }
    },
    {
      "cell_type": "code",
      "source": [
        "data=[13,15,20,67,35,44,25,9,8,16]\n",
        "\n",
        "df = pd.DataFrame(data, columns=[\"Scores\"])\n",
        "print(df.describe())"
      ],
      "metadata": {
        "colab": {
          "base_uri": "https://localhost:8080/"
        },
        "id": "_vykj_tyNCqW",
        "outputId": "46e56152-d672-480c-da4f-62e2d6c3f265"
      },
      "execution_count": 25,
      "outputs": [
        {
          "output_type": "stream",
          "name": "stdout",
          "text": [
            "          Scores\n",
            "count  10.000000\n",
            "mean   25.200000\n",
            "std    18.617793\n",
            "min     8.000000\n",
            "25%    13.500000\n",
            "50%    18.000000\n",
            "75%    32.500000\n",
            "max    67.000000\n"
          ]
        }
      ]
    },
    {
      "cell_type": "markdown",
      "source": [
        "**16. Plot a boxplot to understand the spread and identify outliers.**"
      ],
      "metadata": {
        "id": "mqxbZzUwHrnK"
      }
    },
    {
      "cell_type": "code",
      "source": [
        "data = [13, 15, 20, 67, 35, 44, 25, 9, 8, 16]\n",
        "\n",
        "df = pd.DataFrame(data, columns=[\"Scores\"])\n",
        "\n",
        "sns.set(style=\"whitegrid\")\n",
        "\n",
        "plt.figure(figsize=(6, 4))\n",
        "sns.boxplot(data=df, y=\"Scores\", color='skyblue')\n",
        "\n",
        "plt.title(\"Boxplot of Scores\")\n",
        "plt.tight_layout()\n",
        "plt.show()"
      ],
      "metadata": {
        "colab": {
          "base_uri": "https://localhost:8080/",
          "height": 401
        },
        "id": "1OK0DkSpNqiz",
        "outputId": "d182a97b-5d2f-4a7b-ae47-9c772ec734f2"
      },
      "execution_count": 26,
      "outputs": [
        {
          "output_type": "display_data",
          "data": {
            "text/plain": [
              "<Figure size 600x400 with 1 Axes>"
            ],
            "image/png": "[encoded data removed]"
          },
          "metadata": {}
        }
      ]
    },
    {
      "cell_type": "markdown",
      "source": [
        "**17. Calculate the interquartile range (IQR) of a dataset.**"
      ],
      "metadata": {
        "id": "Kjd8U1voHrkd"
      }
    },
    {
      "cell_type": "code",
      "source": [
        "data = [13, 15, 20, 67, 35, 44, 25, 9, 8, 16]\n",
        "\n",
        "q1 = np.percentile(data, 25)\n",
        "q3 = np.percentile(data, 75)\n",
        "\n",
        "iqr = q3 - q1\n",
        "\n",
        "print(\"Q1 (25th percentile):\", q1)\n",
        "print(\"Q3 (75th percentile):\", q3)\n",
        "print(\"Interquartile Range (IQR):\", iqr)"
      ],
      "metadata": {
        "colab": {
          "base_uri": "https://localhost:8080/"
        },
        "id": "4fKdMtNDOJty",
        "outputId": "904ad738-13b7-453d-d8ae-815eb28c2f4b"
      },
      "execution_count": 27,
      "outputs": [
        {
          "output_type": "stream",
          "name": "stdout",
          "text": [
            "Q1 (25th percentile): 13.5\n",
            "Q3 (75th percentile): 32.5\n",
            "Interquartile Range (IQR): 19.0\n"
          ]
        }
      ]
    },
    {
      "cell_type": "markdown",
      "source": [
        "**18. Implement Z-score normalization and explain its significance.**"
      ],
      "metadata": {
        "id": "uu46ozDZHrg8"
      }
    },
    {
      "cell_type": "code",
      "source": [
        "data = [13, 15, 20, 67, 35, 44, 25, 9, 8, 16]\n",
        "\n",
        "df = pd.DataFrame(data, columns=[\"Scores\"])\n",
        "\n",
        "df[\"Z-Score\"] = zscore(df[\"Scores\"])\n",
        "\n",
        "print(df)"
      ],
      "metadata": {
        "colab": {
          "base_uri": "https://localhost:8080/"
        },
        "id": "T4gEDQvvOmph",
        "outputId": "87b7e979-9823-44de-d7d8-4c2f7d0320c9"
      },
      "execution_count": 28,
      "outputs": [
        {
          "output_type": "stream",
          "name": "stdout",
          "text": [
            "   Scores   Z-Score\n",
            "0      13 -0.690733\n",
            "1      15 -0.577498\n",
            "2      20 -0.294411\n",
            "3      67  2.366611\n",
            "4      35  0.554851\n",
            "5      44  1.064409\n",
            "6      25 -0.011323\n",
            "7       9 -0.917203\n",
            "8       8 -0.973821\n",
            "9      16 -0.520881\n"
          ]
        }
      ]
    },
    {
      "cell_type": "markdown",
      "source": [
        "**19. Compare two datasets using their standard deviations.**"
      ],
      "metadata": {
        "id": "JoCEO6wjHrdk"
      }
    },
    {
      "cell_type": "code",
      "source": [
        "data_a = [48, 50, 52, 49, 51, 50, 50]\n",
        "data_b = [30, 45, 60, 50, 70, 40, 65]\n",
        "\n",
        "std_a = np.std(data_a)\n",
        "std_b = np.std(data_b)\n",
        "\n",
        "print(\"Standard Deviation of Dataset A:\", std_a)\n",
        "print(\"Standard Deviation of Dataset B:\", std_b)"
      ],
      "metadata": {
        "colab": {
          "base_uri": "https://localhost:8080/"
        },
        "id": "Du15OqxuO-eN",
        "outputId": "af276295-d1bc-4038-b10b-356485723d45"
      },
      "execution_count": 29,
      "outputs": [
        {
          "output_type": "stream",
          "name": "stdout",
          "text": [
            "Standard Deviation of Dataset A: 1.1952286093343936\n",
            "Standard Deviation of Dataset B: 13.286482312670197\n"
          ]
        }
      ]
    },
    {
      "cell_type": "markdown",
      "source": [
        "**20. Write a Python program to visualize covariance using a heatmap.**"
      ],
      "metadata": {
        "id": "UAcCdbR9HrWZ"
      }
    },
    {
      "cell_type": "code",
      "source": [
        "data = {\n",
        "    'Math_Score': [85, 78, 92, 88, 76, 95, 89],\n",
        "    'Science_Score': [80, 75, 91, 85, 78, 93, 87],\n",
        "    'English_Score': [70, 68, 75, 73, 69, 74, 72]\n",
        "}\n",
        "\n",
        "df = pd.DataFrame(data)\n",
        "\n",
        "cov_matrix = df.cov()\n",
        "\n",
        "plt.figure(figsize=(8, 6))\n",
        "sns.heatmap(cov_matrix, annot=True, cmap='coolwarm', fmt=\".2f\")\n",
        "plt.title(\"Covariance Matrix Heatmap\")\n",
        "plt.tight_layout()\n",
        "plt.show()"
      ],
      "metadata": {
        "colab": {
          "base_uri": "https://localhost:8080/",
          "height": 520
        },
        "id": "-6OTctfBPvYC",
        "outputId": "e9235cf7-478d-4d01-e9dd-14d9a638f678"
      },
      "execution_count": 30,
      "outputs": [
        {
          "output_type": "display_data",
          "data": {
            "text/plain": [
              "<Figure size 800x600 with 2 Axes>"
            ],
            "image/png": "[encoded data removed]"
          },
          "metadata": {}
        }
      ]
    },
    {
      "cell_type": "markdown",
      "source": [
        "**21. Use seaborn to create a correlation matrix for a dataset.**"
      ],
      "metadata": {
        "id": "OA-kfWFXHrS6"
      }
    },
    {
      "cell_type": "code",
      "source": [
        "data = {\n",
        "    'Math_Score': [85, 78, 92, 88, 76, 95, 89],\n",
        "    'Science_Score': [80, 75, 91, 85, 78, 93, 87],\n",
        "    'English_Score': [70, 68, 75, 73, 69, 74, 72],\n",
        "    'Attendance': [95, 88, 98, 96, 85, 100, 97]\n",
        "}\n",
        "\n",
        "df = pd.DataFrame(data)\n",
        "\n",
        "correlation_matrix = df.corr()\n",
        "\n",
        "plt.figure(figsize=(8, 6))\n",
        "sns.heatmap(correlation_matrix, annot=True, cmap='YlGnBu', fmt=\".2f\", linewidths=0.5)\n",
        "plt.title(\"Correlation Matrix Heatmap\")\n",
        "plt.tight_layout()\n",
        "plt.show()\n"
      ],
      "metadata": {
        "colab": {
          "base_uri": "https://localhost:8080/",
          "height": 509
        },
        "id": "xm-zUOvZdlZM",
        "outputId": "d08b41e9-a4b7-4302-8c57-4d576428d508"
      },
      "execution_count": 31,
      "outputs": [
        {
          "output_type": "display_data",
          "data": {
            "text/plain": [
              "<Figure size 800x600 with 2 Axes>"
            ],
            "image/png": "[encoded data removed]"
          },
          "metadata": {}
        }
      ]
    },
    {
      "cell_type": "markdown",
      "source": [
        "**22. Generate a dataset and implement both variance and standard deviation computations.**"
      ],
      "metadata": {
        "id": "94AIuCFFHrQa"
      }
    },
    {
      "cell_type": "code",
      "source": [
        "data = np.array([10, 12, 15, 18, 20, 22, 25])\n",
        "\n",
        "print(np.var(data))\n",
        "print(np.std(data))"
      ],
      "metadata": {
        "colab": {
          "base_uri": "https://localhost:8080/"
        },
        "id": "RIQE8UmAeJ3L",
        "outputId": "52dad947-6d53-4f69-b14c-e68ba486da69"
      },
      "execution_count": 32,
      "outputs": [
        {
          "output_type": "stream",
          "name": "stdout",
          "text": [
            "25.102040816326532\n",
            "5.010193690500052\n"
          ]
        }
      ]
    },
    {
      "cell_type": "markdown",
      "source": [
        "**23.  Visualize skewness and kurtosis using Python libraries like matplotlib or seaborn.**"
      ],
      "metadata": {
        "id": "_zaqjLQRHrNc"
      }
    },
    {
      "cell_type": "code",
      "source": [
        "data = [2, 3, 3, 4, 5, 6, 7, 10, 12, 15, 20, 25]\n",
        "\n",
        "df = pd.DataFrame(data, columns=['Value'])\n",
        "\n",
        "skew_val = skew(data)\n",
        "kurtosis_val = kurtosis(data)\n",
        "\n",
        "plt.figure(figsize=(10, 5))\n",
        "sns.histplot(df['Value'], bins=10, kde=True, color='skyblue')\n",
        "plt.title(f\"Skewness = {skew_val:.2f} | Kurtosis = {kurtosis_val:.2f}\")\n",
        "plt.xlabel(\"Values\")\n",
        "plt.ylabel(\"Frequency\")\n",
        "plt.grid(True)\n",
        "plt.tight_layout()\n",
        "plt.show()"
      ],
      "metadata": {
        "colab": {
          "base_uri": "https://localhost:8080/",
          "height": 326
        },
        "id": "FrR2AujAe6Vo",
        "outputId": "95b36e3c-54ae-4866-d989-9d6270045815"
      },
      "execution_count": 33,
      "outputs": [
        {
          "output_type": "display_data",
          "data": {
            "text/plain": [
              "<Figure size 1000x500 with 1 Axes>"
            ],
            "image/png": "[encoded data removed]"
          },
          "metadata": {}
        }
      ]
    },
    {
      "cell_type": "markdown",
      "source": [
        "**24.  Implement the Pearson and Spearman correlation coefficients for a dataset.**"
      ],
      "metadata": {
        "id": "bPuV-67kIVzX"
      }
    },
    {
      "cell_type": "code",
      "source": [
        "x = [10, 20, 30, 40, 50, 60, 70]\n",
        "y = [12, 24, 33, 45, 48, 60, 68]\n",
        "\n",
        "pearson_corr, _ = pearsonr(x, y)\n",
        "\n",
        "spearman_corr, _ = spearmanr(x, y)\n",
        "\n",
        "print(\"Pearson Correlation Coefficient:\", round(pearson_corr, 3))\n",
        "\n",
        "print(\"Spearman Correlation Coefficient:\", round(spearman_corr, 3))"
      ],
      "metadata": {
        "colab": {
          "base_uri": "https://localhost:8080/"
        },
        "id": "0xs3QMY1IYiT",
        "outputId": "14c558d1-80cb-4278-918c-9c3b4a8eda96"
      },
      "execution_count": 34,
      "outputs": [
        {
          "output_type": "stream",
          "name": "stdout",
          "text": [
            "Pearson Correlation Coefficient: 0.995\n",
            "Spearman Correlation Coefficient: 1.0\n"
          ]
        }
      ]
    }
  ]
}